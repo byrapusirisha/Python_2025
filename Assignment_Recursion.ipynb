{
 "cells": [
  {
   "cell_type": "markdown",
   "id": "b28e7356-d3ff-4d6f-864b-91d965811dcc",
   "metadata": {},
   "source": [
    "**WAP to calculate factorial of a number**"
   ]
  },
  {
   "cell_type": "code",
   "execution_count": 37,
   "id": "dad90146-897e-4351-9b2d-e95de073ef16",
   "metadata": {},
   "outputs": [
    {
     "name": "stdout",
     "output_type": "stream",
     "text": [
      "120\n"
     ]
    }
   ],
   "source": [
    "def factorial(num):\n",
    "    if num==0:\n",
    "        return 1;\n",
    "    else:\n",
    "        fact=num*factorial(num-1);\n",
    "        return fact;\n",
    "       \n",
    "        \n",
    "val=factorial(5);\n",
    "print(val);"
   ]
  },
  {
   "cell_type": "markdown",
   "id": "8f985dbb-b90c-4307-99f3-c34a445c9914",
   "metadata": {},
   "source": [
    "**WAP to perform calculator operations**"
   ]
  },
  {
   "cell_type": "code",
   "execution_count": null,
   "id": "d49c974a-e750-42a0-9f17-e5ae65e8666d",
   "metadata": {},
   "outputs": [
    {
     "name": "stdin",
     "output_type": "stream",
     "text": [
      "enter number between 1 to 4 3\n",
      "enter number 1 100\n"
     ]
    }
   ],
   "source": [
    "def add(a,b):\n",
    "    return a+b;\n",
    "def div(a,b):\n",
    "    return a/b;\n",
    "def mul(a,b):\n",
    "    return a*b;\n",
    "def sub(a,b):\n",
    "    return a-b;\n",
    "def main():\n",
    "    option= eval(input(\"enter number between 1 to 4\"));\n",
    "    if option==1:\n",
    "        a=eval(input(\"enter number 1\"));\n",
    "        b=eval(input(\"enter number 2\"));\n",
    "        print(add(a,b));\n",
    "    if option==2:\n",
    "        a=eval(input(\"enter number 1\"));\n",
    "        b=eval(input(\"enter number 2\"));\n",
    "        print(div(a,b));\n",
    "    if option==3:\n",
    "        a=eval(input(\"enter number 1\"));\n",
    "        b=eval(input(\"enter number 2\"));\n",
    "        print(mul(a,b));\n",
    "    if option==4:\n",
    "        a=eval(input(\"enter number 1\"));\n",
    "        b=eval(input(\"enter number 2\"));\n",
    "        print(sub(a,b));\n",
    "main();"
   ]
  },
  {
   "cell_type": "code",
   "execution_count": null,
   "id": "127278f3-002d-45a5-a614-e10dcb1d049f",
   "metadata": {},
   "outputs": [],
   "source": []
  }
 ],
 "metadata": {
  "kernelspec": {
   "display_name": "Python [conda env:base] *",
   "language": "python",
   "name": "conda-base-py"
  },
  "language_info": {
   "codemirror_mode": {
    "name": "ipython",
    "version": 3
   },
   "file_extension": ".py",
   "mimetype": "text/x-python",
   "name": "python",
   "nbconvert_exporter": "python",
   "pygments_lexer": "ipython3",
   "version": "3.12.7"
  }
 },
 "nbformat": 4,
 "nbformat_minor": 5
}
