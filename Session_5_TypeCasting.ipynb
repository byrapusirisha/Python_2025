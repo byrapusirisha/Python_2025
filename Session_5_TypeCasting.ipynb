{
 "cells": [
  {
   "cell_type": "markdown",
   "id": "d6ec85f8-bcdb-412a-b2fb-5bf409c4fff9",
   "metadata": {},
   "source": [
    "**Type Casting**"
   ]
  },
  {
   "cell_type": "markdown",
   "id": "6f8c946d-d0bb-4b1b-b98a-d375145a0334",
   "metadata": {},
   "source": [
    "- Convert One Data type to another\n",
    "\n",
    "- Data Types\n",
    "    - integer - int\n",
    "    - string  - str\n",
    "    - boolean - bool\n",
    "    - float - float"
   ]
  },
  {
   "cell_type": "markdown",
   "id": "693abf5e-340e-4ce6-96e0-65b3e35bffe2",
   "metadata": {},
   "source": [
    "**int to other data types**"
   ]
  },
  {
   "cell_type": "code",
   "execution_count": 27,
   "id": "5a55e1f6-5804-4edb-8299-2ebd55771a9a",
   "metadata": {},
   "outputs": [
    {
     "data": {
      "text/plain": [
       "int"
      ]
     },
     "execution_count": 27,
     "metadata": {},
     "output_type": "execute_result"
    }
   ],
   "source": [
    "number =100;\n",
    "type(number)"
   ]
  },
  {
   "cell_type": "code",
   "execution_count": 39,
   "id": "0ceb4d30-9013-432a-b738-318b6f986096",
   "metadata": {},
   "outputs": [
    {
     "name": "stdout",
     "output_type": "stream",
     "text": [
      "100.0\n"
     ]
    },
    {
     "data": {
      "text/plain": [
       "float"
      ]
     },
     "execution_count": 39,
     "metadata": {},
     "output_type": "execute_result"
    }
   ],
   "source": [
    "# int to float\n",
    "floatnumber=float(number) \n",
    "print(floatnumber)\n",
    "type(floatnumber)\n"
   ]
  },
  {
   "cell_type": "code",
   "execution_count": 41,
   "id": "083817ee-1c49-4a5a-894e-0ffbacd18356",
   "metadata": {},
   "outputs": [
    {
     "name": "stdout",
     "output_type": "stream",
     "text": [
      "100\n",
      "<class 'str'>\n"
     ]
    }
   ],
   "source": [
    "# int to String\n",
    "strNum= str(number)\n",
    "print(strNum);\n",
    "print(type(strNum));"
   ]
  },
  {
   "cell_type": "code",
   "execution_count": 43,
   "id": "c62abc2c-5a73-4db7-b484-8d11688a4dbd",
   "metadata": {},
   "outputs": [
    {
     "name": "stdout",
     "output_type": "stream",
     "text": [
      "True\n",
      "<class 'bool'>\n"
     ]
    }
   ],
   "source": [
    "# int to boolean\n",
    "boolNum= bool(number);\n",
    "print(boolNum);\n",
    "print(type(boolNum));"
   ]
  },
  {
   "cell_type": "code",
   "execution_count": 45,
   "id": "c71ffef4-9727-4798-a289-9c23f6139b49",
   "metadata": {},
   "outputs": [
    {
     "name": "stdout",
     "output_type": "stream",
     "text": [
      "0.0\n",
      "False\n"
     ]
    }
   ],
   "source": [
    "print(float(0))\n",
    "print(bool(0))"
   ]
  },
  {
   "cell_type": "markdown",
   "id": "24e5fbd2-6875-4ccc-8206-89fa19b72923",
   "metadata": {},
   "source": [
    "**float to other data types**"
   ]
  },
  {
   "cell_type": "code",
   "execution_count": 53,
   "id": "aaadf870-ac6a-4528-aa09-761521b82ea1",
   "metadata": {},
   "outputs": [
    {
     "name": "stdout",
     "output_type": "stream",
     "text": [
      "10\n",
      "10.0\n",
      "True\n",
      "False\n"
     ]
    }
   ],
   "source": [
    "print(int(10.0));\n",
    "print(str(10.0));\n",
    "print(bool(10.0));\n",
    "print(bool(0.0));\n"
   ]
  },
  {
   "cell_type": "code",
   "execution_count": 55,
   "id": "abea5569-6082-4e98-966d-055917efabe4",
   "metadata": {},
   "outputs": [
    {
     "data": {
      "text/plain": [
       "'10.0'"
      ]
     },
     "execution_count": 55,
     "metadata": {},
     "output_type": "execute_result"
    }
   ],
   "source": [
    "str(10.0)"
   ]
  },
  {
   "cell_type": "markdown",
   "id": "4fe17e7c-bed8-4cce-916e-ebe627ee5a69",
   "metadata": {},
   "source": [
    "**String to other data types**"
   ]
  },
  {
   "cell_type": "code",
   "execution_count": 74,
   "id": "12f0aafb-8470-4b62-b2c2-fde1b05280a3",
   "metadata": {},
   "outputs": [
    {
     "name": "stdout",
     "output_type": "stream",
     "text": [
      "10\n",
      "False\n",
      "True\n"
     ]
    }
   ],
   "source": [
    "print(int('10'));\n",
    "print(bool(''));\n",
    "print(bool('true'));"
   ]
  },
  {
   "cell_type": "markdown",
   "id": "0fb266ac-7300-4e32-b494-b3549fa34de7",
   "metadata": {},
   "source": [
    "- for number 0 and  0.00 boolean conversion gives **False**\n",
    "- for strings empty value boolean conversion gives **False**"
   ]
  },
  {
   "cell_type": "code",
   "execution_count": 87,
   "id": "66c44bc7-14bb-4ad6-a3d9-989a60c9a0d8",
   "metadata": {},
   "outputs": [
    {
     "name": "stdout",
     "output_type": "stream",
     "text": [
      "10.0\n",
      "10\n",
      "True\n"
     ]
    }
   ],
   "source": [
    "print(float('10'));\n",
    "print(int('10'));\n",
    "print(bool('10'));"
   ]
  },
  {
   "cell_type": "code",
   "execution_count": 97,
   "id": "47f0d546-ee45-42d8-8179-731a8154d721",
   "metadata": {},
   "outputs": [
    {
     "name": "stdout",
     "output_type": "stream",
     "text": [
      "10.5\n"
     ]
    }
   ],
   "source": [
    "print(float('10.5'));"
   ]
  },
  {
   "cell_type": "code",
   "execution_count": 99,
   "id": "4c29c9e3-6c93-42ba-a46c-a201b286f49a",
   "metadata": {},
   "outputs": [
    {
     "ename": "ValueError",
     "evalue": "invalid literal for int() with base 10: '10.5'",
     "output_type": "error",
     "traceback": [
      "\u001b[1;31m---------------------------------------------------------------------------\u001b[0m",
      "\u001b[1;31mValueError\u001b[0m                                Traceback (most recent call last)",
      "Cell \u001b[1;32mIn[99], line 1\u001b[0m\n\u001b[1;32m----> 1\u001b[0m \u001b[38;5;28mint\u001b[39m(\u001b[38;5;124m'\u001b[39m\u001b[38;5;124m10.5\u001b[39m\u001b[38;5;124m'\u001b[39m)\n",
      "\u001b[1;31mValueError\u001b[0m: invalid literal for int() with base 10: '10.5'"
     ]
    }
   ],
   "source": [
    "int('10.5');"
   ]
  },
  {
   "cell_type": "markdown",
   "id": "05023dbe-ffb0-4048-9cd7-0d5c5d776ed9",
   "metadata": {},
   "source": [
    "**boolean to other types**"
   ]
  },
  {
   "cell_type": "code",
   "execution_count": 104,
   "id": "21dcdaee-4533-4bb8-9ccf-6d152ba36680",
   "metadata": {},
   "outputs": [
    {
     "name": "stdout",
     "output_type": "stream",
     "text": [
      "1\n",
      "0\n",
      "True\n",
      "False\n",
      "1.0\n"
     ]
    }
   ],
   "source": [
    "print(int(True))\n",
    "print(int(False));\n",
    "print(str(True));\n",
    "print(str(False));\n",
    "print(float(True));"
   ]
  },
  {
   "cell_type": "code",
   "execution_count": 106,
   "id": "8c0ee409-910e-42c4-872e-12901a34dcc9",
   "metadata": {},
   "outputs": [
    {
     "name": "stdout",
     "output_type": "stream",
     "text": [
      "10\n"
     ]
    }
   ],
   "source": [
    "print(int(10.5))"
   ]
  },
  {
   "cell_type": "code",
   "execution_count": 108,
   "id": "2c384fc4-e0f1-4ba2-90ea-0edab5c5f698",
   "metadata": {},
   "outputs": [
    {
     "name": "stdout",
     "output_type": "stream",
     "text": [
      "10.0\n",
      "10\n",
      "True\n",
      "10\n",
      "10.5\n",
      "True\n"
     ]
    },
    {
     "ename": "ValueError",
     "evalue": "could not convert string to float: 'apple'",
     "output_type": "error",
     "traceback": [
      "\u001b[1;31m---------------------------------------------------------------------------\u001b[0m",
      "\u001b[1;31mValueError\u001b[0m                                Traceback (most recent call last)",
      "Cell \u001b[1;32mIn[108], line 7\u001b[0m\n\u001b[0;32m      5\u001b[0m \u001b[38;5;28mprint\u001b[39m(\u001b[38;5;28mstr\u001b[39m(\u001b[38;5;241m10.5\u001b[39m))\n\u001b[0;32m      6\u001b[0m \u001b[38;5;28mprint\u001b[39m(\u001b[38;5;28mbool\u001b[39m(\u001b[38;5;241m10.5\u001b[39m))\n\u001b[1;32m----> 7\u001b[0m \u001b[38;5;28mprint\u001b[39m(\u001b[38;5;28mfloat\u001b[39m(\u001b[38;5;124m'\u001b[39m\u001b[38;5;124mapple\u001b[39m\u001b[38;5;124m'\u001b[39m))\n\u001b[0;32m      8\u001b[0m \u001b[38;5;28mprint\u001b[39m(\u001b[38;5;28mint\u001b[39m(\u001b[38;5;124m'\u001b[39m\u001b[38;5;124mapple\u001b[39m\u001b[38;5;124m'\u001b[39m))\n\u001b[0;32m      9\u001b[0m \u001b[38;5;28mprint\u001b[39m(\u001b[38;5;28mbool\u001b[39m(\u001b[38;5;124m'\u001b[39m\u001b[38;5;124mapple\u001b[39m\u001b[38;5;124m'\u001b[39m))\n",
      "\u001b[1;31mValueError\u001b[0m: could not convert string to float: 'apple'"
     ]
    }
   ],
   "source": [
    "print(float(10))\n",
    "print(str(10))\n",
    "print(bool(10))\n",
    "print(int(10.5))\n",
    "print(str(10.5))\n",
    "print(bool(10.5))\n",
    "print(float('apple'))\n",
    "print(int('apple'))\n",
    "print(bool('apple'))\n"
   ]
  },
  {
   "cell_type": "code",
   "execution_count": null,
   "id": "7c121022-0f3c-4a1e-a093-ed4404fc531e",
   "metadata": {},
   "outputs": [],
   "source": []
  }
 ],
 "metadata": {
  "kernelspec": {
   "display_name": "Python [conda env:base] *",
   "language": "python",
   "name": "conda-base-py"
  },
  "language_info": {
   "codemirror_mode": {
    "name": "ipython",
    "version": 3
   },
   "file_extension": ".py",
   "mimetype": "text/x-python",
   "name": "python",
   "nbconvert_exporter": "python",
   "pygments_lexer": "ipython3",
   "version": "3.12.7"
  }
 },
 "nbformat": 4,
 "nbformat_minor": 5
}
