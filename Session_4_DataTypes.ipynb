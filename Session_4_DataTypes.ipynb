{
 "cells": [
  {
   "cell_type": "markdown",
   "id": "91406f1d-9278-4d96-a7cb-7e3c8dd11e03",
   "metadata": {},
   "source": [
    "# Data Types"
   ]
  },
  {
   "cell_type": "markdown",
   "id": "fe49c4f6-f7b5-44fb-a3a1-536979e93e66",
   "metadata": {},
   "source": [
    "- integer : int\n",
    "  \n",
    "- string\n",
    "  \n",
    "- float\n",
    "   \n",
    "- list\n",
    "  \n",
    "- tuple\n",
    "  \n",
    "- set\n",
    "   - forzen set\n",
    "     \n",
    "- dictionary\n",
    "\n",
    "- boolean\n",
    "\n",
    "- complex\n",
    "\n",
    "- range\n",
    "\n",
    "- byte\n",
    "\n",
    "- byte array\n",
    "\n",
    "- memory view\n",
    "\n",
    "- None type"
   ]
  },
  {
   "cell_type": "markdown",
   "id": "e75e2470-9083-4a12-a8cf-32749eb601bc",
   "metadata": {},
   "source": [
    "$integer$"
   ]
  },
  {
   "cell_type": "code",
   "execution_count": 8,
   "id": "e952ce06-e15a-41fa-a6bf-c93755ef7fb4",
   "metadata": {},
   "outputs": [
    {
     "name": "stdout",
     "output_type": "stream",
     "text": [
      "100\n"
     ]
    },
    {
     "data": {
      "text/plain": [
       "int"
      ]
     },
     "execution_count": 8,
     "metadata": {},
     "output_type": "execute_result"
    }
   ],
   "source": [
    "number = 100;\n",
    "print(number)\n",
    "type(number)"
   ]
  },
  {
   "cell_type": "markdown",
   "id": "75dfc61d-bbf1-453b-a8ff-8b6ac983f8e4",
   "metadata": {},
   "source": [
    "**Number Systems**\n",
    "- Binary Number System\n",
    "  \n",
    "- Decimal Number System\n",
    "\n",
    "- Octa Number System\n",
    "\n",
    "- Hexa Number System"
   ]
  },
  {
   "cell_type": "markdown",
   "id": "0f757d5b-7cba-4c88-8bc0-dbaabd803fea",
   "metadata": {},
   "source": [
    "**Binary number sustem**\n",
    "\n",
    "- it is denoted with **ob** or **0B**\n",
    "\n",
    "- Binary means two\n",
    "\n",
    "- we have generally 0 to 9 digits available\n",
    "\n",
    "- binary means only two digits allowed : 0 and 1\n",
    "\n",
    "- ex: 0b101 ob111 0b000\n",
    "\n",
    "- not valid : 0b123 (becasue 2 & 3 are there but oly 0 & 1 are valid)"
   ]
  },
  {
   "cell_type": "code",
   "execution_count": 14,
   "id": "ed2ac0de-ba2f-4853-aae5-5bc2703ea312",
   "metadata": {},
   "outputs": [
    {
     "ename": "SyntaxError",
     "evalue": "invalid digit '2' in binary literal (2977364075.py, line 1)",
     "output_type": "error",
     "traceback": [
      "\u001b[1;36m  Cell \u001b[1;32mIn[14], line 1\u001b[1;36m\u001b[0m\n\u001b[1;33m    0b112\u001b[0m\n\u001b[1;37m        ^\u001b[0m\n\u001b[1;31mSyntaxError\u001b[0m\u001b[1;31m:\u001b[0m invalid digit '2' in binary literal\n"
     ]
    }
   ],
   "source": [
    "0b112\n"
   ]
  },
  {
   "cell_type": "code",
   "execution_count": 16,
   "id": "9d1820c5-45e0-45b3-9693-148a5f566f1b",
   "metadata": {},
   "outputs": [
    {
     "data": {
      "text/plain": [
       "7"
      ]
     },
     "execution_count": 16,
     "metadata": {},
     "output_type": "execute_result"
    }
   ],
   "source": [
    "0b111\n"
   ]
  },
  {
   "cell_type": "markdown",
   "id": "760a46b5-cb7a-461f-83ee-11fddc2ba990",
   "metadata": {},
   "source": [
    "- 2^2   2^1  2^0\n",
    "- 4      2    1\n",
    "- #########################\n",
    "\n",
    "- 0      0    0  -  0\n",
    "- 0      0    1  - 1\n",
    "- 0      1    0  - 2\n",
    "- 0      1    1  - 3\n",
    "- 1      0    0  - 4\n",
    "- 1      0    1  - 5\n",
    "- 1      1    0  - 6\n",
    "- 1      1    1  - 7"
   ]
  },
  {
   "cell_type": "markdown",
   "id": "94c68154-b08a-4f79-a5a6-65390c117654",
   "metadata": {},
   "source": [
    "- 8  4  2  1\n",
    "- 0  0  0  0  - 0\n",
    "- 0  0  0  1  - 1\n",
    "- 0  0  1  0  - 2\n",
    "- 0  0  1  1  - 3\n",
    "- 0  1  0  0  - 4\n",
    "- 0  1  0  1  - 5\n",
    "- 0  1  1  0  - 6\n",
    "- 0  1  1  1  - 7\n",
    "- 1  0  0  0  - 8 \n",
    "- 1  0  0  1  - 9\n",
    "- 1  0  1  0  - 10\n",
    "- 1  0  1  1  - 11\n",
    "- 1  1  0  0  - 12\n",
    "- 1  1  0  1  - 13\n",
    "- 1  1  1  0  - 14\n",
    "- 1  1  1  1  - 15\n",
    "  \n"
   ]
  },
  {
   "cell_type": "markdown",
   "id": "8872b6a3-bedb-4895-90bd-fafb325253b1",
   "metadata": {},
   "source": [
    "**Octa Number System**\n",
    "- it is denoted with **0o** or **0o**\n",
    "  \n",
    "- Octa means 8\n",
    "\n",
    "- we have generally 0 to 9 digits available\n",
    "\n",
    "- octa means only 8 digits allowed : 0 1 2 3 4 5 6 7\n",
    "\n",
    "- ex 0o123"
   ]
  },
  {
   "cell_type": "code",
   "execution_count": 22,
   "id": "0dbdd4fd-a693-4aa7-9348-eac0705b667b",
   "metadata": {},
   "outputs": [
    {
     "data": {
      "text/plain": [
       "83"
      ]
     },
     "execution_count": 22,
     "metadata": {},
     "output_type": "execute_result"
    }
   ],
   "source": [
    "0o123\n"
   ]
  },
  {
   "cell_type": "markdown",
   "id": "fd1570c1-8d1a-4b4f-b474-41377e3302bc",
   "metadata": {},
   "source": [
    "  1    2    3\n",
    "- 8^2 8^1 8^0\n",
    "- 64*1  8*2   1\n",
    "\n"
   ]
  },
  {
   "cell_type": "code",
   "execution_count": 25,
   "id": "00d671c2-41e2-4310-ab2a-b789ca53bde1",
   "metadata": {},
   "outputs": [
    {
     "name": "stdout",
     "output_type": "stream",
     "text": [
      "375\n"
     ]
    }
   ],
   "source": [
    "print(64*5+8*6+1*7)"
   ]
  },
  {
   "cell_type": "markdown",
   "id": "8497de80-5720-4492-97aa-3ea742470195",
   "metadata": {},
   "source": [
    "**Hexa Number System**\n",
    "\n",
    "- it is denoted with **0x** or **0X**\n",
    "\n",
    "-  we have generally 0 to 9 digits and A to F\n",
    "\n",
    "-  A: 10 B:11  C:12  D:13  E:14  F:15\n",
    "\n",
    "-  ex: 0XABC  0X12A  0XA1"
   ]
  },
  {
   "cell_type": "markdown",
   "id": "8665ab22-2a37-440a-a09f-08e6e50626ef",
   "metadata": {},
   "source": [
    "**2025**\n",
    "\n",
    "**2025 in Binary**\n",
    "\n",
    "- 2025--> 1012 (1)\n",
    "- 1024--> 506 (0)\n",
    "- 512 --> 253 (0)\n",
    "- 256 --> 126 (1)\n",
    "- 123 --> 63 (0)\n",
    "- 61  --> 31 (1)\n",
    "- 30  --> 15 (1)\n",
    "- 15  --> 7 (1)\n",
    "- 7   --> 3 (1)\n",
    "- 3  ---> 1 (1)\n",
    "\n",
    "- 1111101001\n",
    "\n",
    "**2025 in Octa**\n",
    "\n",
    "divide 2025 / 8 untill we get remainder as 0 and write remainders in reverse order\n",
    "\n",
    "- 2025/8 --> 253 --> 1\n",
    "- 253/8 ---> 31  --> 5\n",
    "- 31/8  ---> 3   --> 7\n",
    "- 3/8   ---> 0   --> 3\n",
    "\n",
    "**3751**\n",
    "\n",
    "**2025 in Hexa**\n",
    "\n",
    "divide 2025 / 16 untill we get remainder as 0 and write remainders in reverse order\n",
    "\n",
    "- 2025/16 ---> 126 ---> 9\n",
    "- 126/16  ---> 7 ----> 14 (E) ## representation of 14 in Hexa\n",
    "- 7/16    ---> 0 ----> 7\n",
    "- \n",
    " **7E9**\n",
    "\n",
    "\n",
    "\n"
   ]
  },
  {
   "cell_type": "markdown",
   "id": "c346bc53-a413-45e5-9602-a7557775bb6a",
   "metadata": {},
   "source": [
    "**float**"
   ]
  },
  {
   "cell_type": "code",
   "execution_count": 47,
   "id": "137f99d7-2945-4aea-971f-5eb0ee60f126",
   "metadata": {},
   "outputs": [
    {
     "name": "stdout",
     "output_type": "stream",
     "text": [
      "10.0\n",
      "100.0\n",
      "1000.0\n",
      "2000.0\n",
      "40000.0\n"
     ]
    }
   ],
   "source": [
    "print(1e1)   # 1* 10 =10\n",
    "print(1e2)  # 1*100 = 100\n",
    "print(1e3)   # 1*1000 = 1000\n",
    "print(2e3)   # 2*1000 = 2000\n",
    "print(4e4)  #4*10000 = 40000\n"
   ]
  },
  {
   "cell_type": "code",
   "execution_count": 35,
   "id": "27134972-b7ed-426a-8a8c-a3b42a0fecf4",
   "metadata": {},
   "outputs": [
    {
     "data": {
      "text/plain": [
       "20000.0"
      ]
     },
     "execution_count": 35,
     "metadata": {},
     "output_type": "execute_result"
    }
   ],
   "source": [
    "2e4  # 2* 10000"
   ]
  },
  {
   "cell_type": "code",
   "execution_count": 45,
   "id": "d504d9dc-ff64-4410-a7c7-d49a42fa8cbd",
   "metadata": {},
   "outputs": [
    {
     "name": "stdout",
     "output_type": "stream",
     "text": [
      "10.0\n",
      "100.0\n",
      "2000.0\n",
      "40000.0\n"
     ]
    }
   ],
   "source": [
    "print(1e+1); # 1* 10 =10\n",
    "print(1e+2);  # 1*100 = 100\n",
    "print(2e+3);# 2*1000 = 2000\n",
    "print(4e+4)#4*10000 = 40000\n",
    "\n"
   ]
  },
  {
   "cell_type": "code",
   "execution_count": 53,
   "id": "017c2279-b77c-497b-a569-ac92e5bce4bd",
   "metadata": {},
   "outputs": [
    {
     "name": "stdout",
     "output_type": "stream",
     "text": [
      "0.1\n",
      "0.01\n",
      "0.002\n",
      "0.0004\n"
     ]
    }
   ],
   "source": [
    "print(1e-1);  # 1/ 10 =0.1\n",
    "print(1e-2); # 1/100 = 0.01\n",
    "print(2e-3);  #2/1000 0.002\n",
    "print(4e-4); # 4/10000 = 0.0004"
   ]
  },
  {
   "cell_type": "markdown",
   "id": "fad0c227-de01-4380-b814-02df5d7bdd5f",
   "metadata": {},
   "source": [
    "**Bolean Data Type**\n"
   ]
  },
  {
   "cell_type": "code",
   "execution_count": 2,
   "id": "0868a170-9509-4e19-9bde-981c9ee88e3e",
   "metadata": {},
   "outputs": [
    {
     "data": {
      "text/plain": [
       "False"
      ]
     },
     "execution_count": 2,
     "metadata": {},
     "output_type": "execute_result"
    }
   ],
   "source": [
    "v"
   ]
  },
  {
   "cell_type": "markdown",
   "id": "8919fe77-bab0-4a5a-b4b0-33739501727f",
   "metadata": {},
   "source": [
    "**Strings**"
   ]
  },
  {
   "cell_type": "markdown",
   "id": "417724b9-11d4-4901-9919-b47787a3da05",
   "metadata": {},
   "source": [
    " - English Format Representation\n",
    " - String representation with quotes\n",
    " - we can use single or double quotes"
   ]
  },
  {
   "cell_type": "code",
   "execution_count": 9,
   "id": "cc097868-7939-410c-9ce7-0caff7a6e54e",
   "metadata": {},
   "outputs": [
    {
     "data": {
      "text/plain": [
       "'python'"
      ]
     },
     "execution_count": 9,
     "metadata": {},
     "output_type": "execute_result"
    }
   ],
   "source": [
    "name = 'python'\n",
    "name"
   ]
  },
  {
   "cell_type": "code",
   "execution_count": 11,
   "id": "39bd409f-17cd-4192-a715-2e4b4d7e03bc",
   "metadata": {},
   "outputs": [
    {
     "data": {
      "text/plain": [
       "str"
      ]
     },
     "execution_count": 11,
     "metadata": {},
     "output_type": "execute_result"
    }
   ],
   "source": [
    "type(name)"
   ]
  },
  {
   "cell_type": "code",
   "execution_count": 13,
   "id": "c9970e7b-17a9-4063-ab43-d1a47b8d53cf",
   "metadata": {},
   "outputs": [
    {
     "name": "stdout",
     "output_type": "stream",
     "text": [
      "python\n"
     ]
    }
   ],
   "source": [
    "print(name)"
   ]
  },
  {
   "cell_type": "code",
   "execution_count": 16,
   "id": "6fb1f7aa-8dbe-471f-ae26-17bb2a565ef4",
   "metadata": {},
   "outputs": [
    {
     "data": {
      "text/plain": [
       "str"
      ]
     },
     "execution_count": 16,
     "metadata": {},
     "output_type": "execute_result"
    }
   ],
   "source": [
    "val =\"10\"\n",
    "type(val)"
   ]
  },
  {
   "cell_type": "code",
   "execution_count": 24,
   "id": "b83ced1b-fc6d-4e97-9521-d7e867b13f58",
   "metadata": {},
   "outputs": [
    {
     "name": "stdout",
     "output_type": "stream",
     "text": [
      "I love \"python\"\n"
     ]
    }
   ],
   "source": [
    "str1 = 'I love \"python\"';\n",
    "print(str1)"
   ]
  },
  {
   "cell_type": "code",
   "execution_count": 26,
   "id": "0fee95ed-8e53-4d46-a69c-c58843d2f6c0",
   "metadata": {},
   "outputs": [],
   "source": [
    "str2 = \"I love 'python'\""
   ]
  },
  {
   "cell_type": "code",
   "execution_count": 28,
   "id": "cc42f99f-3127-4515-8a66-4722ec2085e5",
   "metadata": {},
   "outputs": [
    {
     "data": {
      "text/plain": [
       "\"I love 'python'\""
      ]
     },
     "execution_count": 28,
     "metadata": {},
     "output_type": "execute_result"
    }
   ],
   "source": [
    "str2"
   ]
  },
  {
   "cell_type": "code",
   "execution_count": 30,
   "id": "733b7d9c-69fe-427f-9a54-67d05ffd2527",
   "metadata": {},
   "outputs": [
    {
     "name": "stdout",
     "output_type": "stream",
     "text": [
      "I love 'python'\n"
     ]
    }
   ],
   "source": [
    "print(str2)"
   ]
  },
  {
   "cell_type": "markdown",
   "id": "e7478d69-ddd9-4f99-a11f-c133b7ddc577",
   "metadata": {},
   "source": [
    "**tripe Quotes**\n",
    "\n",
    "- Triple quotes can not be used in coding\n",
    "- Triple quotes is used to convey information\n",
    "- this process is called **Doc String**\n",
    "- In Jupuuter notebook we have markdown, but in VS code or pycharm there is no markdown, hence triple quotes is used for documenting or commenting"
   ]
  },
  {
   "cell_type": "code",
   "execution_count": 35,
   "id": "16039d98-59b9-45db-b42e-50e5a697924f",
   "metadata": {},
   "outputs": [
    {
     "data": {
      "text/plain": [
       "'Hi\\nI love \\nPython'"
      ]
     },
     "execution_count": 35,
     "metadata": {},
     "output_type": "execute_result"
    }
   ],
   "source": [
    "\"\"\"Hi\n",
    "I love \n",
    "Python\"\"\""
   ]
  },
  {
   "cell_type": "code",
   "execution_count": 40,
   "id": "feb99e12-030c-4050-a162-cb89f0ab0c61",
   "metadata": {},
   "outputs": [
    {
     "ename": "SyntaxError",
     "evalue": "cannot assign to True (2452926307.py, line 1)",
     "output_type": "error",
     "traceback": [
      "\u001b[1;36m  Cell \u001b[1;32mIn[40], line 1\u001b[1;36m\u001b[0m\n\u001b[1;33m    True = True\u001b[0m\n\u001b[1;37m    ^\u001b[0m\n\u001b[1;31mSyntaxError\u001b[0m\u001b[1;31m:\u001b[0m cannot assign to True\n"
     ]
    }
   ],
   "source": []
  },
  {
   "cell_type": "code",
   "execution_count": null,
   "id": "3277773f-14cd-4f28-9c9f-df410e95dc60",
   "metadata": {},
   "outputs": [],
   "source": []
  }
 ],
 "metadata": {
  "kernelspec": {
   "display_name": "Python [conda env:base] *",
   "language": "python",
   "name": "conda-base-py"
  },
  "language_info": {
   "codemirror_mode": {
    "name": "ipython",
    "version": 3
   },
   "file_extension": ".py",
   "mimetype": "text/x-python",
   "name": "python",
   "nbconvert_exporter": "python",
   "pygments_lexer": "ipython3",
   "version": "3.12.7"
  }
 },
 "nbformat": 4,
 "nbformat_minor": 5
}
