{
 "cells": [
  {
   "cell_type": "markdown",
   "id": "7ede9f32-3b92-4e02-beba-fb9290947537",
   "metadata": {},
   "source": [
    "### Conditional Statements\n",
    "- conditional statements are used to execute the code based on some conditions\n",
    "- Assume a statement\n",
    "   - if rain comes I will stay at home\n",
    "   - if rain comes I will stay at home otherwise I will go to movie\n",
    "   - if rain comes I will stay at home otherwise I will go to move but if I dont get tickets I will go to restaurant\n",
    "- if\n",
    "- if else\n",
    "- if elif else"
   ]
  },
  {
   "cell_type": "markdown",
   "id": "02bc346e-d7c8-43e0-b3bb-d6e7772ed4a1",
   "metadata": {},
   "source": [
    "**Case 1 : if**\n",
    "**Syntax**"
   ]
  },
  {
   "cell_type": "code",
   "execution_count": null,
   "id": "8d052cbb-46b7-47e3-90e6-294eeb42c19f",
   "metadata": {},
   "outputs": [],
   "source": [
    "if <condition> :\n",
    "    #write if statements here\n",
    "#whenever condition is true, python will execute statements inside if block;\n",
    "\n",
    "    "
   ]
  },
  {
   "cell_type": "code",
   "execution_count": 16,
   "id": "37534b4d-9e33-4179-8022-da380867b773",
   "metadata": {},
   "outputs": [
    {
     "name": "stdout",
     "output_type": "stream",
     "text": [
      "False\n",
      "True\n",
      "False\n",
      "False\n",
      "False\n"
     ]
    }
   ],
   "source": [
    "num=10; # assignement - num is storing a value\n",
    "num==10; # comparison/condition check\n",
    "print(num==100);\n",
    "print(num>=10)\n",
    "print(num<10);\n",
    "print(num>10)\n",
    "print(num!=10);"
   ]
  },
  {
   "cell_type": "code",
   "execution_count": 18,
   "id": "50a3ac76-e764-4172-881b-d4f668671287",
   "metadata": {},
   "outputs": [
    {
     "name": "stdout",
     "output_type": "stream",
     "text": [
      "hello\n"
     ]
    }
   ],
   "source": [
    "if 100>10:\n",
    "    print(\"hello\");\n",
    "    "
   ]
  },
  {
   "cell_type": "code",
   "execution_count": 20,
   "id": "5b60f594-1934-48e3-ac4e-4d220bdc5fa2",
   "metadata": {},
   "outputs": [
    {
     "ename": "IndentationError",
     "evalue": "expected an indented block after 'if' statement on line 1 (1974876882.py, line 2)",
     "output_type": "error",
     "traceback": [
      "\u001b[1;36m  Cell \u001b[1;32mIn[20], line 2\u001b[1;36m\u001b[0m\n\u001b[1;33m    print(100);\u001b[0m\n\u001b[1;37m    ^\u001b[0m\n\u001b[1;31mIndentationError\u001b[0m\u001b[1;31m:\u001b[0m expected an indented block after 'if' statement on line 1\n"
     ]
    }
   ],
   "source": [
    "if(100>10):\n",
    "print(100);"
   ]
  },
  {
   "cell_type": "markdown",
   "id": "954ace1b-2d9f-458f-998d-35b590cfe39e",
   "metadata": {},
   "source": [
    "**mistake-1**\n",
    "- indentation error\n",
    "  - whenever a line starts with keyword at end : will be there\n",
    "  - if : is there indetation  will be there"
   ]
  },
  {
   "cell_type": "code",
   "execution_count": 24,
   "id": "7c216045-f0f4-47bd-91a0-c6e2e64b85a1",
   "metadata": {},
   "outputs": [
    {
     "ename": "SyntaxError",
     "evalue": "expected ':' (2795088745.py, line 1)",
     "output_type": "error",
     "traceback": [
      "\u001b[1;36m  Cell \u001b[1;32mIn[24], line 1\u001b[1;36m\u001b[0m\n\u001b[1;33m    if(100>10)\u001b[0m\n\u001b[1;37m              ^\u001b[0m\n\u001b[1;31mSyntaxError\u001b[0m\u001b[1;31m:\u001b[0m expected ':'\n"
     ]
    }
   ],
   "source": [
    "if(100>10)\n",
    "    "
   ]
  },
  {
   "cell_type": "markdown",
   "id": "5e20adb8-390f-4d62-8218-45cc5ea6ee8d",
   "metadata": {},
   "source": [
    "**mistake-2**\n",
    "- missing colon : after if condition"
   ]
  },
  {
   "cell_type": "markdown",
   "id": "9920b1ba-600e-4235-9e7a-af1419e48fe8",
   "metadata": {},
   "source": [
    "**Case -2 : if else**\n",
    "\n",
    "- if condition is True  if statement will execute\n",
    "- if condition is False else statements will execute\n",
    "- One condition 2 outputs\n",
    "- if needs condition not else"
   ]
  },
  {
   "cell_type": "code",
   "execution_count": null,
   "id": "114de2ae-6ef6-4268-97a5-7f11c526dca4",
   "metadata": {},
   "outputs": [],
   "source": [
    "# Syntax\n",
    "if condtion :\n",
    "    #Statemenrs\n",
    "else:\n",
    "    #Statements\n",
    "    "
   ]
  },
  {
   "cell_type": "code",
   "execution_count": 21,
   "id": "0b4ddcac-3a78-4667-a497-f6cffffa89cb",
   "metadata": {},
   "outputs": [
    {
     "name": "stdin",
     "output_type": "stream",
     "text": [
      "enter any number -234\n"
     ]
    },
    {
     "name": "stdout",
     "output_type": "stream",
     "text": [
      "-234 is negative\n"
     ]
    }
   ],
   "source": [
    "num = eval(input(\"enter any number\"));\n",
    "if(num>=0):\n",
    "    print(f\"{num} is positive\");\n",
    "else:\n",
    "    print(f\"{num} is negative\");"
   ]
  },
  {
   "cell_type": "code",
   "execution_count": 25,
   "id": "7bc7176e-2cd0-4f89-a7ac-eb5fd7f6a95b",
   "metadata": {},
   "outputs": [
    {
     "name": "stdout",
     "output_type": "stream",
     "text": [
      "random numbers is -36\n",
      "-36 is negative\n"
     ]
    }
   ],
   "source": [
    "import random\n",
    "num = random.randint(-100,100);\n",
    "print(f\"random numbers is {num}\");\n",
    "if(num>=0):\n",
    "    print(f\"{num} is positive\");\n",
    "else:\n",
    "    print(f\"{num} is negative\");\n"
   ]
  },
  {
   "cell_type": "code",
   "execution_count": 31,
   "id": "dce040d8-c75e-4b20-9d18-1ec8e403b774",
   "metadata": {},
   "outputs": [
    {
     "name": "stdout",
     "output_type": "stream",
     "text": [
      "random numbers is 31\n",
      "Hello\n",
      "31 is positive\n",
      "Bye\n"
     ]
    }
   ],
   "source": [
    "import random\n",
    "num = random.randint(-100,100);\n",
    "print(f\"random numbers is {num}\");\n",
    "print(\"Hello\");\n",
    "if(num>=0):\n",
    "    print(f\"{num} is positive\");\n",
    "else:\n",
    "    print(f\"{num} is negative\");\n",
    "print(\"Bye\");"
   ]
  },
  {
   "cell_type": "code",
   "execution_count": 45,
   "id": "565e01da-a1bc-49cf-ba7b-6a530ca208a1",
   "metadata": {},
   "outputs": [
    {
     "name": "stdin",
     "output_type": "stream",
     "text": [
      "enter number1 100\n",
      "enter number 2 50\n"
     ]
    },
    {
     "name": "stdout",
     "output_type": "stream",
     "text": [
      "num1 is 100\n",
      "num2 is 50\n",
      " 100 is greater than 50\n"
     ]
    }
   ],
   "source": [
    "#WAP ask the user to enter 2 numbers\n",
    "#print greatest number\n",
    "num1= eval(input(\"enter number1\"))\n",
    "num2= eval(input(\"enter number 2\"));\n",
    "print(f\"num1 is {num1}\");\n",
    "print(f\"num2 is {num2}\");\n",
    "if num1>num2:\n",
    "    print(f\" {num1} is greater than {num2}\");\n",
    "else:\n",
    "    print(f\"{num2} is greater than {num1}\");"
   ]
  },
  {
   "cell_type": "code",
   "execution_count": 51,
   "id": "a554d666-2845-4d6c-8ed9-7b69d35fd869",
   "metadata": {},
   "outputs": [
    {
     "name": "stdout",
     "output_type": "stream",
     "text": [
      "num1 is 79\n",
      "num2 is 27\n",
      " 79 is greater than 27\n"
     ]
    }
   ],
   "source": [
    "#WAP ask the user to enter 2 numbers\n",
    "#print greatest number\n",
    "num1= random.randint(1,200);\n",
    "num2= random.randint(1,200);\n",
    "print(f\"num1 is {num1}\");\n",
    "print(f\"num2 is {num2}\");\n",
    "if num1>num2:\n",
    "    print(f\" {num1} is greater than {num2}\");\n",
    "else:\n",
    "    print(f\"{num2} is greater than {num1}\");"
   ]
  },
  {
   "cell_type": "code",
   "execution_count": 61,
   "id": "7665eb58-b78e-4d29-8c05-a02765ae00a9",
   "metadata": {},
   "outputs": [
    {
     "name": "stdin",
     "output_type": "stream",
     "text": [
      "enter distance 39\n",
      "what is the charge per km: 20\n"
     ]
    },
    {
     "name": "stdout",
     "output_type": "stream",
     "text": [
      "total chharge for distance 39 is 780\n"
     ]
    }
   ],
   "source": [
    "#wap ask the user enter distance\n",
    "# if distance greater then 25\n",
    "# ask charge per km\n",
    "# else free ride\n",
    "\n",
    "distance = eval(input(\"enter distance\"));\n",
    "if distance>25:\n",
    "    charge = eval(input(\"what is the charge per km:\"));\n",
    "    total= charge*distance;\n",
    "    print(f\"total chharge for distance {distance} is {total}\");\n",
    "else:\n",
    "    print(f\"free ride for distance {distance}\");"
   ]
  },
  {
   "cell_type": "code",
   "execution_count": 7,
   "id": "344b2b55-2129-4852-be54-5b2bac7f115a",
   "metadata": {},
   "outputs": [
    {
     "name": "stdin",
     "output_type": "stream",
     "text": [
      "enter free distance 25\n",
      "enter distance 28\n",
      "what is the charge per km: 10\n"
     ]
    },
    {
     "name": "stdout",
     "output_type": "stream",
     "text": [
      "actual dist covered is 3\n",
      "total chharge for distance 28 is 30\n"
     ]
    }
   ],
   "source": [
    "#wap ask the user enter distance\n",
    "# enter free distance\n",
    "# if distance greater then 25\n",
    "# ask charge per km\n",
    "# else free ride\n",
    "freeDist = eval(input(\"enter free distance\"))\n",
    "distance = eval(input(\"enter distance\"));\n",
    "if distance>25:\n",
    "    charge = eval(input(\"what is the charge per km:\"));\n",
    "    actualDist= distance-freeDist;\n",
    "    print(f\"actual dist covered is {actualDist}\")\n",
    "    total= charge*actualDist;\n",
    "    print(f\"total chharge for distance {distance} is {total}\");\n",
    "else:\n",
    "    print(f\"free ride for distance {distance}\");"
   ]
  },
  {
   "cell_type": "code",
   "execution_count": 33,
   "id": "4a31d7ca-e0ef-4f60-9a7d-efd923807632",
   "metadata": {},
   "outputs": [
    {
     "name": "stdin",
     "output_type": "stream",
     "text": [
      "enter nuumber1 8\n"
     ]
    },
    {
     "name": "stdout",
     "output_type": "stream",
     "text": [
      "n1 is 8\n",
      "n2 is 8\n",
      "you are lucky\n"
     ]
    }
   ],
   "source": [
    "#WAP ask the user to enter numbe from keyboard num1\n",
    "# ask user to enter random numer\n",
    "#if n1 eqaul to n2 print(\"lucky\");\n",
    "# else lost\n",
    "import random;\n",
    "n1 = eval(input(\"enter nuumber1\"));\n",
    "print(f\"n1 is {n1}\");\n",
    "n2 = random.randint(1,10);\n",
    "print(f\"n2 is {n2}\");\n",
    "if n2==n1:\n",
    "    print(\"you are lucky\");\n",
    "else:\n",
    "    print(\"you lost\");\n",
    "    "
   ]
  },
  {
   "cell_type": "code",
   "execution_count": null,
   "id": "3e5e0a2e-7fe3-4919-b127-4d1dc3c54678",
   "metadata": {},
   "outputs": [],
   "source": []
  }
 ],
 "metadata": {
  "kernelspec": {
   "display_name": "Python [conda env:base] *",
   "language": "python",
   "name": "conda-base-py"
  },
  "language_info": {
   "codemirror_mode": {
    "name": "ipython",
    "version": 3
   },
   "file_extension": ".py",
   "mimetype": "text/x-python",
   "name": "python",
   "nbconvert_exporter": "python",
   "pygments_lexer": "ipython3",
   "version": "3.12.7"
  }
 },
 "nbformat": 4,
 "nbformat_minor": 5
}
