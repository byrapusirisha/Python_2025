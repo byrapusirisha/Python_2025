{
 "cells": [
  {
   "cell_type": "markdown",
   "id": "c4bbf814-6df2-40e6-bb88-e163e47f2346",
   "metadata": {},
   "source": [
    "Write Python Program for the following:\n",
    "1. Ramesh’s basic salary is input through the keyboard. His dearness allowance is 40% of basic salary, and\n",
    "house rent allowance is 20% of basic salary. Write a program to calculate his gross salary.\n",
    "2. The distance between two cities (in km.) is input through the keyboard. Write a program to convert and\n",
    "print this distance in meters, feet, inches and centimeters.\n",
    "3. If the marks obtained by a student in five different subjects are input through the keyboard, find out the\n",
    "aggregate marks and percentage marks obtained by the student. Assume that the maximum marks that\n",
    "can be obtained by a student in each subject is 100.\n",
    "4. Temperature of a city in Fahrenheit degrees is input through the keyboard. Write a program to convert this\n",
    "temperature into Centigrade degrees.\n",
    "5. The length & breadth of a rectangle and radius of a circle are input through the keyboard. Write a program\n",
    "to calculate the area & perimeter of the rectangle, and the area & circumference of the circle.\n",
    "6. Two numbers are input through the keyboard into two locations C and D. Write a program to interchange\n",
    "the contents of C and D.\n",
    "7. If a five-digit number is input through the keyboard, write a program to reverse the number.\n",
    "8. If a four-digit number is input through the keyboard, write a program to obtain the sum of the first and last\n",
    "digit of this number.\n",
    "9. In a town, the percentage of men is 52. The percentage of total literacy is 48. If total percentage of literate\n",
    "men is 35 of the total population, write a program to find the total number of illiterate men and women if\n",
    "the population of the town is 80,000.\n",
    "10. A cashier has currency notes of denominations 10, 50 and 100. If the amount to be withdrawn is input\n",
    "through the keyboard in hundreds, find the total number of currency notes of each denomination the\n",
    "cashier will have to give to the withdrawer."
   ]
  },
  {
   "cell_type": "markdown",
   "id": "49e010b7-b30f-4732-a3fb-444121acc408",
   "metadata": {},
   "source": [
    "**1. Ramesh’s basic salary is input through the keyboard. His dearness allowance is 40% of basic salary, and\n",
    "house rent allowance is 20% of basic salary. Write a program to calculate his gross salary.**"
   ]
  },
  {
   "cell_type": "code",
   "execution_count": 4,
   "id": "c52da3f4-fabc-449d-ba61-5b1e3cda25ff",
   "metadata": {},
   "outputs": [
    {
     "name": "stdin",
     "output_type": "stream",
     "text": [
      "enter your basic salary 100000\n"
     ]
    },
    {
     "name": "stdout",
     "output_type": "stream",
     "text": [
      "dearnessAllownace:  40000.0\n",
      "hra:  20000.0\n",
      "Ramesh's Gross Salary is:  160000.0\n"
     ]
    }
   ],
   "source": [
    "basicSal=eval(input(\"enter your basic salary\"));\n",
    "dearnessAllownace=(40/100)*(basicSal);\n",
    "print(\"dearnessAllownace: \",dearnessAllownace);\n",
    "hra=(20/100)*(basicSal);\n",
    "print(\"hra: \",hra);\n",
    "grossSal=basicSal+dearnessAllownace+hra;\n",
    "print(\"Ramesh's Gross Salary is: \",grossSal);"
   ]
  },
  {
   "cell_type": "markdown",
   "id": "5e725415-c58f-4920-9673-df950431149c",
   "metadata": {},
   "source": [
    "**2. The distance between two cities (in km.) is input through the keyboard. Write a program to convert and\n",
    "print this distance in meters, feet, inches and centimeters.**"
   ]
  },
  {
   "cell_type": "code",
   "execution_count": 7,
   "id": "53993ba4-a516-4e6c-aef9-7eb47113aab8",
   "metadata": {},
   "outputs": [
    {
     "name": "stdin",
     "output_type": "stream",
     "text": [
      "enter distance between kurnool & hyd in KM 1\n"
     ]
    },
    {
     "name": "stdout",
     "output_type": "stream",
     "text": [
      "distance in meters:  1000\n",
      "distance in feet:  3280.84\n",
      "distance in inches:  39370.08\n",
      "distance in cms:  100000.0032\n"
     ]
    }
   ],
   "source": [
    "dist=eval(input(\"enter distance between kurnool & hyd in KM\"));\n",
    "dist_in_meters=dist*1000;\n",
    "print(\"distance in meters: \",dist_in_meters);\n",
    "dist_in_feet=dist_in_meters*3.28084; # Feet= Meters*3.28084\n",
    "print(\"distance in feet: \",dist_in_feet);\n",
    "dist_in_inches=dist_in_feet*12;\n",
    "print(\"distance in inches: \",dist_in_inches);\n",
    "dist_in_cms=dist_in_inches*2.54;\n",
    "print(\"distance in cms: \",dist_in_cms);\n"
   ]
  },
  {
   "cell_type": "markdown",
   "id": "f8e60fc3-673f-4d47-9a61-b26a411db15e",
   "metadata": {},
   "source": [
    "**3. If the marks obtained by a student in five different subjects are input through the keyboard, find out the\n",
    "aggregate marks and percentage marks obtained by the student. Assume that the maximum marks that\n",
    "can be obtained by a student in each subject is 100.**"
   ]
  },
  {
   "cell_type": "code",
   "execution_count": 14,
   "id": "ca80bb31-8d3b-4153-8007-c651febaa160",
   "metadata": {},
   "outputs": [
    {
     "name": "stdin",
     "output_type": "stream",
     "text": [
      "enter your english marks 100\n"
     ]
    },
    {
     "name": "stdout",
     "output_type": "stream",
     "text": [
      "english : 100\n"
     ]
    },
    {
     "name": "stdin",
     "output_type": "stream",
     "text": [
      "enter your maths marks 80\n"
     ]
    },
    {
     "name": "stdout",
     "output_type": "stream",
     "text": [
      "maths : 80\n"
     ]
    },
    {
     "name": "stdin",
     "output_type": "stream",
     "text": [
      "enter your social marks 100\n"
     ]
    },
    {
     "name": "stdout",
     "output_type": "stream",
     "text": [
      "social : 100\n"
     ]
    },
    {
     "name": "stdin",
     "output_type": "stream",
     "text": [
      "enter your science marks 80\n"
     ]
    },
    {
     "name": "stdout",
     "output_type": "stream",
     "text": [
      "science : 80\n"
     ]
    },
    {
     "name": "stdin",
     "output_type": "stream",
     "text": [
      "enter your telugu marks 100\n"
     ]
    },
    {
     "name": "stdout",
     "output_type": "stream",
     "text": [
      "telugu : 100\n",
      "Aggregate:  460\n",
      "percentage:  92.0\n"
     ]
    }
   ],
   "source": [
    "eng=eval(input(\"enter your english marks\"));\n",
    "print(\"english :\",eng);\n",
    "maths=eval(input(\"enter your maths marks\"));\n",
    "print(\"maths :\",maths);\n",
    "social=eval(input(\"enter your social marks\"));\n",
    "print(\"social :\",social);\n",
    "science=eval(input(\"enter your science marks\"));\n",
    "print(\"science :\",science);\n",
    "telugu=eval(input(\"enter your telugu marks\"));\n",
    "print(\"telugu :\",telugu);\n",
    "aggregate=eng+maths+social+science+telugu;\n",
    "print(\"Aggregate: \",aggregate);\n",
    "percentage=(aggregate/500)*100;\n",
    "print(\"percentage: \",percentage);"
   ]
  },
  {
   "cell_type": "markdown",
   "id": "9263ed29-29df-4765-9e5b-eb9b18fdadb7",
   "metadata": {},
   "source": [
    "**4. Temperature of a city in Fahrenheit degrees is input through the keyboard. Write a program to convert this\n",
    "temperature into Centigrade degrees.**"
   ]
  },
  {
   "cell_type": "code",
   "execution_count": 18,
   "id": "a2c18a0e-d3e1-436b-ad89-88ee46ad0ca9",
   "metadata": {},
   "outputs": [
    {
     "name": "stdin",
     "output_type": "stream",
     "text": [
      "enter temperature in Fahrenheit  98\n"
     ]
    },
    {
     "name": "stdout",
     "output_type": "stream",
     "text": [
      "98 F equals to 36.66666666666667 celsius\n"
     ]
    }
   ],
   "source": [
    "temp= eval(input(\"enter temperature in Fahrenheit \"));\n",
    "tempInC=(temp-32)*(5/9);\n",
    "print(f\"{temp} F equals to {tempInC} celsius\");"
   ]
  },
  {
   "cell_type": "markdown",
   "id": "7afa1df4-f03f-4c40-b05e-70eed1e46133",
   "metadata": {},
   "source": [
    "**5. The length & breadth of a rectangle and radius of a circle are input through the keyboard. Write a program\n",
    "to calculate the area & perimeter of the rectangle, and the area & circumference of the circle.**"
   ]
  },
  {
   "cell_type": "code",
   "execution_count": 23,
   "id": "ff4d2575-ac45-44b4-bbcc-a0a1938a8c56",
   "metadata": {},
   "outputs": [
    {
     "name": "stdin",
     "output_type": "stream",
     "text": [
      "enter circle radius 5\n"
     ]
    },
    {
     "name": "stdout",
     "output_type": "stream",
     "text": [
      " area of circle for radius 5 is 78.5\n",
      " circumference of circle for radius 5 is 31.400000000000002\n"
     ]
    },
    {
     "name": "stdin",
     "output_type": "stream",
     "text": [
      "enter rec length 10\n",
      "enter rec breadth 20\n"
     ]
    },
    {
     "name": "stdout",
     "output_type": "stream",
     "text": [
      "area of rectange for length 10 and breadth 20 is 200\n",
      "perimeter of rectange for length 10 and breadth 20 is 60\n"
     ]
    }
   ],
   "source": [
    "radius=eval(input(\"enter circle radius\"));\n",
    "area = 3.14*radius*radius;\n",
    "circumference=2*3.14*radius\n",
    "print(f\" area of circle for radius {radius} is {area}\");\n",
    "print(f\" circumference of circle for radius {radius} is {circumference}\");\n",
    "\n",
    "l=eval(input(\"enter rec length\"));\n",
    "b=eval(input(\"enter rec breadth\"))\n",
    "recArea= l*b;\n",
    "recPerimeter=2*(l+b);\n",
    "print(f\"area of rectange for length {l} and breadth {b} is {recArea}\");\n",
    "print(f\"perimeter of rectange for length {l} and breadth {b} is {recPerimeter}\");"
   ]
  },
  {
   "cell_type": "markdown",
   "id": "f11d97d1-8f9e-47a1-b891-9551a4096942",
   "metadata": {},
   "source": [
    "**6. Two numbers are input through the keyboard into two locations C and D. Write a program to interchange\n",
    "the contents of C and D**"
   ]
  },
  {
   "cell_type": "code",
   "execution_count": 32,
   "id": "e175a3b6-f0a4-4c19-94fc-45b08735df0c",
   "metadata": {},
   "outputs": [
    {
     "name": "stdin",
     "output_type": "stream",
     "text": [
      "enter num1 100\n",
      "enter num2 120\n"
     ]
    },
    {
     "name": "stdout",
     "output_type": "stream",
     "text": [
      "after exchance num1:  120\n",
      "after exhcange num2:  100\n"
     ]
    }
   ],
   "source": [
    "C=eval(input(\"enter num1\"));\n",
    "D=eval(input(\"enter num2\"));\n",
    "C=C+D;\n",
    "D=C-D;\n",
    "C=C-D;\n",
    "print(\"after exchance num1: \",C);\n",
    "print(\"after exhcange num2: \",D);\n"
   ]
  },
  {
   "cell_type": "markdown",
   "id": "c5ab7a54-2f22-4372-9ea5-f0f3d32217fa",
   "metadata": {},
   "source": [
    "**7. If a five-digit number is input through the keyboard, write a program to reverse the number.**"
   ]
  },
  {
   "cell_type": "code",
   "execution_count": 58,
   "id": "20daacdd-8026-4e7c-b24c-65c60e662d86",
   "metadata": {},
   "outputs": [
    {
     "name": "stdin",
     "output_type": "stream",
     "text": [
      "enter 5 digit number 32425\n"
     ]
    },
    {
     "name": "stdout",
     "output_type": "stream",
     "text": [
      "reverse of number is 52423\n"
     ]
    }
   ],
   "source": [
    "num=eval(input(\"enter 5 digit number\"));\n",
    "\n",
    "d1=num%10;\n",
    "num=int(num/10)\n",
    "\n",
    "d2=num%10;\n",
    "num=int(num/10);\n",
    "\n",
    "d3=num%10;\n",
    "num=int(num/10);\n",
    "\n",
    "d4=num%10;\n",
    "num=int(num/10);\n",
    "\n",
    "d5=num%10;\n",
    "num=int(num/10);\n",
    "\n",
    "print(f\"reverse of number is {d1}{d2}{d3}{d4}{d5}\");"
   ]
  },
  {
   "cell_type": "markdown",
   "id": "5e41c1d5-3248-4ea8-991b-c4bdddfd7be1",
   "metadata": {},
   "source": [
    "**8. If a four-digit number is input through the keyboard, write a program to obtain the sum of the first and last\n",
    "digit of this number.**"
   ]
  },
  {
   "cell_type": "code",
   "execution_count": 63,
   "id": "35cfc6c3-b51a-4ce3-9ab6-6d424e0f29dc",
   "metadata": {},
   "outputs": [
    {
     "name": "stdin",
     "output_type": "stream",
     "text": [
      "enter 4 digit number 9876\n"
     ]
    },
    {
     "name": "stdout",
     "output_type": "stream",
     "text": [
      "sum of 6 & 9 is 15\n"
     ]
    }
   ],
   "source": [
    "num=eval(input(\"enter 4 digit number\"));\n",
    "\n",
    "d1=num%10;\n",
    "num=int(num/10)\n",
    "\n",
    "d2=num%10;\n",
    "num=int(num/10);\n",
    "\n",
    "d3=num%10;\n",
    "num=int(num/10);\n",
    "\n",
    "d4=num%10;\n",
    "num=int(num/10);\n",
    "\n",
    "sum=d1+d4;\n",
    "\n",
    "print(f\"sum of {d1} & {d4} is {sum}\");"
   ]
  },
  {
   "cell_type": "markdown",
   "id": "07a835da-c7fd-44c4-8647-fcd16498ab3f",
   "metadata": {},
   "source": [
    "**9. In a town, the percentage of men is 52. The percentage of total literacy is 48. If total percentage of literate\n",
    "men is 35 of the total population, write a program to find the total number of illiterate men and women if\n",
    "the population of the town is 80,000.**"
   ]
  },
  {
   "cell_type": "code",
   "execution_count": 68,
   "id": "78ccc0a0-631f-4e7a-964b-d4787b97fcfd",
   "metadata": {},
   "outputs": [
    {
     "name": "stdout",
     "output_type": "stream",
     "text": [
      "total population: \n",
      "total men:  41600.0\n",
      "total women:  38400.0\n",
      "literate men:  28000.0\n",
      "total literates:  38400.0\n",
      "WomenLiteracyCount:  10400.0\n"
     ]
    }
   ],
   "source": [
    "menPercent=52;\n",
    "totalLiteracyPercent=48;\n",
    "menLiteracyPercent=35;\n",
    "totalPoulation=80000;\n",
    "print(\"total population: \");\n",
    "totalMen=(52/100)*80000;\n",
    "print(\"total men: \",totalMen);\n",
    "totalWomen=80000-totalMen;\n",
    "print(\"total women: \",totalWomen);\n",
    "literateMen= (35/100)*80000;\n",
    "print(\"literate men: \",literateMen);\n",
    "totalLiteracy=(48/100)*(80000);\n",
    "print(\"total literates: \",totalLiteracy);\n",
    "WomenLiteracyCount=totalLiteracy-literateMen;\n",
    "print(\"WomenLiteracyCount: \",WomenLiteracyCount);\n"
   ]
  },
  {
   "cell_type": "markdown",
   "id": "cde83f17-107b-4de7-88bc-2b33cb771dfb",
   "metadata": {},
   "source": [
    "**10. A cashier has currency notes of denominations 10, 50 and 100. If the amount to be withdrawn is input\n",
    "through the keyboard in hundreds, find the total number of currency notes of each denomination the\n",
    "cashier will have to give to the withdrawer.**"
   ]
  },
  {
   "cell_type": "code",
   "execution_count": 75,
   "id": "45ce67e7-19a1-40cc-819c-f37995b4805e",
   "metadata": {},
   "outputs": [
    {
     "name": "stdin",
     "output_type": "stream",
     "text": [
      "enter amount in multiples of hundereds 4500\n"
     ]
    },
    {
     "name": "stdout",
     "output_type": "stream",
     "text": [
      "total notes of 10 rs for 4500 is 450.0\n",
      "---------------------------------\n",
      "total notes of 50 rs for 4500 is 90.0\n",
      "---------------------------------\n",
      "total notes of 100 rs for 4500 is 45.0\n"
     ]
    }
   ],
   "source": [
    "amount= eval(input(\"enter amount in multiples of hundereds\"));\n",
    "notes_10=amount/10;\n",
    "print(f\"total notes of 10 rs for {amount} is {notes_10}\");\n",
    "print(\"---------------------------------\");\n",
    "notes_50=amount/50;\n",
    "print(f\"total notes of 50 rs for {amount} is {notes_50}\");\n",
    "print(\"---------------------------------\");\n",
    "notes_100=amount/100;\n",
    "print(f\"total notes of 100 rs for {amount} is {notes_100}\");\n"
   ]
  },
  {
   "cell_type": "code",
   "execution_count": null,
   "id": "c4dcc9e5-9fc1-466e-b9ae-fd09c7e8577a",
   "metadata": {},
   "outputs": [],
   "source": []
  }
 ],
 "metadata": {
  "kernelspec": {
   "display_name": "Python [conda env:base] *",
   "language": "python",
   "name": "conda-base-py"
  },
  "language_info": {
   "codemirror_mode": {
    "name": "ipython",
    "version": 3
   },
   "file_extension": ".py",
   "mimetype": "text/x-python",
   "name": "python",
   "nbconvert_exporter": "python",
   "pygments_lexer": "ipython3",
   "version": "3.12.7"
  }
 },
 "nbformat": 4,
 "nbformat_minor": 5
}
