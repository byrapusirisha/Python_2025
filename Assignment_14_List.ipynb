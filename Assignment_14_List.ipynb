{
 "cells": [
  {
   "cell_type": "code",
   "execution_count": null,
   "id": "da2ddf1f-f10f-44d7-800d-9529aa06d061",
   "metadata": {},
   "outputs": [],
   "source": [
    "# Q3) input=['hyd','bengaluru','pune','mumbai']\n",
    "#     output=['Hyd','Bengaluru','Pune','Mumbai']\n",
    "\n",
    "# Q4) input=['hyd','bengaluru','pune','mumbai']\n",
    "#     output=['HYD','BENGALURU','PUNE','MUMBAI']\n",
    "\n",
    "# Q5) input=['hyd','ben#galuru','pune','mu#mbai']\n",
    "#     output=[ben#galuru',mu#mbai']\n",
    "\n",
    "# Q6) input=['hyd','ben#galuru','pune','mu#mbai']\n",
    "#     output=[hyd,pune]\n",
    "\n",
    "# Q7) input = 'hai how are you'\n",
    "#     output=['HAI','HOW','ARE','YOU']\n",
    "\n",
    "# Q8) input='virat.kohli@rcb.com;rohit.sharma@mi.com;ms.dhoni@csk.com'\n",
    "#     fname=['virat','rohit'.'ms']\n",
    "#     sname=['kohli','sharma','dhoni']\n",
    "#     cname=['rcb','mi','csk']\n",
    "\n",
    "# Q9) input='can canner can you can not canner with you but you can the canner'\n",
    "#     output=['can'-4,'canner'-3,'you'-3,'not'-1,'with'-1,'but'-1,'the'-1]\n",
    "\n",
    "# Q10) input = 'can canner can you can not canner with you but you can the canner'\n",
    "#      stopwords=['not','you','but','with']\n",
    "#      using stopwords remove those words from input\n",
    "#     output='can canner can can canner can canner'\n",
    "\n",
    "# Q11) take a string find the most repeated word from string\n",
    "\n",
    "# Q12) take a string find the longest length of the word from string\n",
    "\n",
    "# Q13) take a string find the lowest length of the word from string\n",
    "\n",
    "# Q14) you have some qns list is there\n",
    "#      also you have answers list also there\n",
    "#     qns=['who is PM of india',\n",
    "#       'what is the capital of india', who is ICT MENS captain]\n",
    "#    ans=['Modi','Delhi','Rohit']\n",
    "#    whenerver correct answer marks +10\n",
    "#    print you got total "
   ]
  },
  {
   "cell_type": "code",
   "execution_count": 1,
   "id": "ce8f89b0-2557-4295-a8cb-39fa54a5656d",
   "metadata": {},
   "outputs": [
    {
     "name": "stdin",
     "output_type": "stream",
     "text": [
      "enter number 3\n",
      "enter number 55\n",
      "enter number 6\n",
      "enter number 77\n",
      "enter number 8881\n"
     ]
    },
    {
     "name": "stdout",
     "output_type": "stream",
     "text": [
      "[6]\n",
      "[3, 55, 77, 8881]\n"
     ]
    }
   ],
   "source": [
    "# Q1)WAP ASK user enter 5 values and get even numbers and odd numbers list\n",
    "evenList=[];\n",
    "oddList=[];\n",
    "for i in range(5):\n",
    "    num=eval(input(\"enter number\"));\n",
    "    if num%2==0:\n",
    "        evenList.append(num);\n",
    "    else:\n",
    "        oddList.append(num);\n",
    "print(evenList);\n",
    "print(oddList);"
   ]
  },
  {
   "cell_type": "code",
   "execution_count": 3,
   "id": "a8ed322f-16c6-499c-a60a-aa1b1d9a7048",
   "metadata": {},
   "outputs": [
    {
     "name": "stdout",
     "output_type": "stream",
     "text": [
      "[864, 988]\n",
      "[209, 409, 543]\n"
     ]
    }
   ],
   "source": [
    "# Q2)WAP ASK user enter 5 values and get even numbers and odd numbers list\n",
    "import random;\n",
    "evenList=[];\n",
    "oddList=[];\n",
    "for i in range(5):\n",
    "    num=random.randint(1,1000);\n",
    "    if num%2==0:\n",
    "        evenList.append(num);\n",
    "    else:\n",
    "        oddList.append(num);\n",
    "print(evenList);\n",
    "print(oddList);"
   ]
  },
  {
   "cell_type": "code",
   "execution_count": 9,
   "id": "a0189259-94cc-4fe7-9304-b645a15dabe3",
   "metadata": {},
   "outputs": [
    {
     "data": {
      "text/plain": [
       "['Hyd', 'Bengaluru', 'Pune', 'Mumbai']"
      ]
     },
     "execution_count": 9,
     "metadata": {},
     "output_type": "execute_result"
    }
   ],
   "source": [
    "# Q3) input=['hyd','bengaluru','pune','mumbai']\n",
    "#     output=['Hyd','Bengaluru','Pune','Mumbai']\n",
    "\n",
    "inputList=['hyd','bengaluru','pune','mumbai'];\n",
    "outputList=[];\n",
    "for i in inputList:\n",
    "    outputList.append(str.capitalize(i))\n",
    "outputList"
   ]
  },
  {
   "cell_type": "code",
   "execution_count": 13,
   "id": "042afa67-27b1-46fc-8fe3-43ea08301ea5",
   "metadata": {},
   "outputs": [
    {
     "data": {
      "text/plain": [
       "['HYD', 'BENGALURU', 'PUNE', 'MUMBAI']"
      ]
     },
     "execution_count": 13,
     "metadata": {},
     "output_type": "execute_result"
    }
   ],
   "source": [
    "# Q4) input=['hyd','bengaluru','pune','mumbai']\n",
    "#     output=['HYD','BENGALURU','PUNE','MUMBAI']\n",
    "\n",
    "input=['hyd','bengaluru','pune','mumbai'];\n",
    "output=[];\n",
    "for i in input:\n",
    "    output.append(str.upper(i))\n",
    "output\n"
   ]
  },
  {
   "cell_type": "code",
   "execution_count": 35,
   "id": "a6af5084-1065-4285-a51f-a4a67b6f29b5",
   "metadata": {},
   "outputs": [
    {
     "data": {
      "text/plain": [
       "['ben#galuru', 'mu#mbai']"
      ]
     },
     "execution_count": 35,
     "metadata": {},
     "output_type": "execute_result"
    }
   ],
   "source": [
    "# Q5) input=['hyd','ben#galuru','pune','mu#mbai']\n",
    "#     output=[ben#galuru',mu#mbai']\n",
    "output=[];\n",
    "input=['hyd','ben#galuru','pune','mu#mbai'];\n",
    "for i in input:\n",
    "   if i.find('#')>0:\n",
    "       output.append(i);\n",
    "output\n",
    "    "
   ]
  },
  {
   "cell_type": "code",
   "execution_count": 37,
   "id": "175e8b69-f70f-4ea5-a651-fa115ca61e4d",
   "metadata": {},
   "outputs": [
    {
     "data": {
      "text/plain": [
       "['hyd', 'pune']"
      ]
     },
     "execution_count": 37,
     "metadata": {},
     "output_type": "execute_result"
    }
   ],
   "source": [
    "\n",
    "# Q6) input=['hyd','ben#galuru','pune','mu#mbai']\n",
    "#     output=[hyd,pune]\n",
    "output=[];\n",
    "input=['hyd','ben#galuru','pune','mu#mbai'];\n",
    "for i in input:\n",
    "   if i.find('#')<0:\n",
    "       output.append(i);\n",
    "output"
   ]
  },
  {
   "cell_type": "code",
   "execution_count": 41,
   "id": "9f0eaf74-d91e-4299-a43b-458ac34e4e98",
   "metadata": {},
   "outputs": [
    {
     "data": {
      "text/plain": [
       "['HAI', 'HOW', 'ARE', 'YOU']"
      ]
     },
     "execution_count": 41,
     "metadata": {},
     "output_type": "execute_result"
    }
   ],
   "source": [
    "# Q7) input = 'hai how are you'\n",
    "#     output=['HAI','HOW','ARE','YOU']\n",
    "output=[];\n",
    "input='hai how are you';\n",
    "l=input.split(\" \");\n",
    "for i in l:\n",
    "    output.append(str.upper(i));\n",
    "output"
   ]
  },
  {
   "cell_type": "code",
   "execution_count": 25,
   "id": "b9a6ad4e-0fe7-41e9-b54d-25a44e7e8e68",
   "metadata": {},
   "outputs": [
    {
     "name": "stdout",
     "output_type": "stream",
     "text": [
      "list['virat', 'kohli', 'rcb']\n",
      "list['rohit', 'sharma', 'mi']\n",
      "list['ms', 'dhoni', 'csk']\n"
     ]
    }
   ],
   "source": [
    "# Q8) input='virat.kohli@rcb.com;rohit.sharma@mi.com;ms.dhoni@csk.com'\n",
    "#     fname=['virat','rohit'.'ms']\n",
    "#     sname=['kohli','sharma','dhoni']\n",
    "#     cname=['rcb','mi','csk']\n",
    "\n",
    "input='virat.kohli@rcb.com;rohit.sharma@mi.com;ms.dhoni@csk.com';\n",
    "inputList=input.split(';');\n",
    "for i in inputList:\n",
    "    firstDotIndex=i.index('.');\n",
    "    SecDotIndex=i.index('.',firstDotIndex+1);\n",
    "    index_at=i.index('@');\n",
    "    fname=i[:firstDotIndex];\n",
    "    #print(fname);\n",
    "    sname=i[firstDotIndex+1:index_at];\n",
    "    #print(sname)\n",
    "    cname=i[index_at+1:SecDotIndex];\n",
    "    #print(cname)\n",
    "    print(list[fname,sname,cname])\n",
    "    \n",
    "    \n",
    "    \n",
    "    "
   ]
  },
  {
   "cell_type": "code",
   "execution_count": 37,
   "id": "5b58d476-20e1-4220-b7ae-8f7a6be1ae4d",
   "metadata": {},
   "outputs": [
    {
     "name": "stdout",
     "output_type": "stream",
     "text": [
      "can 4\n",
      "canner 3\n",
      "you 3\n",
      "not 1\n",
      "with 1\n",
      "but 1\n",
      "the 1\n"
     ]
    }
   ],
   "source": [
    "# Q9) input='can canner can you can not canner with you but you can the canner'\n",
    "#     output=['can'-4,'canner'-3,'you'-3,'not'-1,'with'-1,'but'-1,'the'-1]\n",
    "input='can canner can you can not canner with you but you can the canner';\n",
    "inputList=input.split(\" \");\n",
    "temp=[];\n",
    "for i  in inputList:\n",
    "    if i not in temp:\n",
    "        temp.append(i);\n",
    "        print(i,inputList.count(i));\n",
    "        \n",
    "   \n",
    "    \n",
    "    "
   ]
  },
  {
   "cell_type": "code",
   "execution_count": 43,
   "id": "beb19a52-0a1f-4a96-888f-8b7a2e9fc649",
   "metadata": {},
   "outputs": [
    {
     "name": "stdout",
     "output_type": "stream",
     "text": [
      "['can', 'canner', 'can', 'can', 'canner', 'can', 'the', 'canner']\n"
     ]
    }
   ],
   "source": [
    "# Q10) input = 'can canner can you can not canner with you but you can the canner'\n",
    "#      stopwords=['not','you','but','with']\n",
    "#      using stopwords remove those words from input\n",
    "#     output='can canner can can canner can canner'\n",
    "input = 'can canner can you can not canner with you but you can the canner';\n",
    "inputList=input.split();\n",
    "output=[];\n",
    "stopwords=['not','you','but','with'];\n",
    "for i in inputList:\n",
    "    if i not in stopwords:\n",
    "        output.append(i);\n",
    "print(output)\n",
    "\n"
   ]
  },
  {
   "cell_type": "code",
   "execution_count": 53,
   "id": "d7e90b35-44e9-4337-8331-6cce4edbbb42",
   "metadata": {},
   "outputs": [
    {
     "name": "stdout",
     "output_type": "stream",
     "text": [
      "0\n"
     ]
    }
   ],
   "source": [
    "# Q11) take a string find the most repeated word from string\n",
    "input = 'can canner can you can not canner with you but you can the canner';\n",
    "inputList= input.split();\n",
    "    \n",
    "    "
   ]
  },
  {
   "cell_type": "code",
   "execution_count": 69,
   "id": "9f8ed482-a837-4e59-9ed8-77608191d692",
   "metadata": {},
   "outputs": [
    {
     "data": {
      "text/plain": [
       "('canner', 6)"
      ]
     },
     "execution_count": 69,
     "metadata": {},
     "output_type": "execute_result"
    }
   ],
   "source": [
    "# Q12) take a string find the longest length of the word from string\n",
    "input = 'can canner can you can not canner with you but you can the canner';\n",
    "length=0;\n",
    "maxLenWord='';\n",
    "inputList=input.split();\n",
    "for i in inputList:\n",
    "    if len(i)>length:\n",
    "        maxLenWord=i;\n",
    "        length=len(i)\n",
    "    \n",
    "maxLenWord,length"
   ]
  },
  {
   "cell_type": "code",
   "execution_count": 86,
   "id": "5e3e8a10-f5fb-4ac7-be50-3df1017e4414",
   "metadata": {},
   "outputs": [
    {
     "data": {
      "text/plain": [
       "('can', 3)"
      ]
     },
     "execution_count": 86,
     "metadata": {},
     "output_type": "execute_result"
    }
   ],
   "source": [
    "\n",
    "# Q13) take a string find the lowest length of the word from string\n",
    "input = 'can canner can you can not canner with you but you can the canner';\n",
    "length=0;\n",
    "maxLenWord='';\n",
    "minLenWord='';\n",
    "\n",
    "inputList=input.split();\n",
    "for i in inputList:\n",
    "    if len(i)>length:\n",
    "        maxLenWord=i;\n",
    "        length=len(i)\n",
    "        minLeng=length;\n",
    "    \n",
    "for i in inputList:\n",
    "    if len(i)<minLeng:\n",
    "        minLeng=len(i);\n",
    "        minLenWord=i\n",
    "minLenWord,minLeng\n",
    "        "
   ]
  },
  {
   "cell_type": "code",
   "execution_count": 17,
   "id": "d3c0e5e6-1493-4bd5-a5ec-af9309c7b8d3",
   "metadata": {},
   "outputs": [
    {
     "name": "stdin",
     "output_type": "stream",
     "text": [
      "who is PM of india CBN\n",
      "what is the capital of india Delhi\n",
      "who is ICT MENS captain rohit\n"
     ]
    },
    {
     "name": "stdout",
     "output_type": "stream",
     "text": [
      "you got total marks of 20\n"
     ]
    }
   ],
   "source": [
    "# Q14) you have some qns list is there\n",
    "#      also you have answers list also there\n",
    "#     qns=['who is PM of india',\n",
    "#       'what is the capital of india', who is ICT MENS captain]\n",
    "#    ans=['Modi','Delhi','Rohit']\n",
    "#    whenerver correct answer marks +10\n",
    "#    print you got total \n",
    "\n",
    "qns=['who is PM of india','what is the capital of india', 'who is ICT MENS captain'];\n",
    "ans=['Modi','Delhi','Rohit'];\n",
    "total=0;\n",
    "for i in range(len(qns)):\n",
    "    userAns=input(qns[i]);\n",
    "    if str.lower(userAns)==str.lower(ans[i]):\n",
    "        total=total+10;\n",
    "print(f\"you got total marks of {total}\")\n",
    "        \n",
    "    "
   ]
  },
  {
   "cell_type": "code",
   "execution_count": null,
   "id": "04b9c458-d490-4f28-a403-d87caafabc1c",
   "metadata": {},
   "outputs": [],
   "source": []
  }
 ],
 "metadata": {
  "kernelspec": {
   "display_name": "Python [conda env:base] *",
   "language": "python",
   "name": "conda-base-py"
  },
  "language_info": {
   "codemirror_mode": {
    "name": "ipython",
    "version": 3
   },
   "file_extension": ".py",
   "mimetype": "text/x-python",
   "name": "python",
   "nbconvert_exporter": "python",
   "pygments_lexer": "ipython3",
   "version": "3.12.7"
  }
 },
 "nbformat": 4,
 "nbformat_minor": 5
}
