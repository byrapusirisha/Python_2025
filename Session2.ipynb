{
 "cells": [
  {
   "cell_type": "code",
   "execution_count": 9,
   "id": "f52a47b4-e3be-419a-b7bb-aa041994e38f",
   "metadata": {},
   "outputs": [],
   "source": [
    "import os\n",
    "os.getcwd();"
   ]
  },
  {
   "cell_type": "code",
   "execution_count": 13,
   "id": "3cb3b086-fad6-4960-bbdb-54c6f37a90e5",
   "metadata": {},
   "outputs": [],
   "source": [
    "number=100"
   ]
  },
  {
   "cell_type": "code",
   "execution_count": 15,
   "id": "5fd6fcc0-ad48-4665-9ab4-2e7189ee1d98",
   "metadata": {},
   "outputs": [
    {
     "data": {
      "text/plain": [
       "100"
      ]
     },
     "execution_count": 15,
     "metadata": {},
     "output_type": "execute_result"
    }
   ],
   "source": [
    "number"
   ]
  },
  {
   "cell_type": "markdown",
   "id": "7355071e-02fd-4ba2-a949-a6ad19728c4d",
   "metadata": {},
   "source": [
    "test"
   ]
  },
  {
   "cell_type": "markdown",
   "id": "bfaa8793-7ebd-49f3-826f-64423455aa8b",
   "metadata": {},
   "source": [
    "- esc+m to change to markdown\n",
    "- esc+y to change to code"
   ]
  },
  {
   "cell_type": "markdown",
   "id": "f17010db-4dd6-4ac6-adeb-1c56c39df1b1",
   "metadata": {},
   "source": [
    "# python"
   ]
  },
  {
   "cell_type": "markdown",
   "id": "cb301151-0815-48f5-ba87-e1526c7cdc07",
   "metadata": {},
   "source": [
    "## python"
   ]
  },
  {
   "cell_type": "markdown",
   "id": "4f60decf-c75f-497e-a679-02f0a03cef92",
   "metadata": {},
   "source": [
    "**upload image**"
   ]
  },
  {
   "cell_type": "markdown",
   "id": "5494f6bb-9963-47e2-b3e4-e721e1aae537",
   "metadata": {},
   "source": [
    "<img src=\"https://www.freelancinggig.com/blog/wp-content/uploads/2017/12/Python-Tutorial.png\" jsaction=\"\" class=\"sFlh5c FyHeAf iPVvYb\" style=\"max-width: 750px; height: 197px; margin: 0px; width: 351px;\" alt=\"Python Tutorial - FreelancingGig Blog - Freelancer Job Tips and Hiring  Insights\" jsname=\"kn3ccd\" aria-hidden=\"false\">"
   ]
  },
  {
   "cell_type": "code",
   "execution_count": null,
   "id": "67c0abb1-246a-4720-af32-4dda64cb147e",
   "metadata": {},
   "outputs": [],
   "source": []
  }
 ],
 "metadata": {
  "kernelspec": {
   "display_name": "Python [conda env:base] *",
   "language": "python",
   "name": "conda-base-py"
  },
  "language_info": {
   "codemirror_mode": {
    "name": "ipython",
    "version": 3
   },
   "file_extension": ".py",
   "mimetype": "text/x-python",
   "name": "python",
   "nbconvert_exporter": "python",
   "pygments_lexer": "ipython3",
   "version": "3.12.7"
  }
 },
 "nbformat": 4,
 "nbformat_minor": 5
}
