{
 "cells": [
  {
   "cell_type": "markdown",
   "id": "9e8eb399-f6ab-4c86-ad05-e866f58ae4fc",
   "metadata": {},
   "source": [
    "**LIST**\n",
    "- **Basic Representation**\n",
    "- **inbuilt functions**\n",
    "   - min\n",
    "   - max\n",
    "   - sum\n",
    "   - sorted\n",
    "   - reversed\n",
    "   - len"
   ]
  },
  {
   "cell_type": "markdown",
   "id": "e1787ea3-6488-4e6c-953a-59b1a20156da",
   "metadata": {},
   "source": [
    "**Basic Representation**"
   ]
  },
  {
   "cell_type": "code",
   "execution_count": 7,
   "id": "17d4834c-07e4-40b8-a432-ee72d5ecad9a",
   "metadata": {},
   "outputs": [
    {
     "name": "stdout",
     "output_type": "stream",
     "text": [
      "['1', '2', '3', True, False, 1, 2.4]\n"
     ]
    }
   ],
   "source": [
    "list1=['1','2','3',True,False,1,2.4];\n",
    "print(list1);"
   ]
  },
  {
   "cell_type": "markdown",
   "id": "946ce37c-a850-4f02-83a4-1ad5caa9bd88",
   "metadata": {},
   "source": [
    "**inbuilt Functions**"
   ]
  },
  {
   "cell_type": "code",
   "execution_count": 11,
   "id": "1a3c494c-8168-4acd-a855-8696160299c1",
   "metadata": {},
   "outputs": [
    {
     "data": {
      "text/plain": [
       "7"
      ]
     },
     "execution_count": 11,
     "metadata": {},
     "output_type": "execute_result"
    }
   ],
   "source": [
    "len(list1)"
   ]
  },
  {
   "cell_type": "code",
   "execution_count": 17,
   "id": "15eb61f0-efff-4eef-96f9-85abb5ba17e7",
   "metadata": {},
   "outputs": [
    {
     "data": {
      "text/plain": [
       "1"
      ]
     },
     "execution_count": 17,
     "metadata": {},
     "output_type": "execute_result"
    }
   ],
   "source": [
    "list2=[1,8,12,6,19]\n",
    "max(list2)\n",
    "min(list2)"
   ]
  },
  {
   "cell_type": "code",
   "execution_count": 19,
   "id": "c89075bb-bb79-459f-ba04-3f7352301e2a",
   "metadata": {},
   "outputs": [
    {
     "data": {
      "text/plain": [
       "46"
      ]
     },
     "execution_count": 19,
     "metadata": {},
     "output_type": "execute_result"
    }
   ],
   "source": [
    "sum(list2)"
   ]
  },
  {
   "cell_type": "code",
   "execution_count": 21,
   "id": "3f0aab8c-9dbe-4cc2-af21-7fff2557db99",
   "metadata": {},
   "outputs": [
    {
     "data": {
      "text/plain": [
       "[1, 6, 8, 12, 19]"
      ]
     },
     "execution_count": 21,
     "metadata": {},
     "output_type": "execute_result"
    }
   ],
   "source": [
    "sorted(list2)"
   ]
  },
  {
   "cell_type": "code",
   "execution_count": 27,
   "id": "6203e1e0-f2ac-43b4-b245-c6495a66929a",
   "metadata": {},
   "outputs": [
    {
     "name": "stdout",
     "output_type": "stream",
     "text": [
      "19 6 12 8 1 "
     ]
    }
   ],
   "source": [
    "for i in reversed(list2):\n",
    "    print(i,end=\" \")"
   ]
  },
  {
   "cell_type": "code",
   "execution_count": 23,
   "id": "ea93a427-ef9a-43cb-ab29-5adacbb07637",
   "metadata": {},
   "outputs": [
    {
     "data": {
      "text/plain": [
       "<list_reverseiterator at 0x189033a6b60>"
      ]
     },
     "execution_count": 23,
     "metadata": {},
     "output_type": "execute_result"
    }
   ],
   "source": [
    "reversed(list2)"
   ]
  },
  {
   "cell_type": "code",
   "execution_count": null,
   "id": "7c04164a-bd62-4393-9536-1aded39dd87c",
   "metadata": {},
   "outputs": [],
   "source": []
  },
  {
   "cell_type": "code",
   "execution_count": 49,
   "id": "aa377edf-c4a6-4070-b4c9-553f1c0c254e",
   "metadata": {},
   "outputs": [
    {
     "name": "stdout",
     "output_type": "stream",
     "text": [
      "A\n"
     ]
    }
   ],
   "source": [
    "print(min(['S','A','Z']));\n"
   ]
  },
  {
   "cell_type": "code",
   "execution_count": 53,
   "id": "74acb79e-6728-4433-bf05-bc2f7e7d4160",
   "metadata": {},
   "outputs": [
    {
     "name": "stdout",
     "output_type": "stream",
     "text": [
      "['A', 'Apple', 'B', 'Banana', 'C', 'Cherry']\n"
     ]
    }
   ],
   "source": [
    "list1=['A','Apple','B','Banana','C','Cherry']\n",
    "print(list1)"
   ]
  },
  {
   "cell_type": "code",
   "execution_count": 67,
   "id": "b108f27c-216a-4e2b-a9ee-489686149e61",
   "metadata": {},
   "outputs": [
    {
     "data": {
      "text/plain": [
       "['A', ['Apple', 'B', ['Banana'], 'C', ['Cherry']]]"
      ]
     },
     "execution_count": 67,
     "metadata": {},
     "output_type": "execute_result"
    }
   ],
   "source": [
    "list1=['A',['Apple','B',['Banana'],'C',['Cherry']]]\n",
    "list1"
   ]
  },
  {
   "cell_type": "code",
   "execution_count": 69,
   "id": "d059e4db-f290-4327-8b15-0ecc44a66f14",
   "metadata": {},
   "outputs": [
    {
     "data": {
      "text/plain": [
       "'Cherry'"
      ]
     },
     "execution_count": 69,
     "metadata": {},
     "output_type": "execute_result"
    }
   ],
   "source": [
    "list1[1][4][0]"
   ]
  },
  {
   "cell_type": "code",
   "execution_count": 7,
   "id": "db33877a-144b-4977-914e-3d195575609b",
   "metadata": {},
   "outputs": [
    {
     "data": {
      "text/plain": [
       "['{\"dataframes\": [], \"user\": \"siris\"}', '{\"dataframes\": [], \"user\": \"siris\"}']"
      ]
     },
     "execution_count": 7,
     "metadata": {},
     "output_type": "execute_result"
    }
   ],
   "source": [
    "list9=[_,_]\n",
    "list9"
   ]
  },
  {
   "cell_type": "markdown",
   "id": "4067e26c-644e-4476-a07f-5de57d379c8c",
   "metadata": {},
   "source": [
    "- List is represnted with square brackets\n",
    "- List can access array of elements\n",
    "- Values inside list are called elements\n",
    "- duplicates are allowed in list\n",
    "- list can contain all data types\n",
    "- list inside list is also possible"
   ]
  },
  {
   "cell_type": "code",
   "execution_count": 10,
   "id": "67150a51-ee0d-4867-98e6-0243b753e7f6",
   "metadata": {},
   "outputs": [
    {
     "data": {
      "text/plain": [
       "5"
      ]
     },
     "execution_count": 10,
     "metadata": {},
     "output_type": "execute_result"
    }
   ],
   "source": [
    "list1=[11,22,33,44,55]\n",
    "list2=['apple','Dog','bat'];\n",
    "list3=[10,20,30,'apple','banana']\n",
    "len(list1)"
   ]
  },
  {
   "cell_type": "code",
   "execution_count": 12,
   "id": "e81bef83-564c-4d41-94f5-3652ed1c73f6",
   "metadata": {},
   "outputs": [
    {
     "data": {
      "text/plain": [
       "3"
      ]
     },
     "execution_count": 12,
     "metadata": {},
     "output_type": "execute_result"
    }
   ],
   "source": [
    "len(list2)"
   ]
  },
  {
   "cell_type": "code",
   "execution_count": 14,
   "id": "54123e07-2aab-4d21-b774-da083db577c3",
   "metadata": {},
   "outputs": [
    {
     "data": {
      "text/plain": [
       "5"
      ]
     },
     "execution_count": 14,
     "metadata": {},
     "output_type": "execute_result"
    }
   ],
   "source": [
    "len(list3)"
   ]
  },
  {
   "cell_type": "code",
   "execution_count": 16,
   "id": "0416c344-656b-4d06-96d9-832eb40f15d5",
   "metadata": {},
   "outputs": [
    {
     "data": {
      "text/plain": [
       "11"
      ]
     },
     "execution_count": 16,
     "metadata": {},
     "output_type": "execute_result"
    }
   ],
   "source": [
    "min(list1)"
   ]
  },
  {
   "cell_type": "code",
   "execution_count": 18,
   "id": "a0a622b2-87e8-4ed6-a293-164e7af93f62",
   "metadata": {},
   "outputs": [
    {
     "data": {
      "text/plain": [
       "'Dog'"
      ]
     },
     "execution_count": 18,
     "metadata": {},
     "output_type": "execute_result"
    }
   ],
   "source": [
    "min(list2)"
   ]
  },
  {
   "cell_type": "code",
   "execution_count": 20,
   "id": "69610b8c-dbf7-4fc2-af28-b5dae4ac9bfd",
   "metadata": {},
   "outputs": [
    {
     "ename": "TypeError",
     "evalue": "'<' not supported between instances of 'str' and 'int'",
     "output_type": "error",
     "traceback": [
      "\u001b[1;31m---------------------------------------------------------------------------\u001b[0m",
      "\u001b[1;31mTypeError\u001b[0m                                 Traceback (most recent call last)",
      "Cell \u001b[1;32mIn[20], line 1\u001b[0m\n\u001b[1;32m----> 1\u001b[0m \u001b[38;5;28mmin\u001b[39m(list3)\n",
      "\u001b[1;31mTypeError\u001b[0m: '<' not supported between instances of 'str' and 'int'"
     ]
    }
   ],
   "source": [
    "min(list3)"
   ]
  },
  {
   "cell_type": "code",
   "execution_count": 22,
   "id": "029f2856-6810-4d76-aea1-40f3d8f98650",
   "metadata": {},
   "outputs": [
    {
     "ename": "TypeError",
     "evalue": "'>' not supported between instances of 'str' and 'int'",
     "output_type": "error",
     "traceback": [
      "\u001b[1;31m---------------------------------------------------------------------------\u001b[0m",
      "\u001b[1;31mTypeError\u001b[0m                                 Traceback (most recent call last)",
      "Cell \u001b[1;32mIn[22], line 1\u001b[0m\n\u001b[1;32m----> 1\u001b[0m \u001b[38;5;28mmax\u001b[39m(list3)\n",
      "\u001b[1;31mTypeError\u001b[0m: '>' not supported between instances of 'str' and 'int'"
     ]
    }
   ],
   "source": [
    "max(list3)"
   ]
  },
  {
   "cell_type": "code",
   "execution_count": 24,
   "id": "59f1d332-5e50-4a1e-97af-212924900f17",
   "metadata": {},
   "outputs": [
    {
     "data": {
      "text/plain": [
       "55"
      ]
     },
     "execution_count": 24,
     "metadata": {},
     "output_type": "execute_result"
    }
   ],
   "source": [
    "max(list1)\n"
   ]
  },
  {
   "cell_type": "code",
   "execution_count": 26,
   "id": "9ddbda13-b63c-4aa3-ab0b-a928b64e0f87",
   "metadata": {},
   "outputs": [
    {
     "data": {
      "text/plain": [
       "'bat'"
      ]
     },
     "execution_count": 26,
     "metadata": {},
     "output_type": "execute_result"
    }
   ],
   "source": [
    "max(list2)"
   ]
  },
  {
   "cell_type": "code",
   "execution_count": 40,
   "id": "7afc7726-e359-4f2d-b2aa-1b96f0f9d1b4",
   "metadata": {},
   "outputs": [
    {
     "ename": "TypeError",
     "evalue": "'<' not supported between instances of 'str' and 'int'",
     "output_type": "error",
     "traceback": [
      "\u001b[1;31m---------------------------------------------------------------------------\u001b[0m",
      "\u001b[1;31mTypeError\u001b[0m                                 Traceback (most recent call last)",
      "Cell \u001b[1;32mIn[40], line 1\u001b[0m\n\u001b[1;32m----> 1\u001b[0m \u001b[38;5;28msorted\u001b[39m(list3)\n",
      "\u001b[1;31mTypeError\u001b[0m: '<' not supported between instances of 'str' and 'int'"
     ]
    }
   ],
   "source": [
    "sorted(list3)"
   ]
  },
  {
   "cell_type": "code",
   "execution_count": 44,
   "id": "8234ef93-2c13-4620-884d-56a88d6b421f",
   "metadata": {},
   "outputs": [
    {
     "name": "stdout",
     "output_type": "stream",
     "text": [
      "55\n",
      "44\n",
      "33\n",
      "22\n",
      "11\n"
     ]
    }
   ],
   "source": [
    "for i in reversed(list1):\n",
    "    print(i)"
   ]
  },
  {
   "cell_type": "code",
   "execution_count": 46,
   "id": "7b298881-9b83-4795-9bc7-921c1b67d829",
   "metadata": {},
   "outputs": [
    {
     "data": {
      "text/plain": [
       "list"
      ]
     },
     "execution_count": 46,
     "metadata": {},
     "output_type": "execute_result"
    }
   ],
   "source": [
    "list"
   ]
  },
  {
   "cell_type": "code",
   "execution_count": 48,
   "id": "ee0f51c9-010c-4199-b0b8-f8dc33a11065",
   "metadata": {},
   "outputs": [
    {
     "data": {
      "text/plain": [
       "[55, 44, 33, 22, 11]"
      ]
     },
     "execution_count": 48,
     "metadata": {},
     "output_type": "execute_result"
    }
   ],
   "source": [
    "list(reversed(list1))"
   ]
  },
  {
   "cell_type": "markdown",
   "id": "951c534f-d465-4f73-a5af-c0e5f7953220",
   "metadata": {},
   "source": [
    "**INDEX**"
   ]
  },
  {
   "cell_type": "code",
   "execution_count": 59,
   "id": "046795c2-b5e9-482e-be49-62a54d9f946b",
   "metadata": {},
   "outputs": [],
   "source": [
    "list1=[11,22,33,44,'A','B','C'];\n",
    "\n",
    "#-7   -6   -5  -4  -3  -2  -1\n",
    "#11  22  33   44   A   B   C\n",
    "#0   1   2    3    4   5   6"
   ]
  },
  {
   "cell_type": "code",
   "execution_count": 63,
   "id": "f5319739-bada-4897-8206-cc1029d26433",
   "metadata": {},
   "outputs": [
    {
     "data": {
      "text/plain": [
       "11"
      ]
     },
     "execution_count": 63,
     "metadata": {},
     "output_type": "execute_result"
    }
   ],
   "source": [
    "list1[-7]"
   ]
  },
  {
   "cell_type": "code",
   "execution_count": 65,
   "id": "e3144d5b-b25a-4bf3-a2cc-a4c3e103f8df",
   "metadata": {},
   "outputs": [
    {
     "data": {
      "text/plain": [
       "[11, 22, 33, 44, 'A', 'B', 'C']"
      ]
     },
     "execution_count": 65,
     "metadata": {},
     "output_type": "execute_result"
    }
   ],
   "source": [
    "list1[::]"
   ]
  },
  {
   "cell_type": "code",
   "execution_count": 67,
   "id": "b45000cd-f6b5-41c7-ab0f-74922359c2f1",
   "metadata": {},
   "outputs": [
    {
     "data": {
      "text/plain": [
       "['C', 'B', 'A', 44, 33, 22, 11]"
      ]
     },
     "execution_count": 67,
     "metadata": {},
     "output_type": "execute_result"
    }
   ],
   "source": [
    "list1[::-1]"
   ]
  },
  {
   "cell_type": "code",
   "execution_count": 73,
   "id": "fefabf99-072a-4c37-a0e5-e105093e5424",
   "metadata": {},
   "outputs": [
    {
     "data": {
      "text/plain": [
       "['C', 'B', 'A', 44, 33, 22, 11]"
      ]
     },
     "execution_count": 73,
     "metadata": {},
     "output_type": "execute_result"
    }
   ],
   "source": [
    "list1[::-1]"
   ]
  },
  {
   "cell_type": "code",
   "execution_count": 79,
   "id": "970d0a75-dc68-4378-a1c9-b4c69c7c5f7b",
   "metadata": {},
   "outputs": [],
   "source": [
    "list3=[11,22,33,44,55,66,77,88,99,100,'A','B','C']\n",
    "#-13    -12   -11   -10  -9   -8   -7    -6   -5  -4   -3   -2  -1\n",
    "# 11    22     33    44   55   66   77   88   99  100   A   B   C\n",
    "# 0      1     2     3    4    5    6    7     8   9   10   11   12\n",
    "      "
   ]
  },
  {
   "cell_type": "code",
   "execution_count": 81,
   "id": "a6d7a278-8012-4b6d-94fe-ba54c647aaa2",
   "metadata": {},
   "outputs": [
    {
     "data": {
      "text/plain": [
       "[33, 55, 77, 99, 'A']"
      ]
     },
     "execution_count": 81,
     "metadata": {},
     "output_type": "execute_result"
    }
   ],
   "source": [
    "list3[2:12:2]"
   ]
  },
  {
   "cell_type": "code",
   "execution_count": 83,
   "id": "41f6d2b9-79d3-46c7-b91d-e6b6672def63",
   "metadata": {},
   "outputs": [
    {
     "data": {
      "text/plain": [
       "[]"
      ]
     },
     "execution_count": 83,
     "metadata": {},
     "output_type": "execute_result"
    }
   ],
   "source": [
    "list3[2:12:-2]"
   ]
  },
  {
   "cell_type": "code",
   "execution_count": 85,
   "id": "5203e2be-7750-4e98-b10d-373e5817b0ee",
   "metadata": {},
   "outputs": [
    {
     "data": {
      "text/plain": [
       "[]"
      ]
     },
     "execution_count": 85,
     "metadata": {},
     "output_type": "execute_result"
    }
   ],
   "source": [
    "list3[2:-12:2]"
   ]
  },
  {
   "cell_type": "code",
   "execution_count": 87,
   "id": "e8e3b7ba-cac8-439b-a8d7-aac800918fc2",
   "metadata": {},
   "outputs": [
    {
     "data": {
      "text/plain": [
       "['B']"
      ]
     },
     "execution_count": 87,
     "metadata": {},
     "output_type": "execute_result"
    }
   ],
   "source": [
    "list3[-2:12:2]"
   ]
  },
  {
   "cell_type": "code",
   "execution_count": 89,
   "id": "e3b923c3-3f90-401d-9ec0-0ca9aae0f454",
   "metadata": {},
   "outputs": [],
   "source": [
    "l=[[10]]"
   ]
  },
  {
   "cell_type": "code",
   "execution_count": 93,
   "id": "21559f0b-b717-47de-bcb0-7d5f17d5f7d0",
   "metadata": {},
   "outputs": [
    {
     "data": {
      "text/plain": [
       "10"
      ]
     },
     "execution_count": 93,
     "metadata": {},
     "output_type": "execute_result"
    }
   ],
   "source": [
    "l[0][0]"
   ]
  },
  {
   "cell_type": "code",
   "execution_count": 98,
   "id": "7e525473-b709-4920-a671-27d90e957c18",
   "metadata": {},
   "outputs": [],
   "source": [
    "l=[1,2,[10]]"
   ]
  },
  {
   "cell_type": "code",
   "execution_count": 100,
   "id": "cbd1a8f4-a6da-4859-af7c-f0cac09ee266",
   "metadata": {},
   "outputs": [
    {
     "data": {
      "text/plain": [
       "10"
      ]
     },
     "execution_count": 100,
     "metadata": {},
     "output_type": "execute_result"
    }
   ],
   "source": [
    "l[2][0]"
   ]
  },
  {
   "cell_type": "code",
   "execution_count": 102,
   "id": "fdaf5fbb-3bb6-481b-8bb4-d8c5c3557a67",
   "metadata": {},
   "outputs": [],
   "source": [
    "l=[1,2,3,[5,6,['Apple']]]"
   ]
  },
  {
   "cell_type": "code",
   "execution_count": 104,
   "id": "36395d59-a6b0-470d-8721-7dc7bd79d777",
   "metadata": {},
   "outputs": [
    {
     "data": {
      "text/plain": [
       "'Apple'"
      ]
     },
     "execution_count": 104,
     "metadata": {},
     "output_type": "execute_result"
    }
   ],
   "source": [
    "l[3][2][0]"
   ]
  },
  {
   "cell_type": "code",
   "execution_count": 106,
   "id": "bc263429-7580-44bf-9570-6b98f9361e88",
   "metadata": {},
   "outputs": [
    {
     "data": {
      "text/plain": [
       "3"
      ]
     },
     "execution_count": 106,
     "metadata": {},
     "output_type": "execute_result"
    }
   ],
   "source": [
    "l=[1,2,[3,4,['A'],['B']]]\n",
    "len(l)"
   ]
  },
  {
   "cell_type": "code",
   "execution_count": 108,
   "id": "0acb8d7f-faef-4465-8ee6-2b9cb98a9d4a",
   "metadata": {},
   "outputs": [
    {
     "data": {
      "text/plain": [
       "4"
      ]
     },
     "execution_count": 108,
     "metadata": {},
     "output_type": "execute_result"
    }
   ],
   "source": [
    "len(l[2])"
   ]
  },
  {
   "cell_type": "code",
   "execution_count": 114,
   "id": "37592b1e-9b0f-4e03-a1e9-dca7b175d91b",
   "metadata": {},
   "outputs": [
    {
     "data": {
      "text/plain": [
       "'B'"
      ]
     },
     "execution_count": 114,
     "metadata": {},
     "output_type": "execute_result"
    }
   ],
   "source": [
    "l[2][3][0]"
   ]
  },
  {
   "cell_type": "code",
   "execution_count": 1,
   "id": "955d5deb-6ac4-490a-8a9e-f75d15300c93",
   "metadata": {},
   "outputs": [
    {
     "name": "stdin",
     "output_type": "stream",
     "text": [
      "enter number 4\n",
      "enter number 7\n",
      "enter number 9\n",
      "enter number 20\n",
      "enter number 24\n"
     ]
    },
    {
     "name": "stdout",
     "output_type": "stream",
     "text": [
      "[4, 20, 24]\n",
      "[7, 9]\n"
     ]
    }
   ],
   "source": [
    "#WAP ASK user enter 5 values and get even numbers and odd numbers list\n",
    "evenList=[];\n",
    "oddList=[];\n",
    "for i in range(5):\n",
    "    num=eval(input(\"enter number\"));\n",
    "    if num%2==0:\n",
    "        evenList.append(num);\n",
    "    else:\n",
    "        oddList.append(num);\n",
    "print(evenList);\n",
    "print(oddList);"
   ]
  },
  {
   "cell_type": "code",
   "execution_count": 11,
   "id": "b5311722-0593-4728-a64a-80cacb7847f5",
   "metadata": {},
   "outputs": [
    {
     "name": "stdout",
     "output_type": "stream",
     "text": [
      "[916, 132]\n",
      "[635, 301, 893]\n"
     ]
    }
   ],
   "source": [
    "#WAP ASK user enter 5 values and get even numbers and odd numbers list\n",
    "import random;\n",
    "evenList=[];\n",
    "oddList=[];\n",
    "for i in range(5):\n",
    "    num=random.randint(1,1000);\n",
    "    if num%2==0:\n",
    "        evenList.append(num);\n",
    "    else:\n",
    "        oddList.append(num);\n",
    "print(evenList);\n",
    "print(oddList);"
   ]
  },
  {
   "cell_type": "code",
   "execution_count": 5,
   "id": "ff772705-971d-4033-a72b-fc93bf038240",
   "metadata": {},
   "outputs": [],
   "source": [
    "import random;"
   ]
  },
  {
   "cell_type": "code",
   "execution_count": 7,
   "id": "7df4ea09-94cb-42e3-bb90-7959f4d72a48",
   "metadata": {},
   "outputs": [
    {
     "data": {
      "text/plain": [
       "['BPF',\n",
       " 'LOG4',\n",
       " 'NV_MAGICCONST',\n",
       " 'RECIP_BPF',\n",
       " 'Random',\n",
       " 'SG_MAGICCONST',\n",
       " 'SystemRandom',\n",
       " 'TWOPI',\n",
       " '_ONE',\n",
       " '_Sequence',\n",
       " '__all__',\n",
       " '__builtins__',\n",
       " '__cached__',\n",
       " '__doc__',\n",
       " '__file__',\n",
       " '__loader__',\n",
       " '__name__',\n",
       " '__package__',\n",
       " '__spec__',\n",
       " '_accumulate',\n",
       " '_acos',\n",
       " '_bisect',\n",
       " '_ceil',\n",
       " '_cos',\n",
       " '_e',\n",
       " '_exp',\n",
       " '_fabs',\n",
       " '_floor',\n",
       " '_index',\n",
       " '_inst',\n",
       " '_isfinite',\n",
       " '_lgamma',\n",
       " '_log',\n",
       " '_log2',\n",
       " '_os',\n",
       " '_pi',\n",
       " '_random',\n",
       " '_repeat',\n",
       " '_sha512',\n",
       " '_sin',\n",
       " '_sqrt',\n",
       " '_test',\n",
       " '_test_generator',\n",
       " '_urandom',\n",
       " '_warn',\n",
       " 'betavariate',\n",
       " 'binomialvariate',\n",
       " 'choice',\n",
       " 'choices',\n",
       " 'expovariate',\n",
       " 'gammavariate',\n",
       " 'gauss',\n",
       " 'getrandbits',\n",
       " 'getstate',\n",
       " 'lognormvariate',\n",
       " 'normalvariate',\n",
       " 'paretovariate',\n",
       " 'randbytes',\n",
       " 'randint',\n",
       " 'random',\n",
       " 'randrange',\n",
       " 'sample',\n",
       " 'seed',\n",
       " 'setstate',\n",
       " 'shuffle',\n",
       " 'triangular',\n",
       " 'uniform',\n",
       " 'vonmisesvariate',\n",
       " 'weibullvariate']"
      ]
     },
     "execution_count": 7,
     "metadata": {},
     "output_type": "execute_result"
    }
   ],
   "source": [
    "dir(random)"
   ]
  },
  {
   "cell_type": "code",
   "execution_count": 13,
   "id": "7c40808a-b7ce-4af1-bab3-ee8253ddf822",
   "metadata": {},
   "outputs": [],
   "source": [
    "# Q3) input=['hyd','bengaluru','pune','mumbai']\n",
    "#     output=['Hyd','Bengaluru','Pune','Mumbai']\n",
    "\n",
    "# Q4) input=['hyd','bengaluru','pune','mumbai']\n",
    "#     output=['HYD','BENGALURU','PUNE','MUMBAI']\n",
    "\n",
    "# Q5) input=['hyd','ben#galuru','pune','mu#mbai']\n",
    "#     output=[ben#galuru',mu#mbai']\n",
    "\n",
    "# Q6) input=['hyd','ben#galuru','pune','mu#mbai']\n",
    "#     output=[hyd,pune]\n",
    "\n",
    "# Q7) input = 'hai how are you'\n",
    "#     output=['HAI','HOW','ARE','YOU']\n",
    "\n",
    "# Q8) input='virat.kohli@rcb.com;rohit.sharma@mi.com;ms.dhoni@csk.com'\n",
    "#     fname=['virat','rohit'.'ms']\n",
    "#     sname=['kohli','sharma','dhoni']\n",
    "#     cname=['rcb','mi','csk']\n",
    "\n",
    "# Q9) input='can canner can you can not canner with you but you can the canner'\n",
    "#     output=['can'-4,'canner'-3,'you'-3,'not'-1,'with'-1,'but'-1,'the'-1]\n",
    "\n",
    "# Q10) input = 'can canner can you can not canner with you but you can the canner'\n",
    "#      stopwords=['not','you','but','with']\n",
    "#      using stopwords remove those words from input\n",
    "#     output='can canner can can canner can canner'\n",
    "\n",
    "# Q11) take a string find the most repeated word from string\n",
    "\n",
    "# Q12) take a string find the longest length of the word from string\n",
    "\n",
    "# Q13) take a string find the lowest length of the word from string\n",
    "\n",
    "# Q14) you have some qns list is there\n",
    "#      also you have answers list also there\n",
    "#     qns=['who is PM of india',\n",
    "#       'what is the capital of india', who is ICT MENS captain]\n",
    "#    ans=['Modi','Delhi','Rohit']\n",
    "#    whenerver correct answer marks +10\n",
    "#    print you got total "
   ]
  },
  {
   "cell_type": "code",
   "execution_count": 2,
   "id": "dcb19cb2-dbd0-43df-b1bf-40fd67646193",
   "metadata": {},
   "outputs": [
    {
     "data": {
      "text/plain": [
       "['__add__',\n",
       " '__class__',\n",
       " '__class_getitem__',\n",
       " '__contains__',\n",
       " '__delattr__',\n",
       " '__delitem__',\n",
       " '__dir__',\n",
       " '__doc__',\n",
       " '__eq__',\n",
       " '__format__',\n",
       " '__ge__',\n",
       " '__getattribute__',\n",
       " '__getitem__',\n",
       " '__getstate__',\n",
       " '__gt__',\n",
       " '__hash__',\n",
       " '__iadd__',\n",
       " '__imul__',\n",
       " '__init__',\n",
       " '__init_subclass__',\n",
       " '__iter__',\n",
       " '__le__',\n",
       " '__len__',\n",
       " '__lt__',\n",
       " '__mul__',\n",
       " '__ne__',\n",
       " '__new__',\n",
       " '__reduce__',\n",
       " '__reduce_ex__',\n",
       " '__repr__',\n",
       " '__reversed__',\n",
       " '__rmul__',\n",
       " '__setattr__',\n",
       " '__setitem__',\n",
       " '__sizeof__',\n",
       " '__str__',\n",
       " '__subclasshook__',\n",
       " 'append',\n",
       " 'clear',\n",
       " 'copy',\n",
       " 'count',\n",
       " 'extend',\n",
       " 'index',\n",
       " 'insert',\n",
       " 'pop',\n",
       " 'remove',\n",
       " 'reverse',\n",
       " 'sort']"
      ]
     },
     "execution_count": 2,
     "metadata": {},
     "output_type": "execute_result"
    }
   ],
   "source": [
    "dir(list)"
   ]
  },
  {
   "cell_type": "code",
   "execution_count": 26,
   "id": "e1011f23-1d16-4bbd-a411-e42074874342",
   "metadata": {},
   "outputs": [
    {
     "name": "stdout",
     "output_type": "stream",
     "text": [
      "[]\n",
      "['Apple', 'Bat']\n"
     ]
    }
   ],
   "source": [
    "l1=['Apple','Bat'];\n",
    "\n",
    "\n",
    "l2=l1.copy()\n",
    "l1.clear()\n",
    "print(l1)\n",
    "print(l2)\n"
   ]
  },
  {
   "cell_type": "code",
   "execution_count": 28,
   "id": "76d9137e-ab10-4b0b-aaf9-e819111e404b",
   "metadata": {},
   "outputs": [
    {
     "data": {
      "text/plain": [
       "['Apple', 'Bat']"
      ]
     },
     "execution_count": 28,
     "metadata": {},
     "output_type": "execute_result"
    }
   ],
   "source": [
    "l1.extend(l2);\n",
    "l1"
   ]
  },
  {
   "cell_type": "code",
   "execution_count": 30,
   "id": "e9595f98-e249-4930-92d1-bf6230b24138",
   "metadata": {},
   "outputs": [
    {
     "data": {
      "text/plain": [
       "['Apple', 'CAT', 'Bat']"
      ]
     },
     "execution_count": 30,
     "metadata": {},
     "output_type": "execute_result"
    }
   ],
   "source": [
    "l1.insert(1,'CAT');\n",
    "l1"
   ]
  },
  {
   "cell_type": "code",
   "execution_count": 32,
   "id": "75a8b8aa-6fa8-4b41-a3fd-e68cb0892308",
   "metadata": {},
   "outputs": [
    {
     "data": {
      "text/plain": [
       "['Apple', 'CAT']"
      ]
     },
     "execution_count": 32,
     "metadata": {},
     "output_type": "execute_result"
    }
   ],
   "source": [
    "l1.pop()\n",
    "l1"
   ]
  },
  {
   "cell_type": "code",
   "execution_count": 36,
   "id": "bbfaa314-438f-43ff-a4ba-74ffd91e5673",
   "metadata": {},
   "outputs": [
    {
     "data": {
      "text/plain": [
       "['CAT']"
      ]
     },
     "execution_count": 36,
     "metadata": {},
     "output_type": "execute_result"
    }
   ],
   "source": [
    "l1.remove('Apple')\n",
    "l1"
   ]
  },
  {
   "cell_type": "code",
   "execution_count": 38,
   "id": "80b01804-0ac9-462f-9ba9-5cc04ebb59cd",
   "metadata": {},
   "outputs": [
    {
     "data": {
      "text/plain": [
       "['mumbai', 'pune', 'bengaluru', 'hyd']"
      ]
     },
     "execution_count": 38,
     "metadata": {},
     "output_type": "execute_result"
    }
   ],
   "source": [
    "input=['hyd','bengaluru','pune','mumbai'];\n",
    "input.reverse()\n",
    "input"
   ]
  },
  {
   "cell_type": "code",
   "execution_count": 42,
   "id": "3da6c06e-39fe-480c-8501-6beb450747f6",
   "metadata": {},
   "outputs": [
    {
     "data": {
      "text/plain": [
       "['bengaluru', 'hyd', 'mumbai', 'pune']"
      ]
     },
     "execution_count": 42,
     "metadata": {},
     "output_type": "execute_result"
    }
   ],
   "source": [
    "input.sort()\n",
    "input"
   ]
  },
  {
   "cell_type": "markdown",
   "id": "5893b054-c5bb-41d7-8847-5893d3f57c49",
   "metadata": {},
   "source": [
    "- remove will expect element in list\n",
    "- pop will expect index of value\n",
    "- if multiple values exists remove will delete first value only\n",
    "- if nothing mentioned in pop, it will remove last value\n",
    "- if no valid index, pop will give index error\n",
    "- if no value present, remove will give value error"
   ]
  },
  {
   "cell_type": "code",
   "execution_count": 57,
   "id": "acdc31cd-3760-409d-b858-f27a7684d48e",
   "metadata": {},
   "outputs": [
    {
     "name": "stdout",
     "output_type": "stream",
     "text": [
      "['bengaluru', 'hyd', 'mumbai', 'pune']\n"
     ]
    },
    {
     "data": {
      "text/plain": [
       "['hyd', 'mumbai', 'pune']"
      ]
     },
     "execution_count": 57,
     "metadata": {},
     "output_type": "execute_result"
    }
   ],
   "source": [
    "l1=['bengaluru', 'hyd', 'mumbai', 'pune'];\n",
    "print(l1)\n",
    "del(l1[0])\n",
    "l1"
   ]
  },
  {
   "cell_type": "code",
   "execution_count": null,
   "id": "06bdba6d-7450-4d63-ad29-cb6b45737b45",
   "metadata": {},
   "outputs": [],
   "source": []
  }
 ],
 "metadata": {
  "kernelspec": {
   "display_name": "Python [conda env:base] *",
   "language": "python",
   "name": "conda-base-py"
  },
  "language_info": {
   "codemirror_mode": {
    "name": "ipython",
    "version": 3
   },
   "file_extension": ".py",
   "mimetype": "text/x-python",
   "name": "python",
   "nbconvert_exporter": "python",
   "pygments_lexer": "ipython3",
   "version": "3.12.7"
  }
 },
 "nbformat": 4,
 "nbformat_minor": 5
}
