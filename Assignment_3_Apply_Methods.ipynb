{
 "cells": [
  {
   "cell_type": "markdown",
   "id": "3fa0ee3a-7457-4930-9b12-6688ff4190d3",
   "metadata": {},
   "source": [
    "- Take all numbers using random package randint method between 1 to 100\n",
    "- use math.ceil for round off the values\n",
    "- while printing multiple statemennts add time.sleep wherever required"
   ]
  },
  {
   "cell_type": "code",
   "execution_count": 20,
   "id": "2193fdb7-96a2-463f-9ee1-073b19ce558c",
   "metadata": {},
   "outputs": [
    {
     "data": {
      "text/plain": [
       "['BPF',\n",
       " 'LOG4',\n",
       " 'NV_MAGICCONST',\n",
       " 'RECIP_BPF',\n",
       " 'Random',\n",
       " 'SG_MAGICCONST',\n",
       " 'SystemRandom',\n",
       " 'TWOPI',\n",
       " '_ONE',\n",
       " '_Sequence',\n",
       " '__all__',\n",
       " '__builtins__',\n",
       " '__cached__',\n",
       " '__doc__',\n",
       " '__file__',\n",
       " '__loader__',\n",
       " '__name__',\n",
       " '__package__',\n",
       " '__spec__',\n",
       " '_accumulate',\n",
       " '_acos',\n",
       " '_bisect',\n",
       " '_ceil',\n",
       " '_cos',\n",
       " '_e',\n",
       " '_exp',\n",
       " '_fabs',\n",
       " '_floor',\n",
       " '_index',\n",
       " '_inst',\n",
       " '_isfinite',\n",
       " '_lgamma',\n",
       " '_log',\n",
       " '_log2',\n",
       " '_os',\n",
       " '_pi',\n",
       " '_random',\n",
       " '_repeat',\n",
       " '_sha512',\n",
       " '_sin',\n",
       " '_sqrt',\n",
       " '_test',\n",
       " '_test_generator',\n",
       " '_urandom',\n",
       " '_warn',\n",
       " 'betavariate',\n",
       " 'binomialvariate',\n",
       " 'choice',\n",
       " 'choices',\n",
       " 'expovariate',\n",
       " 'gammavariate',\n",
       " 'gauss',\n",
       " 'getrandbits',\n",
       " 'getstate',\n",
       " 'lognormvariate',\n",
       " 'normalvariate',\n",
       " 'paretovariate',\n",
       " 'randbytes',\n",
       " 'randint',\n",
       " 'random',\n",
       " 'randrange',\n",
       " 'sample',\n",
       " 'seed',\n",
       " 'setstate',\n",
       " 'shuffle',\n",
       " 'triangular',\n",
       " 'uniform',\n",
       " 'vonmisesvariate',\n",
       " 'weibullvariate']"
      ]
     },
     "execution_count": 20,
     "metadata": {},
     "output_type": "execute_result"
    }
   ],
   "source": [
    "dir(random)"
   ]
  },
  {
   "cell_type": "code",
   "execution_count": 92,
   "id": "391593a1-cab0-489c-9a1e-bab4abda673e",
   "metadata": {},
   "outputs": [
    {
     "data": {
      "text/plain": [
       "['__doc__',\n",
       " '__loader__',\n",
       " '__name__',\n",
       " '__package__',\n",
       " '__spec__',\n",
       " 'acos',\n",
       " 'acosh',\n",
       " 'asin',\n",
       " 'asinh',\n",
       " 'atan',\n",
       " 'atan2',\n",
       " 'atanh',\n",
       " 'cbrt',\n",
       " 'ceil',\n",
       " 'comb',\n",
       " 'copysign',\n",
       " 'cos',\n",
       " 'cosh',\n",
       " 'degrees',\n",
       " 'dist',\n",
       " 'e',\n",
       " 'erf',\n",
       " 'erfc',\n",
       " 'exp',\n",
       " 'exp2',\n",
       " 'expm1',\n",
       " 'fabs',\n",
       " 'factorial',\n",
       " 'floor',\n",
       " 'fmod',\n",
       " 'frexp',\n",
       " 'fsum',\n",
       " 'gamma',\n",
       " 'gcd',\n",
       " 'hypot',\n",
       " 'inf',\n",
       " 'isclose',\n",
       " 'isfinite',\n",
       " 'isinf',\n",
       " 'isnan',\n",
       " 'isqrt',\n",
       " 'lcm',\n",
       " 'ldexp',\n",
       " 'lgamma',\n",
       " 'log',\n",
       " 'log10',\n",
       " 'log1p',\n",
       " 'log2',\n",
       " 'modf',\n",
       " 'nan',\n",
       " 'nextafter',\n",
       " 'perm',\n",
       " 'pi',\n",
       " 'pow',\n",
       " 'prod',\n",
       " 'radians',\n",
       " 'remainder',\n",
       " 'sin',\n",
       " 'sinh',\n",
       " 'sqrt',\n",
       " 'sumprod',\n",
       " 'tan',\n",
       " 'tanh',\n",
       " 'tau',\n",
       " 'trunc',\n",
       " 'ulp']"
      ]
     },
     "execution_count": 92,
     "metadata": {},
     "output_type": "execute_result"
    }
   ],
   "source": [
    "dir(math)"
   ]
  },
  {
   "cell_type": "code",
   "execution_count": 15,
   "id": "9553b9ee-c83c-45be-adf1-a3da4d6c7d78",
   "metadata": {},
   "outputs": [
    {
     "name": "stdout",
     "output_type": "stream",
     "text": [
      "avg of 38,135 and 259 is 144.0\n"
     ]
    }
   ],
   "source": [
    "import math\n",
    "from random import randint\n",
    "n1= randint(35,100);\n",
    "n2= randint(100,200);\n",
    "n3= randint(200,300);\n",
    "avg= round((n1+n2+n3)/3,2)\n",
    "\n",
    "print(f\"avg of {n1},{n2} and {n3} is {avg}\");"
   ]
  },
  {
   "cell_type": "markdown",
   "id": "bbda5fc9-a0cf-4052-ae29-b14520c9ac81",
   "metadata": {},
   "source": [
    "#### 1)wap ask the user enter 3 random numbers n1,n2,n3 from ketboard\n",
    "-  calculate average\n",
    "-  functions used: randrange"
   ]
  },
  {
   "cell_type": "markdown",
   "id": "51784d62-d983-41b0-aa09-b002de8ad71d",
   "metadata": {},
   "source": [
    "#### 2)wap ask the user enter name  random age  and  city using input\n",
    "##### print my name is python im 10 years old and came from hyd\n",
    "- -  functions used: randrange"
   ]
  },
  {
   "cell_type": "code",
   "execution_count": 24,
   "id": "47842fa7-5bc0-476c-8234-abbbfa5f19ab",
   "metadata": {},
   "outputs": [
    {
     "name": "stdin",
     "output_type": "stream",
     "text": [
      "enter your name: Shirisha Byrapu\n",
      "enter your city Kurnool\n"
     ]
    },
    {
     "name": "stdout",
     "output_type": "stream",
     "text": [
      "My name is Shirisha Byrapu,I'm 25 years old and came from Kurnool\n"
     ]
    }
   ],
   "source": [
    "name = input(\"enter your name:\");\n",
    "age  = random.randrange(35);\n",
    "city = input(\"enter your city\");\n",
    "print(f\"My name is {name},I'm {age} years old and came from {city}\");\n"
   ]
  },
  {
   "cell_type": "markdown",
   "id": "15a24cb2-c4eb-4023-b657-e29fafcb79c5",
   "metadata": {},
   "source": [
    "#### 3)wap ask the user to enter random radidus of a circle calculate area of the circle\n",
    "- var: radidus  var: pi=3.14\n",
    "- print the answers using f string and format\n",
    "- functions\n",
    "  - random.choice\n",
    "  - math.ceil\n",
    "  - math.pi\n",
    "  - math.pow"
   ]
  },
  {
   "cell_type": "code",
   "execution_count": 36,
   "id": "97af06f5-6b1b-4101-8a6b-bf524b093333",
   "metadata": {},
   "outputs": [
    {
     "name": "stdout",
     "output_type": "stream",
     "text": [
      "radius of circle is 6\n",
      "Area of circle for radius 6 is 114\n"
     ]
    }
   ],
   "source": [
    "radius = random.choice([5,25,4,6,8]);\n",
    "print(f\"radius of circle is {radius}\");\n",
    "area = math.ceil((math.pi)*math.pow(radius,2));\n",
    "print(f\"Area of circle for radius {radius} is {area}\");"
   ]
  },
  {
   "cell_type": "markdown",
   "id": "c073eef0-6cdb-401d-a8f4-8e1f2a787fbb",
   "metadata": {},
   "source": [
    "#### 4)wap ask the user enter random breadth and height of a right angle triangle\n",
    "- calculate the area\n",
    "- var1: bredath  var2: height\n",
    "- formuale : 0.5*breadth*heigh\n",
    "- functions used:\n",
    "    - randint\n",
    "    - ceil"
   ]
  },
  {
   "cell_type": "code",
   "execution_count": 44,
   "id": "131a4cf6-e98d-4903-979a-62e97cc4ef20",
   "metadata": {},
   "outputs": [
    {
     "name": "stdout",
     "output_type": "stream",
     "text": [
      "Area of triange with base 207 and height 557 is 57650\n"
     ]
    }
   ],
   "source": [
    "triHgt = random.randint(500,800);\n",
    "triBdth = random.randint(200,250);\n",
    "triArea = math.ceil(0.5*triHgt*triBdth);\n",
    "print(f\"Area of triange with base {triBdth} and height {triHgt} is {triArea}\");"
   ]
  },
  {
   "cell_type": "markdown",
   "id": "84b8e6ae-61dd-4b15-8c88-f82d84019a15",
   "metadata": {},
   "source": [
    "#### 5)wap ask the user the random bill amount and tip amount\n",
    "- calculate total bill\n",
    "- var1: bill amount var2: tip amount\n",
    "- functions used\n",
    "  - randint"
   ]
  },
  {
   "cell_type": "code",
   "execution_count": 47,
   "id": "d7347508-7288-40b1-b32e-49da8019b2fd",
   "metadata": {},
   "outputs": [
    {
     "name": "stdout",
     "output_type": "stream",
     "text": [
      "total amount for bill 532 and tip 37 is 569\n"
     ]
    }
   ],
   "source": [
    "randBill = random.randint(500,1000);\n",
    "randTip = random.randint(30,50);\n",
    "totalBill = randBill+randTip;\n",
    "print(f\"total amount for bill {randBill} and tip {randTip} is {totalBill}\");"
   ]
  },
  {
   "cell_type": "markdown",
   "id": "c35c48a1-cd1a-4f1f-a3f0-0b9a2e634817",
   "metadata": {},
   "source": [
    "#### 6)wap ask the user the random bill amount and tip percentage\n",
    "- take tip percentage as random percent\n",
    "- calculate total bill= bill amount+ bill amount*tip per/100\n",
    "- functions used\n",
    "   - randint\n",
    "   - ceil"
   ]
  },
  {
   "cell_type": "code",
   "execution_count": 54,
   "id": "43666342-32f1-4e0a-8a71-5b9de1592dc1",
   "metadata": {},
   "outputs": [
    {
     "name": "stdout",
     "output_type": "stream",
     "text": [
      "total amount for bill 763 and tip percentage 7 is 817\n"
     ]
    }
   ],
   "source": [
    "randBillAmt = random.randint(500,1000);\n",
    "randTipPercent = random.randint(5,20);\n",
    "totalBillAmt = math.ceil(randBillAmt+((randBillAmt*(randTipPercent/100))));\n",
    "print(f\"total amount for bill {randBillAmt} and tip percentage {randTipPercent} is {totalBillAmt}\");"
   ]
  },
  {
   "cell_type": "markdown",
   "id": "2af6701d-51a3-48f3-a580-99463be7caa5",
   "metadata": {},
   "source": [
    "\n",
    "#### 7)wap ask the random length and breadth of a rectangle calculate area\n",
    "- functions used\n",
    "   - randint\n",
    "   - random\n",
    "   - math.floor\n"
   ]
  },
  {
   "cell_type": "code",
   "execution_count": 63,
   "id": "02691d40-7535-47aa-932f-d43b0aecd8a8",
   "metadata": {},
   "outputs": [
    {
     "name": "stdout",
     "output_type": "stream",
     "text": [
      "Area of rectange with length 7 and breadth 0.8307322584693031 is 5\n"
     ]
    }
   ],
   "source": [
    "recLen = random.randint(5,10);\n",
    "recBreadth = random.random();\n",
    "recArea = math.floor(recLen*recBreadth);\n",
    "print(f\"Area of rectange with length {recLen} and breadth {recBreadth} is {recArea}\");"
   ]
  },
  {
   "cell_type": "markdown",
   "id": "e6c8a99d-deff-4a91-9706-42248217f0cf",
   "metadata": {},
   "source": [
    "#### 8) wap ask the user take the random radius and calculate volume of sphere\n",
    "- formulae: 4/3 3.14 r^3\n",
    "- functions used\n",
    "   - randrange\n",
    "   - math.ceil\n",
    "   - math.pow\n",
    "   - math.pi"
   ]
  },
  {
   "cell_type": "code",
   "execution_count": 77,
   "id": "beaec94a-5780-4d89-ab4e-4d4d255b3cd8",
   "metadata": {},
   "outputs": [
    {
     "name": "stdout",
     "output_type": "stream",
     "text": [
      "volume of sphere with radius 10 is 4189\n"
     ]
    }
   ],
   "source": [
    "sphereRadius = random.randrange(10,20,10);\n",
    "volume = math.ceil((4/3)*(math.pi)*(math.pow(sphereRadius,3)));\n",
    "print(f\"volume of sphere with radius {sphereRadius} is {volume}\");"
   ]
  },
  {
   "cell_type": "markdown",
   "id": "7117aee3-bbc2-4fb2-9a74-8a58ee3ee35e",
   "metadata": {},
   "source": [
    "#### 9) wap ask the user enter random  amount in dollars convert into rupees\n",
    "-   1$=85rs"
   ]
  },
  {
   "cell_type": "code",
   "execution_count": 96,
   "id": "f4668587-4090-4d2a-bab8-b86a89551ee6",
   "metadata": {},
   "outputs": [
    {
     "name": "stdout",
     "output_type": "stream",
     "text": [
      "usd 1600 in inr is 136000\n"
     ]
    }
   ],
   "source": [
    "dollarAmt = random.randrange(100,2000,100);\n",
    "inrAmt = dollarAmt*85;\n",
    "print(f\"usd {dollarAmt} in inr is {inrAmt}\");"
   ]
  },
  {
   "cell_type": "markdown",
   "id": "d59369c7-1c69-4e2e-b296-1d1ee23b4fb6",
   "metadata": {},
   "source": [
    "#### 10)wap ask the user enter random weight in kgs convert into pounds\n",
    "- 1kg= 2.2pounds"
   ]
  },
  {
   "cell_type": "code",
   "execution_count": 101,
   "id": "d4ca6bb4-56a9-4662-ba54-dcfc6a30b07e",
   "metadata": {},
   "outputs": [
    {
     "name": "stdout",
     "output_type": "stream",
     "text": [
      "59 kgs is equal to  129.8 pounds\n"
     ]
    }
   ],
   "source": [
    "weightKgs = randint(50,60);\n",
    "pounds = weightKgs*(2.2);\n",
    "print(f\"{weightKgs} kgs is equal to  {pounds} pounds\");"
   ]
  },
  {
   "cell_type": "code",
   "execution_count": null,
   "id": "aeeb60ff-b1bf-42fc-86a0-1ec30be8c939",
   "metadata": {},
   "outputs": [],
   "source": []
  }
 ],
 "metadata": {
  "kernelspec": {
   "display_name": "Python [conda env:base] *",
   "language": "python",
   "name": "conda-base-py"
  },
  "language_info": {
   "codemirror_mode": {
    "name": "ipython",
    "version": 3
   },
   "file_extension": ".py",
   "mimetype": "text/x-python",
   "name": "python",
   "nbconvert_exporter": "python",
   "pygments_lexer": "ipython3",
   "version": "3.12.7"
  }
 },
 "nbformat": 4,
 "nbformat_minor": 5
}
