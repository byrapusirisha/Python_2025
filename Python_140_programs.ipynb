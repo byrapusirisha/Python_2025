{
 "cells": [
  {
   "cell_type": "markdown",
   "id": "f24a8802-0465-4e0f-8c50-945727b17ae7",
   "metadata": {},
   "source": [
    "**1. WAP to print Hello**"
   ]
  },
  {
   "cell_type": "code",
   "execution_count": 2,
   "id": "b27d7de0-324e-48a9-a71a-3e46e941a7da",
   "metadata": {},
   "outputs": [
    {
     "name": "stdout",
     "output_type": "stream",
     "text": [
      "Hello\n"
     ]
    }
   ],
   "source": [
    "print(\"Hello\");\n"
   ]
  },
  {
   "cell_type": "markdown",
   "id": "fa922aac-37de-4e3f-9cb5-8a2356d7f4c7",
   "metadata": {},
   "source": [
    "**2. WAP to perform arithematical operations additon and division**"
   ]
  },
  {
   "cell_type": "code",
   "execution_count": 11,
   "id": "f4e5c863-41b7-4a01-ad82-679e3a40b8d8",
   "metadata": {},
   "outputs": [
    {
     "name": "stdin",
     "output_type": "stream",
     "text": [
      "enter num1 1000\n",
      "enter num2 0\n"
     ]
    },
    {
     "name": "stdout",
     "output_type": "stream",
     "text": [
      "Ecception:  division by zero\n"
     ]
    }
   ],
   "source": [
    "try:\n",
    "    a=eval(input(\"enter num1\"));\n",
    "    b= eval(input(\"enter num2\"));\n",
    "    add=a+b;\n",
    "    div=a/b;\n",
    "    print(add);\n",
    "    print(div);\n",
    "except Exception as e:\n",
    "    print(\"Ecception: \",e);\n",
    "    \n"
   ]
  },
  {
   "cell_type": "markdown",
   "id": "afdde6f2-1d2c-4124-91ec-c4bc3ca339dc",
   "metadata": {},
   "source": [
    "**3. WAP to perforom area of triangle**"
   ]
  },
  {
   "cell_type": "code",
   "execution_count": 24,
   "id": "de3a724a-173b-4669-bed0-950e7b2d3ae4",
   "metadata": {},
   "outputs": [
    {
     "name": "stdin",
     "output_type": "stream",
     "text": [
      "enter base of traingle 100\n",
      "enter height of traingle 200\n"
     ]
    },
    {
     "name": "stdout",
     "output_type": "stream",
     "text": [
      "Area of triangle is 10000.0\n"
     ]
    }
   ],
   "source": [
    "try:\n",
    "    base=eval(input(\"enter base of traingle\"));\n",
    "    height=eval(input(\"enter height of traingle\"));\n",
    "    area=(0.5)*(base)*(height);\n",
    "    print(f\"Area of triangle is {area}\");\n",
    "except Exception as e:\n",
    "    print(\"Exception: \",e);\n"
   ]
  },
  {
   "cell_type": "markdown",
   "id": "bba19dad-e85d-4395-9a38-2a7dae861e55",
   "metadata": {},
   "source": [
    "**4.WAP to swap 2 varaibles**"
   ]
  },
  {
   "cell_type": "code",
   "execution_count": 27,
   "id": "92bb302b-4c9e-4ac5-b81e-999f37de428b",
   "metadata": {},
   "outputs": [
    {
     "name": "stdout",
     "output_type": "stream",
     "text": [
      "20 10\n"
     ]
    }
   ],
   "source": [
    "a=10;\n",
    "b=20;\n",
    "temp=b;\n",
    "b=a;\n",
    "a=temp;\n",
    "print(a,b)"
   ]
  },
  {
   "cell_type": "markdown",
   "id": "99c69c09-6e8c-4621-89ee-6b96cc6e812a",
   "metadata": {},
   "source": [
    "**5.WAP to generate random number**"
   ]
  },
  {
   "cell_type": "code",
   "execution_count": 30,
   "id": "4eca1847-94e8-4537-9cda-ab2e3c939f6c",
   "metadata": {},
   "outputs": [
    {
     "name": "stdout",
     "output_type": "stream",
     "text": [
      "32\n"
     ]
    }
   ],
   "source": [
    "from random import randint;\n",
    "randNum=randint(1,100);\n",
    "print(randNum)"
   ]
  },
  {
   "cell_type": "markdown",
   "id": "d3247eda-293f-4dac-9da8-bab974a967f7",
   "metadata": {},
   "source": [
    "**6.WAP to convert KMS to Miles**"
   ]
  },
  {
   "cell_type": "code",
   "execution_count": 37,
   "id": "19ac3a7f-fe99-404d-964d-cc23bc880514",
   "metadata": {},
   "outputs": [
    {
     "name": "stdin",
     "output_type": "stream",
     "text": [
      "enter distance in KMs 5\n"
     ]
    },
    {
     "name": "stdout",
     "output_type": "stream",
     "text": [
      "distance in miles  3.106855\n"
     ]
    }
   ],
   "source": [
    "kms= float(input(\"enter distance in KMs\"));\n",
    "#conversion = 1km= 0.6 miles\n",
    "distInMiles= kms*0.621371;\n",
    "print(\"distance in miles \", distInMiles);\n"
   ]
  },
  {
   "cell_type": "markdown",
   "id": "29125c26-7243-4348-b8c8-f977ef238398",
   "metadata": {},
   "source": [
    "**7.WAP to convert Celcius  to Fahrenheit**"
   ]
  },
  {
   "cell_type": "code",
   "execution_count": 16,
   "id": "1b6c5f01-9e70-4e34-ba9f-3e240274e8f0",
   "metadata": {},
   "outputs": [
    {
     "name": "stdin",
     "output_type": "stream",
     "text": [
      "enter temperature in celcius 35\n"
     ]
    },
    {
     "name": "stdout",
     "output_type": "stream",
     "text": [
      "temp in Fahrenheit:  95.0\n"
     ]
    }
   ],
   "source": [
    "celsius=float(input(\"enter temperature in celcius\"));\n",
    "#conversion : F= (9/5)*C+32\n",
    "temp_in_f=((9/5)*celsius)+32\n",
    "print(\"temp in Fahrenheit: \",temp_in_f);"
   ]
  },
  {
   "cell_type": "markdown",
   "id": "bf908415-f084-4862-a81d-9c38d1ca6241",
   "metadata": {},
   "source": [
    "**8.WAP to display Calendar**"
   ]
  },
  {
   "cell_type": "code",
   "execution_count": 33,
   "id": "510c590f-d077-4d58-a20b-790555ce72ef",
   "metadata": {},
   "outputs": [
    {
     "name": "stdin",
     "output_type": "stream",
     "text": [
      "enter year 2025\n",
      "enter month between 1 to 12 1\n"
     ]
    },
    {
     "name": "stdout",
     "output_type": "stream",
     "text": [
      "    January 2025\n",
      "Mo Tu We Th Fr Sa Su\n",
      "       1  2  3  4  5\n",
      " 6  7  8  9 10 11 12\n",
      "13 14 15 16 17 18 19\n",
      "20 21 22 23 24 25 26\n",
      "27 28 29 30 31\n",
      "\n"
     ]
    }
   ],
   "source": [
    "import calendar;\n",
    "year=eval(input(\"enter year\"));\n",
    "month=eval(input(\"enter month between 1 to 12\"));\n",
    "print(calendar.month(year,month));"
   ]
  },
  {
   "cell_type": "markdown",
   "id": "d95f8e4b-c58d-46a8-a4be-e610925b7392",
   "metadata": {},
   "source": [
    "**9.WAP to solve quadratic equation**"
   ]
  },
  {
   "cell_type": "code",
   "execution_count": null,
   "id": "0d7f3a6d-4cd4-468c-8075-1cc657fd53a2",
   "metadata": {},
   "outputs": [],
   "source": [
    "ax**2+bx+c=0"
   ]
  },
  {
   "cell_type": "markdown",
   "id": "b1397efc-62bd-4ae9-b151-906be78a38f9",
   "metadata": {},
   "source": [
    "**10.WAP to swap 2 variables without temp**"
   ]
  },
  {
   "cell_type": "code",
   "execution_count": 40,
   "id": "afeca77f-19f5-441d-b5ec-eaded2184e2c",
   "metadata": {},
   "outputs": [
    {
     "name": "stdin",
     "output_type": "stream",
     "text": [
      "enter number 1 200\n",
      "enter number 2 100\n"
     ]
    },
    {
     "name": "stdout",
     "output_type": "stream",
     "text": [
      "swapped varaibles 100 200\n"
     ]
    }
   ],
   "source": [
    "a=eval(input(\"enter number 1\"));\n",
    "b=eval(input(\"enter number 2\"));\n",
    "a=a+b;\n",
    "b=a-b;\n",
    "a=a-b;\n",
    "print(\"swapped varaibles\",a,b);"
   ]
  },
  {
   "cell_type": "markdown",
   "id": "a40b0b7e-2e78-4883-aa5a-633b8b6732d9",
   "metadata": {},
   "source": [
    "**11.WAP to check if number is positive, negative or 0**"
   ]
  },
  {
   "cell_type": "code",
   "execution_count": 47,
   "id": "d063767b-0988-49d5-bdba-02261a82823a",
   "metadata": {},
   "outputs": [
    {
     "name": "stdin",
     "output_type": "stream",
     "text": [
      "enter number 0\n"
     ]
    },
    {
     "name": "stdout",
     "output_type": "stream",
     "text": [
      "0 is Zero\n"
     ]
    }
   ],
   "source": [
    "num=eval(input(\"enter number\"));\n",
    "if num>0:\n",
    "    print(f\"{num} is postive integer\");\n",
    "elif num<0:\n",
    "    print(f\"{num} is negative integer\");\n",
    "else:\n",
    "    print(f\"{num} is Zero\");\n"
   ]
  },
  {
   "cell_type": "markdown",
   "id": "ed6facc2-d343-46c8-a1b6-2320d3003c79",
   "metadata": {},
   "source": [
    "**12.WAP to check if num is even or odd**"
   ]
  },
  {
   "cell_type": "code",
   "execution_count": 57,
   "id": "f82a60d3-2a60-41a2-ad62-4fe7ef861dd5",
   "metadata": {},
   "outputs": [
    {
     "name": "stdin",
     "output_type": "stream",
     "text": [
      "enter number 1023244\n"
     ]
    },
    {
     "name": "stdout",
     "output_type": "stream",
     "text": [
      "1023244 is even\n"
     ]
    }
   ],
   "source": [
    "num=eval(input(\"enter number\"));\n",
    "if num%2==0:\n",
    "    print(f\"{num} is even\");\n",
    "else:\n",
    "    print(f\"{num} is odd\");"
   ]
  },
  {
   "cell_type": "markdown",
   "id": "18ad57ac-2d52-4666-8174-2d4577758a33",
   "metadata": {},
   "source": [
    "**13.WAP to check if leap year**"
   ]
  },
  {
   "cell_type": "code",
   "execution_count": 94,
   "id": "112638c2-f8de-4c14-9c8c-2f928814d450",
   "metadata": {},
   "outputs": [
    {
     "name": "stdin",
     "output_type": "stream",
     "text": [
      "enter year 1900\n"
     ]
    },
    {
     "name": "stdout",
     "output_type": "stream",
     "text": [
      "1900 is non leap year\n"
     ]
    }
   ],
   "source": [
    "year=eval(input(\"enter year\"));\n",
    "\n",
    "if year%100==0 and year%400==0:\n",
    "    print(f\"{year} is  leap year\");\n",
    "elif year%4==0 and year%100!=0:\n",
    "    print(f\"{year} is leap year\");\n",
    "else:\n",
    "    print(f\"{year} is non leap year\");"
   ]
  },
  {
   "cell_type": "markdown",
   "id": "015ac5c1-cfa6-4a8b-a932-a9e93f427448",
   "metadata": {},
   "source": [
    "**14.WAP to check if number is prime**"
   ]
  },
  {
   "cell_type": "code",
   "execution_count": 160,
   "id": "341906d5-6bd1-414f-82e2-1b8f2f83f085",
   "metadata": {},
   "outputs": [
    {
     "name": "stdin",
     "output_type": "stream",
     "text": [
      "enter num 1092\n"
     ]
    },
    {
     "name": "stdout",
     "output_type": "stream",
     "text": [
      "2\n",
      "3\n",
      "4\n",
      "6\n",
      "7\n",
      "1092 is composite\n"
     ]
    }
   ],
   "source": [
    "num=eval(input(\"enter num\"));\n",
    "count=0;\n",
    "for i in range(2,10):\n",
    "    if num%i==0 and num!=i:\n",
    "        count=count+1;\n",
    "        print(i);\n",
    "if count<0:\n",
    "    print(f\"{num} is prime numner\");\n",
    "else:\n",
    "    print(f\"{num} is composite\");\n",
    "\n",
    "    "
   ]
  },
  {
   "cell_type": "markdown",
   "id": "d4fd266c-8f0b-4b45-be05-0050cc222572",
   "metadata": {},
   "source": [
    "**15.WAP to print prime number 1,10**"
   ]
  },
  {
   "cell_type": "code",
   "execution_count": 214,
   "id": "34068401-5d80-4203-b3b3-31ef595a43ae",
   "metadata": {},
   "outputs": [
    {
     "name": "stdout",
     "output_type": "stream",
     "text": [
      "2 3 5 7 11 13 17 19 23 29 31 37 41 43 47 53 59 61 67 71 73 79 83 89 97 "
     ]
    }
   ],
   "source": [
    "\n",
    "for num in range(1,100):\n",
    "    count=0;\n",
    "    if num>1:\n",
    "        for i in range(2,num):\n",
    "            if num%i==0 and num!=i:\n",
    "                count=count+1;\n",
    "        if count<=0:\n",
    "            print(num,end=\" \");\n",
    "    \n",
    "        \n",
    "        "
   ]
  },
  {
   "cell_type": "markdown",
   "id": "91f9bfc7-e9f1-4753-adec-0684b5819809",
   "metadata": {},
   "source": [
    "**16. WAP to find factorial of number**"
   ]
  },
  {
   "cell_type": "code",
   "execution_count": 243,
   "id": "4c039567-9ac8-4a19-a17e-131f2f6a24d9",
   "metadata": {},
   "outputs": [
    {
     "name": "stdin",
     "output_type": "stream",
     "text": [
      "enter number 5\n"
     ]
    },
    {
     "name": "stdout",
     "output_type": "stream",
     "text": [
      "factorial of 5 is 5\n",
      "factorial of 5 is 10\n",
      "factorial of 5 is 15\n",
      "factorial of 5 is 20\n",
      "factorial of 5 is 25\n"
     ]
    }
   ],
   "source": [
    "num=eval(input(\"enter number\"));\n",
    "temp=1;\n",
    "for i in range(1,num+1):\n",
    "    temp=(num*i);\n",
    "    print(f\"factorial of {num} is {fact}\");"
   ]
  },
  {
   "cell_type": "code",
   "execution_count": null,
   "id": "c1dc461d-1a4d-46a6-b021-d4cb22440462",
   "metadata": {},
   "outputs": [],
   "source": []
  }
 ],
 "metadata": {
  "kernelspec": {
   "display_name": "Python [conda env:base] *",
   "language": "python",
   "name": "conda-base-py"
  },
  "language_info": {
   "codemirror_mode": {
    "name": "ipython",
    "version": 3
   },
   "file_extension": ".py",
   "mimetype": "text/x-python",
   "name": "python",
   "nbconvert_exporter": "python",
   "pygments_lexer": "ipython3",
   "version": "3.12.7"
  }
 },
 "nbformat": 4,
 "nbformat_minor": 5
}
