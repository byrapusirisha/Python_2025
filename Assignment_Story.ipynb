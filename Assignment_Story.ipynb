{
 "cells": [
  {
   "cell_type": "markdown",
   "id": "90a9eb66-5aa5-434c-abef-5e965b1aa82c",
   "metadata": {},
   "source": [
    "#### story between papa & son"
   ]
  },
  {
   "cell_type": "code",
   "execution_count": 5,
   "id": "203a348d-8381-489d-9f77-bfa612fa359d",
   "metadata": {},
   "outputs": [
    {
     "name": "stdin",
     "output_type": "stream",
     "text": [
      "enetr dialogue1 Hi Papa\n",
      "enter dialogue 1 papa Hi son\n",
      "enter dialogue 2 son im going to school\n",
      "enter dialogue 2 papa okay, I heard your results are out\n",
      "enter dialogue 3son yes\n",
      "enter dialogue 3 papa what is the result\n"
     ]
    },
    {
     "name": "stdout",
     "output_type": "stream",
     "text": [
      "telugu:86\n",
      "maths:96\n",
      "hindi:60\n",
      "eng:86\n",
      "social:92\n",
      "avg is 84\n"
     ]
    }
   ],
   "source": [
    "import random;\n",
    "import math;\n",
    "s1= input(\"enetr dialogue1\");\n",
    "p1= input(\"enter dialogue 1 papa\")\n",
    "s2= input(\"enter dialogue 2 son\");\n",
    "p2=input(\"enter dialogue 2 papa\");\n",
    "s3=input(\"enter dialogue 3son\");\n",
    "p3=input(\"enter dialogue 3 papa\");\n",
    "tel= random.randint(80,90);\n",
    "print(f\"telugu:{tel}\");\n",
    "maths= random.randint(95,100);\n",
    "print(f\"maths:{maths}\");\n",
    "hindi= random.randint(50,70);\n",
    "print(f\"hindi:{hindi}\");\n",
    "eng=random.randint(80,90);\n",
    "print(f\"eng:{eng}\");\n",
    "social=random.randint(90,100);\n",
    "print(f\"social:{social}\");\n",
    "avg= math.ceil((tel+maths+hindi+eng+social)/5);\n",
    "print(f\"avg is {avg}\");\n"
   ]
  },
  {
   "cell_type": "code",
   "execution_count": null,
   "id": "f086cf34-f06d-4b4d-82bb-7065e513de1b",
   "metadata": {},
   "outputs": [],
   "source": []
  }
 ],
 "metadata": {
  "kernelspec": {
   "display_name": "Python [conda env:base] *",
   "language": "python",
   "name": "conda-base-py"
  },
  "language_info": {
   "codemirror_mode": {
    "name": "ipython",
    "version": 3
   },
   "file_extension": ".py",
   "mimetype": "text/x-python",
   "name": "python",
   "nbconvert_exporter": "python",
   "pygments_lexer": "ipython3",
   "version": "3.12.7"
  }
 },
 "nbformat": 4,
 "nbformat_minor": 5
}
