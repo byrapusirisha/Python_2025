{
 "cells": [
  {
   "cell_type": "code",
   "execution_count": null,
   "id": "fa69e66e-5aa5-45d3-95c2-3fc014405a64",
   "metadata": {},
   "outputs": [],
   "source": [
    "Complete all if-else questions using try-except method\n",
    "# wap ask the user take two numbers\n",
    "# num1 and num2\n",
    "# if both numbers are matched then print we are won\n",
    "# otherwise print we lost\n",
    "\n",
    "# step-1: n1=eval(input('en'))\n",
    "# step-2: n2=eval(input('en'))\n",
    "# step-3: if <condition>:\n",
    "# step-4:      print('we won')\n",
    "# step-5: else:\n",
    "# step-6:     print('we lost')\n",
    "#############################################################################\n",
    "# wap ask the user take one number\n",
    "# another number comes as random integer between 1 to 10\n",
    "# num1 and num2\n",
    "# if both numbers are matched then print we are won\n",
    "# otherwise print we lost\n",
    "\n",
    "# step-1: n1=<random number>\n",
    "# step-2: n2=eval(input('en'))\n",
    "# step-3: if <condition>:\n",
    "# step-4:      print('we won')\n",
    "# step-5: else:\n",
    "# step-6:     print('we lost')\n",
    "##############################################################################\n",
    "#wap ask the user enter a number\n",
    "# print if the number is even or odd\n",
    "\n",
    "# idea == reminder should be zero\n",
    "# step-1: num=eval(input())\n",
    "# step-2: if <con>:\n",
    "# step-3:   print (the given number is even)\n",
    "# step-4: else:\n",
    "# step-5:   print(the given number is odd)\n",
    "################################################################################\n",
    "# wap ask the user enter distance\n",
    "# if distance greater than 25\n",
    "#      ask the charge\n",
    "#      calculate the charge other than25km distance\n",
    "# else\n",
    "#    print free ride\n",
    "\n",
    "# step-1: distance= eval(input(''))\n",
    "# step-2: if <>:\n",
    "# step-3:    charge=eval(input(''))\n",
    "# step-4:    total charge= (d-25)*\n",
    "# step-5: else:\n",
    "# step-6:    print free ride\n",
    "##############################################################################\n",
    "# wap ask the user take two numbers\n",
    "# print which is greater number\n",
    "\n",
    "# step-1: n1= eval(input())\n",
    "# step-2: n2= eval(input())\n",
    "# step-3: if <cond>:\n",
    "# step-4:    print()\n",
    "# step-5: else:\n",
    "# step-6:    print()\n",
    "###################################################################################\n",
    "# wap ask the user\n",
    "# enter the course name\n",
    "# enter the institute name\n",
    "# if course name equal to data science\n",
    "# and institute name equal to naresh it\n",
    "# then print we are good\n",
    "# else print not good\n",
    "\n",
    "# step-1: course_name=input()\n",
    "# step-2: inst_name=input()\n",
    "# step-3: if <c1> and <c2>:\n",
    "# step-4:    print\n",
    "# step-5: else:\n",
    "# step-6:    print"
   ]
  },
  {
   "cell_type": "markdown",
   "id": "318e9d83-122d-4ad0-aa88-6b1a0a004f15",
   "metadata": {},
   "source": [
    "#### 1. wap ask the user take two numbers\n",
    "#### num1 and num2\n",
    "#### if both numbers are matched then print we are won\n",
    "#### otherwise print we lost"
   ]
  },
  {
   "cell_type": "code",
   "execution_count": 6,
   "id": "4afcc9ff-024d-4a76-a2c3-17878048e742",
   "metadata": {},
   "outputs": [
    {
     "name": "stdin",
     "output_type": "stream",
     "text": [
      "enter number 1 100\n",
      "enter number 2 3432wsf\n"
     ]
    },
    {
     "name": "stdout",
     "output_type": "stream",
     "text": [
      "invalid decimal literal (<string>, line 1)\n"
     ]
    }
   ],
   "source": [
    "try:\n",
    "    num1= eval(input(\"enter number 1\"));\n",
    "    num2= eval(input(\"enter number 2\"));\n",
    "    if num1==num2:\n",
    "        print(f\"{num1} and {num2} are same, we won\");\n",
    "    else:\n",
    "        print(f\"{num1} not equal to {num2},we lost\");\n",
    "except Exception as e:\n",
    "    print(e)"
   ]
  },
  {
   "cell_type": "markdown",
   "id": "6b1baed6-37d2-4185-ae60-d74a31189008",
   "metadata": {},
   "source": [
    "#### 2. wap ask the user take one number\n",
    "#### another number comes as random integer between 1 to 10\n",
    "#### num1 and num2\n",
    "#### if both numbers are matched then print we are won\n",
    "#### otherwise print we lost"
   ]
  },
  {
   "cell_type": "code",
   "execution_count": 21,
   "id": "3cf5fef1-0886-4479-ac37-2bd5a07d639a",
   "metadata": {},
   "outputs": [
    {
     "name": "stdout",
     "output_type": "stream",
     "text": [
      "4\n"
     ]
    },
    {
     "name": "stdin",
     "output_type": "stream",
     "text": [
      "enter number 2 4\n"
     ]
    },
    {
     "name": "stdout",
     "output_type": "stream",
     "text": [
      "4 eqauls to 4 we won\n"
     ]
    }
   ],
   "source": [
    "try:\n",
    "    import random\n",
    "    n1= random.randint(1,10);\n",
    "    print(n1)\n",
    "    n2= eval(input(\"enter number 2\"));\n",
    "    if n1==n2:\n",
    "        print(f\"{n1} eqauls to {n2} we won\");\n",
    "    else:\n",
    "        print(f\"{n1} not equals to {n2} we lost\");\n",
    "except Exception as e:\n",
    "    print(f\"error {e}\")"
   ]
  },
  {
   "cell_type": "markdown",
   "id": "6edae480-c350-476e-9f8f-65a868358f60",
   "metadata": {},
   "source": [
    "#### 3.wap ask the user enter a number\n",
    "#### print if the number is even or odd"
   ]
  },
  {
   "cell_type": "code",
   "execution_count": 30,
   "id": "17d74e39-2660-41dc-a1c1-8763e4367d22",
   "metadata": {},
   "outputs": [
    {
     "name": "stdin",
     "output_type": "stream",
     "text": [
      "enter number 343\n"
     ]
    },
    {
     "name": "stdout",
     "output_type": "stream",
     "text": [
      "343 is odd\n"
     ]
    }
   ],
   "source": [
    "try:\n",
    "    num=eval(input(\"enter number\"));\n",
    "    if num%2==0:\n",
    "        print(f\"{num} is even\");\n",
    "    else:\n",
    "        print(f\"{num} is odd\");\n",
    "except Exception as e:\n",
    "    print(e)"
   ]
  },
  {
   "cell_type": "markdown",
   "id": "0ce3fca8-67c6-44e8-97eb-a4ef1a40d420",
   "metadata": {},
   "source": [
    "#### 4. wap ask the user enter distance\n",
    "#### if distance greater than 25\n",
    "####      ask the charge\n",
    "####      calculate the charge other than25km distance\n",
    "#### else\n",
    "####    print free ride"
   ]
  },
  {
   "cell_type": "code",
   "execution_count": 43,
   "id": "5f6aff97-2d9a-4f40-8ee3-f321d0d904d6",
   "metadata": {},
   "outputs": [
    {
     "name": "stdin",
     "output_type": "stream",
     "text": [
      "enter distance 23\n"
     ]
    },
    {
     "name": "stdout",
     "output_type": "stream",
     "text": [
      "distance 23 is within free limit, hence free ride\n"
     ]
    }
   ],
   "source": [
    "try:\n",
    "    dist=eval(input(\"enter distance\"));\n",
    "    if dist>25:\n",
    "        charge=eval(input(\"what is the charge per km\"));\n",
    "        totalCharge=(dist-25)*(charge);\n",
    "        print(f\"total charge for distance {dist} is {totalCharge} for {charge} per km\");\n",
    "    else:\n",
    "        print(f\"distance {dist} is within free limit, hence free ride\");\n",
    "except Exception as e:\n",
    "    print(e);"
   ]
  },
  {
   "cell_type": "markdown",
   "id": "dbd24dd6-b876-4135-aeb3-a70762e3d1e9",
   "metadata": {},
   "source": [
    "#### 5.wap ask the user take two numbers\n",
    "#### print which is greater number"
   ]
  },
  {
   "cell_type": "code",
   "execution_count": 56,
   "id": "1aa08dc9-35f3-400c-b8d4-aa7528acd531",
   "metadata": {},
   "outputs": [
    {
     "name": "stdin",
     "output_type": "stream",
     "text": [
      "enter num1 100000\n"
     ]
    },
    {
     "name": "stdout",
     "output_type": "stream",
     "text": [
      "num1 is 100000\n"
     ]
    },
    {
     "name": "stdin",
     "output_type": "stream",
     "text": [
      "enter num2 2321321\n"
     ]
    },
    {
     "name": "stdout",
     "output_type": "stream",
     "text": [
      "num2 is 2321321\n",
      "Number2 2321321 is greater\n"
     ]
    }
   ],
   "source": [
    "try:\n",
    "    num1=eval(input(\"enter num1\"));\n",
    "    print(f\"num1 is {num1}\");\n",
    "    num2=eval(input(\"enter num2\"));\n",
    "    print(f\"num2 is {num2}\");\n",
    "    if(num1>num2):\n",
    "        print(f\"Number1 {num1} is greater\");\n",
    "    elif(num1==num2):\n",
    "        print(\"equal\");\n",
    "    else:\n",
    "        print(f\"Number2 {num2} is greater\");\n",
    "except Exception as e:\n",
    "    print(e);\n",
    "    "
   ]
  },
  {
   "cell_type": "markdown",
   "id": "75498516-bc17-4752-91ab-33ec8bccb7ea",
   "metadata": {},
   "source": [
    "#### 6. wap ask the user\n",
    "#### enter the course name\n",
    "#### enter the institute name\n",
    "#### if course name equal to data science\n",
    "#### and institute name equal to naresh it\n",
    "#### then print we are good\n",
    "#### else print not good"
   ]
  },
  {
   "cell_type": "code",
   "execution_count": 61,
   "id": "7658afd9-fad6-478b-a869-85fd62873f51",
   "metadata": {},
   "outputs": [
    {
     "name": "stdin",
     "output_type": "stream",
     "text": [
      "enter course name Data Science\n",
      "enter inst name Naresh It\n"
     ]
    },
    {
     "name": "stdout",
     "output_type": "stream",
     "text": [
      "good\n"
     ]
    }
   ],
   "source": [
    "try:\n",
    "    course=input(\"enter course name\");\n",
    "    inst= input(\"enter inst name\");\n",
    "    if course==\"Data Science\" and inst==\"Naresh It\":\n",
    "        print(\"good\");\n",
    "    else:\n",
    "        print(\"not good\");\n",
    "except Exception as e:\n",
    "    print(e)"
   ]
  },
  {
   "cell_type": "code",
   "execution_count": null,
   "id": "c15c2e29-1d68-42a7-ad95-23ff11d1a3a8",
   "metadata": {},
   "outputs": [],
   "source": []
  }
 ],
 "metadata": {
  "kernelspec": {
   "display_name": "Python [conda env:base] *",
   "language": "python",
   "name": "conda-base-py"
  },
  "language_info": {
   "codemirror_mode": {
    "name": "ipython",
    "version": 3
   },
   "file_extension": ".py",
   "mimetype": "text/x-python",
   "name": "python",
   "nbconvert_exporter": "python",
   "pygments_lexer": "ipython3",
   "version": "3.12.7"
  }
 },
 "nbformat": 4,
 "nbformat_minor": 5
}
