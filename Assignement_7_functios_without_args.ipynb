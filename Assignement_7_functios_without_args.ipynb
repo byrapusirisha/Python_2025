{
 "cells": [
  {
   "cell_type": "code",
   "execution_count": null,
   "id": "572efa2d-ef67-4525-92ff-f3fd726e8f49",
   "metadata": {},
   "outputs": [],
   "source": [
    "# 1)wap ask the user enter 3 numbers n1,n2,n3 from ketboard\n",
    "# calculate average\n",
    "\n",
    "# 2)wap ask the user enter name age city\n",
    "# print my name is python im 10 years old and came from hyd\n",
    "\n",
    "# 3)wap ask the user to enter radidus of a circle calculate area of the circle\n",
    "# var: radidus  var: pi=3.14\n",
    "# formuale: pi*radius*radius\n",
    "# print the answers using f string and format\n",
    "\n",
    "# 4)wap ask the user enter breadth and height of a right angle triangle\n",
    "# calculate the area\n",
    "# var1: bredath  var2: height\n",
    "# formuale : 0.5*breadth*heigh\n",
    "\n",
    "# 5)wap ask the user the bill amount and tip amount\n",
    "#   calculate total bill\n",
    "#   var1: bill amount var2: tip amount\n",
    "#   formuale\n",
    "\n",
    "# 6)wap ask the user the bill amount and tip percentage\n",
    "#    take tip percentage as 10\n",
    "#   calculate total bill= bill amount+ bill amount*tip per/100\n",
    "#   var1: bill amount var2: tip amount\n",
    "#    formuale\n",
    "\n",
    "# 7)wap ask the length and breadth of a rectangle calculate area\n",
    "#   var1: length  var2: breadth\n",
    "#   formulae: length * breadth\n",
    "\n",
    "# 8) wap ask the user take the radius and calculate volume of sphere\n",
    "#   formulae: pi*r**3(pi*r*r*r)\n",
    "\n",
    "# 9) wap ask the user enter amount in dollars convert into rupees\n",
    "#     1$=85rs\n",
    "\n",
    "# 10)wap ask the user enter weight in kgs convert into pounds\n",
    "#    1kg= 2.2pounds\n"
   ]
  },
  {
   "cell_type": "markdown",
   "id": "aaeb6333-365d-46dc-b7f6-9396c54f8496",
   "metadata": {},
   "source": [
    "#### 1)wap ask the user enter 3 numbers n1,n2,n3 from keyboard\n",
    "- calculate average"
   ]
  },
  {
   "cell_type": "code",
   "execution_count": 4,
   "id": "5e91c927-1af1-48d0-bb91-778a9f553f5c",
   "metadata": {},
   "outputs": [
    {
     "name": "stdin",
     "output_type": "stream",
     "text": [
      "enter n1 20\n",
      "enter n2 30\n",
      "enter n3 40\n"
     ]
    },
    {
     "name": "stdout",
     "output_type": "stream",
     "text": [
      " avg of 20,30 & 40 is 30\n"
     ]
    }
   ],
   "source": [
    "import math\n",
    "def avg():\n",
    "    n1= eval(input(\"enter n1\"));\n",
    "    n2= eval(input(\"enter n2\"));\n",
    "    n3= eval(input(\"enter n3\"));\n",
    "    average= math.ceil((n1+n2+n3)/3)\n",
    "    print(f\" avg of {n1},{n2} & {n3} is {average}\")\n",
    "avg()"
   ]
  },
  {
   "cell_type": "markdown",
   "id": "da4ae028-0f44-4b23-9078-670a5d0b69b0",
   "metadata": {},
   "source": [
    "#### 2)wap ask the user enter name age city\n",
    "- print my name is python im 10 years old and came from hyd"
   ]
  },
  {
   "cell_type": "code",
   "execution_count": 7,
   "id": "3b6d8768-b76f-4700-8202-9bc3112f2864",
   "metadata": {},
   "outputs": [
    {
     "name": "stdin",
     "output_type": "stream",
     "text": [
      "enter your name sirisha\n",
      "enter your age 34\n",
      "enter city hyd\n"
     ]
    },
    {
     "name": "stdout",
     "output_type": "stream",
     "text": [
      "my name is sirisha im 34 years old and came from hyd\n"
     ]
    }
   ],
   "source": [
    "def userInfo():\n",
    "    name=input(\"enter your name\");\n",
    "    age= eval(input(\"enter your age\"));\n",
    "    city=input(\"enter city\");\n",
    "    print(f\"my name is {name} im {age} years old and came from {city}\");\n",
    "userInfo()"
   ]
  },
  {
   "cell_type": "markdown",
   "id": "04780437-be2a-4844-a400-857d834c5be2",
   "metadata": {},
   "source": [
    "#### 3)wap ask the user to enter radidus of a circle calculate area of the circle\n",
    "- var: radidus  var: pi=3.14\n",
    "- formuale: pi*radius*radius\n",
    "- print the answers using f string and format"
   ]
  },
  {
   "cell_type": "code",
   "execution_count": 14,
   "id": "5517da68-4d94-4d2f-b78b-1d3bc136c6b6",
   "metadata": {},
   "outputs": [
    {
     "name": "stdin",
     "output_type": "stream",
     "text": [
      "enter circle radius 5\n"
     ]
    },
    {
     "name": "stdout",
     "output_type": "stream",
     "text": [
      " area of circle for radius 5 is 78.5\n"
     ]
    }
   ],
   "source": [
    "def circleRadius():\n",
    "    radius=eval(input(\"enter circle radius\"));\n",
    "    area = 3.14*radius*radius;\n",
    "    print(f\" area of circle for radius {radius} is {area}\")\n",
    "circleRadius()"
   ]
  },
  {
   "cell_type": "markdown",
   "id": "530257d4-ee82-479e-8c97-f287f2b87b1f",
   "metadata": {},
   "source": [
    "#### 4)wap ask the user enter breadth and height of a right angle triangle\n",
    "- calculate the area\n",
    "- var1: bredath  var2: height\n",
    "- formuale : 0.5*breadth*heigh"
   ]
  },
  {
   "cell_type": "code",
   "execution_count": 19,
   "id": "b4cf411c-8fc8-46ac-9a7b-5f81f8c48270",
   "metadata": {},
   "outputs": [
    {
     "name": "stdin",
     "output_type": "stream",
     "text": [
      "enter triange  base 10\n",
      "enter triange height 20\n"
     ]
    },
    {
     "name": "stdout",
     "output_type": "stream",
     "text": [
      "area of triangle for base 10 and height 20 is 100.0\n"
     ]
    }
   ],
   "source": [
    "def areaTri():\n",
    "    b=eval(input(\"enter triange  base\"));\n",
    "    h=eval(input(\"enter triange height\"));\n",
    "    triArea= 0.5*b*h;\n",
    "    print(f\"area of triangle for base {b} and height {h} is {triArea}\")\n",
    "areaTri();"
   ]
  },
  {
   "cell_type": "markdown",
   "id": "c2ce4dc1-9772-485b-b014-a63e74069402",
   "metadata": {},
   "source": [
    "\n",
    "#### 5)wap ask the user the bill amount and tip amount\n",
    "-   calculate total bill\n",
    "-   var1: bill amount var2: tip amount\n",
    "-   formuale"
   ]
  },
  {
   "cell_type": "code",
   "execution_count": 28,
   "id": "3c134a0c-b406-4e99-9cf1-c347550ca436",
   "metadata": {},
   "outputs": [
    {
     "name": "stdin",
     "output_type": "stream",
     "text": [
      "enter bill  amt 1000\n",
      "enter tip  amt 10\n"
     ]
    },
    {
     "name": "stdout",
     "output_type": "stream",
     "text": [
      "total bill amount for billAmt 1000 and tip 10 is 1010\n"
     ]
    }
   ],
   "source": [
    "def calBill():\n",
    "    billAmt=eval(input(\"enter bill  amt\"));\n",
    "    tipAmt=eval(input(\"enter tip  amt\"));\n",
    "    totalBill=billAmt+tipAmt;\n",
    "    print(f\"total bill amount for billAmt {billAmt} and tip {tipAmt} is {totalBill}\")\n",
    "calBill()"
   ]
  },
  {
   "cell_type": "markdown",
   "id": "2278bdc4-f06e-4956-b99c-67031caf8a1f",
   "metadata": {},
   "source": [
    "#### 6)wap ask the user the bill amount and tip percentage\n",
    "-     take tip percentage as 10\n",
    "-   calculate total bill= bill amount+ bill amount*tip per/100\n",
    "-   var1: bill amount var2: tip amount\n"
   ]
  },
  {
   "cell_type": "code",
   "execution_count": 31,
   "id": "8f0638fe-9b55-4a90-ab01-d013894bd0dc",
   "metadata": {},
   "outputs": [
    {
     "name": "stdin",
     "output_type": "stream",
     "text": [
      "enter bill  amt 1000\n",
      "enter tip  percent 10\n"
     ]
    },
    {
     "name": "stdout",
     "output_type": "stream",
     "text": [
      "total bill amount for billAmt 1000 and tippercent 10 is 1100.0\n"
     ]
    }
   ],
   "source": [
    "def calBill():\n",
    "    billAmt=eval(input(\"enter bill  amt\"));\n",
    "    tipAmt=eval(input(\"enter tip  percent\"));\n",
    "    totalBill=billAmt+((tipAmt/100)*(billAmt));\n",
    "    print(f\"total bill amount for billAmt {billAmt} and tippercent {tipAmt} is {totalBill}\")\n",
    "calBill()"
   ]
  },
  {
   "cell_type": "markdown",
   "id": "3946e727-6a09-4cc3-8f59-62f6351db426",
   "metadata": {},
   "source": [
    "#### 7)wap ask the length and breadth of a rectangle calculate area\n",
    "-   var1: length  var2: breadth\n",
    "-   formulae: length * breadth"
   ]
  },
  {
   "cell_type": "code",
   "execution_count": 34,
   "id": "15f9bb66-2dc1-4b66-96a5-f4679dc269d3",
   "metadata": {},
   "outputs": [
    {
     "name": "stdin",
     "output_type": "stream",
     "text": [
      "enter rec length 10\n",
      "enter rec breadth 20\n"
     ]
    },
    {
     "name": "stdout",
     "output_type": "stream",
     "text": [
      "area of rectange for length 10 and breadth 20 is 200\n"
     ]
    }
   ],
   "source": [
    "def areaRec():\n",
    "    l=eval(input(\"enter rec length\"));\n",
    "    b=eval(input(\"enter rec breadth\"))\n",
    "    recArea= l*b;\n",
    "    print(f\"area of rectange for length {l} and breadth {b} is {recArea}\")\n",
    "areaRec();"
   ]
  },
  {
   "cell_type": "markdown",
   "id": "76274c56-dd9a-4a1d-a9df-2af9cc11c581",
   "metadata": {},
   "source": [
    "#### 8) wap ask the user take the radius and calculate volume of sphere\n",
    "-   formulae: pi*r**3(pi*r*r*r)\n"
   ]
  },
  {
   "cell_type": "code",
   "execution_count": 39,
   "id": "fc6d378c-a7a2-4cf8-807b-a40c979c3594",
   "metadata": {},
   "outputs": [
    {
     "name": "stdin",
     "output_type": "stream",
     "text": [
      "enter sphere radius 5\n"
     ]
    },
    {
     "name": "stdout",
     "output_type": "stream",
     "text": [
      " volume of sphere for radius 5 is 523.3333333333334\n"
     ]
    }
   ],
   "source": [
    "def volSphere():\n",
    "    radius=eval(input(\"enter sphere radius\"));\n",
    "    volume = 3.14*(4/3)*((radius*radius*radius))\n",
    "    print(f\" volume of sphere for radius {radius} is {volume}\")\n",
    "volSphere()"
   ]
  },
  {
   "cell_type": "markdown",
   "id": "3f803c86-f0c9-4212-a9fb-17c8df36ca79",
   "metadata": {},
   "source": [
    "#### 9) wap ask the user enter amount in dollars convert into rupees\n",
    "-     1$=85rs\n",
    "\n",
    "#### 10)wap ask the user enter weight in kgs convert into pounds\n",
    "-    1kg= 2.2pounds"
   ]
  },
  {
   "cell_type": "code",
   "execution_count": 48,
   "id": "2d3b96f5-8d89-4648-9e65-1117550b94bf",
   "metadata": {},
   "outputs": [
    {
     "name": "stdin",
     "output_type": "stream",
     "text": [
      "enter amount 100\n"
     ]
    },
    {
     "name": "stdout",
     "output_type": "stream",
     "text": [
      "USD 100 in INR is 8500\n",
      "***********wap ask the user enter weight in kgs convert into pounds*************\n"
     ]
    },
    {
     "name": "stdin",
     "output_type": "stream",
     "text": [
      "enter weight in kgs 100\n"
     ]
    },
    {
     "name": "stdout",
     "output_type": "stream",
     "text": [
      "100 kgs in pounds is 221\n"
     ]
    }
   ],
   "source": [
    "def USDtoINR():\n",
    "    amt=eval(input(\"enter amount\"));\n",
    "    conversion=amt*85;\n",
    "    print(f\"USD {amt} in INR is {conversion}\")\n",
    "USDtoINR()\n",
    "\n",
    "print(\"***********wap ask the user enter weight in kgs convert into pounds*************\")\n",
    "def weightInPounds():\n",
    "    wgt=eval(input(\"enter weight in kgs\"));\n",
    "    weightPounds= math.ceil(wgt*2.2)\n",
    "    print(f\"{wgt} kgs in pounds is {weightPounds}\")\n",
    "weightInPounds()"
   ]
  },
  {
   "cell_type": "code",
   "execution_count": null,
   "id": "4a1f3623-a175-4e02-b37e-0a954a30b5c7",
   "metadata": {},
   "outputs": [],
   "source": []
  }
 ],
 "metadata": {
  "kernelspec": {
   "display_name": "Python [conda env:base] *",
   "language": "python",
   "name": "conda-base-py"
  },
  "language_info": {
   "codemirror_mode": {
    "name": "ipython",
    "version": 3
   },
   "file_extension": ".py",
   "mimetype": "text/x-python",
   "name": "python",
   "nbconvert_exporter": "python",
   "pygments_lexer": "ipython3",
   "version": "3.12.7"
  }
 },
 "nbformat": 4,
 "nbformat_minor": 5
}
