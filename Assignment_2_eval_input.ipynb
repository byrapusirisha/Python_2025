{
 "cells": [
  {
   "cell_type": "markdown",
   "id": "fdf28c01-6f80-4bed-904b-f42fc999b7a4",
   "metadata": {},
   "source": [
    "**# 1)wap ask the user enter 3 numbers n1,n2,n3 from ketboardm calculate average**\n"
   ]
  },
  {
   "cell_type": "code",
   "execution_count": 3,
   "id": "ff73eee1-be6f-4f00-ba32-0db62091b1f7",
   "metadata": {},
   "outputs": [
    {
     "name": "stdin",
     "output_type": "stream",
     "text": [
      "enter number 1: 100\n",
      "enter number 2: 205.5\n",
      "enter number 3: 300.2\n"
     ]
    },
    {
     "name": "stdout",
     "output_type": "stream",
     "text": [
      "201.9\n"
     ]
    }
   ],
   "source": [
    "n1= eval(input(\"enter number 1:\"))\n",
    "n2= eval(input(\"enter number 2:\"))\n",
    "n3= eval(input(\"enter number 3:\"))\n",
    "avg= (n1+n2+n3)/3\n",
    "print(avg)"
   ]
  },
  {
   "cell_type": "markdown",
   "id": "6e13f8e8-6735-4714-aa6d-b9578c32cad6",
   "metadata": {},
   "source": [
    "**2)wap ask the user enter name age city**\n",
    "- print my name is python im 10 years old and came from hyd"
   ]
  },
  {
   "cell_type": "code",
   "execution_count": 14,
   "id": "bb2aea05-30d5-4634-a128-dd9a04c05e70",
   "metadata": {},
   "outputs": [
    {
     "name": "stdin",
     "output_type": "stream",
     "text": [
      "enter your name shirisha\n",
      "enter your age 34\n",
      "enter your city hyd\n"
     ]
    },
    {
     "name": "stdout",
     "output_type": "stream",
     "text": [
      "my name is shirisha,im 34 years old and came from hyd\n"
     ]
    }
   ],
   "source": [
    "name = input(\"enter your name\");\n",
    "age = eval(input(\"enter your age\"))\n",
    "city = input(\"enter your city\")\n",
    "print(f\"my name is {name},im {age} years old and came from {city}\")"
   ]
  },
  {
   "cell_type": "markdown",
   "id": "75e3063a-3597-4915-93ba-2a265989b06f",
   "metadata": {},
   "source": [
    "**3)wap ask the user to enter radidus of a circle calculate area of the circle**\n",
    "- var: radidus  var: pi=3.14\n",
    "- formuale: pi*radius*radius\n",
    "- print the answers using f string and format"
   ]
  },
  {
   "cell_type": "code",
   "execution_count": 21,
   "id": "21ded911-260e-4486-8fa4-9f6d3b82d2ee",
   "metadata": {},
   "outputs": [
    {
     "name": "stdin",
     "output_type": "stream",
     "text": [
      "enter radius of circle 25\n"
     ]
    },
    {
     "name": "stdout",
     "output_type": "stream",
     "text": [
      "area of circle with radius 25 is 1962.5\n"
     ]
    }
   ],
   "source": [
    "radius= eval(input(\"enter radius of circle\"))\n",
    "area = (3.14)*(radius)*(radius);\n",
    "print(f\"area of circle with radius {radius} is {area}\")"
   ]
  },
  {
   "cell_type": "markdown",
   "id": "a2dab2b0-7662-4f35-914a-f5c4a62a500f",
   "metadata": {},
   "source": [
    "**4)wap ask the user enter breadth and height of a right angle triangle**\n",
    "- calculate the area\n",
    "-  var1: bredath  var2: height\n",
    "- formuale : 0.5*breadth*heigh"
   ]
  },
  {
   "cell_type": "code",
   "execution_count": 24,
   "id": "f7670475-f91e-48fa-b875-0e3182a549b3",
   "metadata": {},
   "outputs": [
    {
     "name": "stdin",
     "output_type": "stream",
     "text": [
      "enter height 20\n",
      "enter breadth 30\n"
     ]
    },
    {
     "name": "stdout",
     "output_type": "stream",
     "text": [
      "Area of triangle with base 30 and height 20 is 300.0\n"
     ]
    }
   ],
   "source": [
    "height= eval(input(\"enter height\"))\n",
    "breadth = eval(input(\"enter breadth\"))\n",
    "area_tri= (0.5)*(height)*(breadth);\n",
    "print(f\"Area of triangle with base {breadth} and height {height} is {area_tri}\")"
   ]
  },
  {
   "cell_type": "markdown",
   "id": "59300c61-0c96-4593-a527-280aa8b6b3d2",
   "metadata": {},
   "source": [
    "**5)wap ask the user the bill amount and tip amount**\n",
    "- calculate total bill\n",
    "- var1: bill amount var2: tip amount"
   ]
  },
  {
   "cell_type": "code",
   "execution_count": 27,
   "id": "8a1ea79b-465a-4fa5-bd07-a2687d5cf77b",
   "metadata": {},
   "outputs": [
    {
     "name": "stdin",
     "output_type": "stream",
     "text": [
      "enter bill amt 1000\n",
      "enter tip 100\n"
     ]
    },
    {
     "name": "stdout",
     "output_type": "stream",
     "text": [
      "total bill amount is 1100\n"
     ]
    }
   ],
   "source": [
    "billAmt= eval(input(\"enter bill amt\"))\n",
    "tipAmt = eval(input(\"enter tip\"));\n",
    "totalBill= billAmt+tipAmt;\n",
    "print(f\"total bill amount is {totalBill}\")"
   ]
  },
  {
   "cell_type": "markdown",
   "id": "36a4a5af-5ae7-4a48-9c12-68f7a5f9d50f",
   "metadata": {},
   "source": [
    "\n",
    "**6)wap ask the user the bill amount and tip percentage**\n",
    "- take tip percentage as 10\n",
    "- calculate total bill= bill amount+ bill amount*tip per/100\n",
    "-  var1: bill amount var2: tip amount\n"
   ]
  },
  {
   "cell_type": "code",
   "execution_count": 32,
   "id": "97a8fa4e-02c3-4c4f-ba9b-5f719509ccd6",
   "metadata": {},
   "outputs": [
    {
     "name": "stdin",
     "output_type": "stream",
     "text": [
      "enter bill amt 1000\n",
      "enter tip percentage 10\n"
     ]
    },
    {
     "name": "stdout",
     "output_type": "stream",
     "text": [
      "total bill amt is 1100.0\n"
     ]
    }
   ],
   "source": [
    "billAmt= eval(input(\"enter bill amt\"))\n",
    "tipPer = eval(input(\"enter tip percentage\"))\n",
    "totalBill= billAmt+(billAmt)*(tipPer/100);\n",
    "print(f\"total bill amt is {totalBill}\")\n"
   ]
  },
  {
   "cell_type": "markdown",
   "id": "6c7580a2-0ac2-408f-b9c4-dc9e84aecbe3",
   "metadata": {},
   "source": [
    "**7)wap ask the length and breadth of a rectangle calculate area**\n",
    "- var1: length  var2: breadth\n",
    "- formulae: length * breadth"
   ]
  },
  {
   "cell_type": "code",
   "execution_count": 35,
   "id": "adb36437-3c97-4d9d-9bd1-6d8574329877",
   "metadata": {},
   "outputs": [
    {
     "name": "stdin",
     "output_type": "stream",
     "text": [
      "enter length of rectange 100\n",
      "enter breadth of rectange 200\n"
     ]
    },
    {
     "name": "stdout",
     "output_type": "stream",
     "text": [
      "area of rectangle is 20000\n"
     ]
    }
   ],
   "source": [
    "lenRec= eval(input(\"enter length of rectange\"))\n",
    "breadthRec= eval(input(\"enter breadth of rectange\"))\n",
    "areaRec = lenRec*breadthRec;\n",
    "print(f\"area of rectangle is {areaRec}\")"
   ]
  },
  {
   "cell_type": "markdown",
   "id": "cad839eb-26dd-4d34-aac0-008142a324a4",
   "metadata": {},
   "source": [
    "**8) wap ask the user take the radius and calculate volume of sphere**\n",
    "- formulae: (4/3)(3.14)(r*r*r)"
   ]
  },
  {
   "cell_type": "code",
   "execution_count": 48,
   "id": "c44f6186-ae66-4146-86a6-4e217b3181a4",
   "metadata": {},
   "outputs": [
    {
     "name": "stdin",
     "output_type": "stream",
     "text": [
      "enter radius of sphere 5\n"
     ]
    },
    {
     "name": "stdout",
     "output_type": "stream",
     "text": [
      "volume of sphere with radius 5 is 523.33\n"
     ]
    }
   ],
   "source": [
    "radiusSphere= eval(input(\"enter radius of sphere\"))\n",
    "volumeSphere= round((4/3)*(3.14)*(radiusSphere)*(radiusSphere)*(radiusSphere),2)\n",
    "print(f\"volume of sphere with radius {radiusSphere} is {volumeSphere}\")\n"
   ]
  },
  {
   "cell_type": "markdown",
   "id": "949e16e5-6cbe-44df-a93a-63e7591cfea6",
   "metadata": {},
   "source": [
    "**9) wap ask the user enter amount in dollars convert into rupees**\n",
    "-  1$=85rs"
   ]
  },
  {
   "cell_type": "code",
   "execution_count": 53,
   "id": "16d2d3bc-1ab6-40b7-a566-0dfbb4702f25",
   "metadata": {},
   "outputs": [
    {
     "name": "stdin",
     "output_type": "stream",
     "text": [
      "enter dollar amt 100\n"
     ]
    },
    {
     "name": "stdout",
     "output_type": "stream",
     "text": [
      "100 USD in INR is 8500\n"
     ]
    }
   ],
   "source": [
    "dollar= eval(input(\"enter dollar amt\"))\n",
    "inr= dollar*85\n",
    "print(f\"{dollar} USD in INR is {inr}\")\n"
   ]
  },
  {
   "cell_type": "markdown",
   "id": "33aa245a-ed85-4ee1-b9b1-aba138052367",
   "metadata": {},
   "source": [
    "**10)wap ask the user enter weight in kgs convert into pounds**\n",
    "- 1kg= 2.2pounds"
   ]
  },
  {
   "cell_type": "code",
   "execution_count": 60,
   "id": "035e4408-a8ec-4042-89f6-a538bf39b4a3",
   "metadata": {},
   "outputs": [
    {
     "name": "stdin",
     "output_type": "stream",
     "text": [
      "enter weight in kgs: 10\n"
     ]
    },
    {
     "name": "stdout",
     "output_type": "stream",
     "text": [
      " 10 kgs in pounds is 22.0\n"
     ]
    }
   ],
   "source": [
    "wgt_kg= eval(input(\"enter weight in kgs:\"))\n",
    "wgt_pounds= round(wgt_kg*2.2,2)\n",
    "print(f\" {wgt_kg} kgs in pounds is {wgt_pounds}\")\n"
   ]
  },
  {
   "cell_type": "code",
   "execution_count": null,
   "id": "bb1aeff5-bc59-4943-a2c7-8e3000d7632f",
   "metadata": {},
   "outputs": [],
   "source": []
  }
 ],
 "metadata": {
  "kernelspec": {
   "display_name": "Python [conda env:base] *",
   "language": "python",
   "name": "conda-base-py"
  },
  "language_info": {
   "codemirror_mode": {
    "name": "ipython",
    "version": 3
   },
   "file_extension": ".py",
   "mimetype": "text/x-python",
   "name": "python",
   "nbconvert_exporter": "python",
   "pygments_lexer": "ipython3",
   "version": "3.12.7"
  }
 },
 "nbformat": 4,
 "nbformat_minor": 5
}
