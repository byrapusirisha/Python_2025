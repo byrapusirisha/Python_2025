{
 "cells": [
  {
   "cell_type": "markdown",
   "id": "c38befb6-fa70-400e-9c97-447bd689cd58",
   "metadata": {},
   "source": [
    "# Variables"
   ]
  },
  {
   "cell_type": "markdown",
   "id": "3f763a29-e54f-413d-961d-0f74bf62e1fe",
   "metadata": {},
   "source": [
    "- Variables are used to store the data\n",
    "- Data can be changed\n",
    "- variables can be used to manipulate python code"
   ]
  },
  {
   "cell_type": "code",
   "execution_count": 7,
   "id": "bd7aadee-5812-4505-a949-5510e65c2ff6",
   "metadata": {},
   "outputs": [
    {
     "name": "stdout",
     "output_type": "stream",
     "text": [
      "100\n"
     ]
    }
   ],
   "source": [
    "# 100 is stored in variable called number\n",
    "number = 100\n",
    "print(number)\n"
   ]
  },
  {
   "cell_type": "code",
   "execution_count": 11,
   "id": "77ec58da-75ba-490c-a196-fbebb82e8eb1",
   "metadata": {},
   "outputs": [
    {
     "name": "stdout",
     "output_type": "stream",
     "text": [
      "100\n"
     ]
    }
   ],
   "source": [
    "NUMBER =200\n",
    "print(number)"
   ]
  },
  {
   "cell_type": "code",
   "execution_count": 13,
   "id": "dda8bae5-9e08-47ab-98c0-06ef38d6bca1",
   "metadata": {
    "scrolled": true
   },
   "outputs": [
    {
     "name": "stdout",
     "output_type": "stream",
     "text": [
      "100 200 300\n"
     ]
    }
   ],
   "source": [
    "NumbER=300\n",
    "print(number,NUMBER,NumbER)"
   ]
  },
  {
   "cell_type": "code",
   "execution_count": 15,
   "id": "a941dccb-adf2-4484-92a8-d3171e7d6279",
   "metadata": {},
   "outputs": [],
   "source": [
    "number123=400"
   ]
  },
  {
   "cell_type": "code",
   "execution_count": 23,
   "id": "f2330da1-0b6c-4950-babe-972d522aed09",
   "metadata": {},
   "outputs": [
    {
     "name": "stdout",
     "output_type": "stream",
     "text": [
      "32\n"
     ]
    }
   ],
   "source": [
    "_num=32\n",
    "print(_num)"
   ]
  },
  {
   "cell_type": "code",
   "execution_count": 36,
   "id": "1e7f791b-547c-4b50-b9df-46c8647dfebf",
   "metadata": {},
   "outputs": [],
   "source": [
    "_=100"
   ]
  },
  {
   "cell_type": "code",
   "execution_count": 2,
   "id": "c3740aaf-49db-4194-a3f1-09adf9428295",
   "metadata": {},
   "outputs": [
    {
     "data": {
      "text/plain": [
       "7"
      ]
     },
     "execution_count": 2,
     "metadata": {},
     "output_type": "execute_result"
    }
   ],
   "source": [
    "0b111\n"
   ]
  },
  {
   "cell_type": "code",
   "execution_count": 4,
   "id": "579da9be-8176-47e8-9a89-b025e5f44648",
   "metadata": {},
   "outputs": [
    {
     "data": {
      "text/plain": [
       "29"
      ]
     },
     "execution_count": 4,
     "metadata": {},
     "output_type": "execute_result"
    }
   ],
   "source": [
    "0b11101"
   ]
  },
  {
   "cell_type": "code",
   "execution_count": null,
   "id": "05e666d2-406f-4606-aad6-07b55972ba0b",
   "metadata": {},
   "outputs": [],
   "source": []
  }
 ],
 "metadata": {
  "kernelspec": {
   "display_name": "Python [conda env:base] *",
   "language": "python",
   "name": "conda-base-py"
  },
  "language_info": {
   "codemirror_mode": {
    "name": "ipython",
    "version": 3
   },
   "file_extension": ".py",
   "mimetype": "text/x-python",
   "name": "python",
   "nbconvert_exporter": "python",
   "pygments_lexer": "ipython3",
   "version": "3.12.7"
  }
 },
 "nbformat": 4,
 "nbformat_minor": 5
}
