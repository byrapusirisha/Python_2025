{
 "cells": [
  {
   "cell_type": "code",
   "execution_count": 34,
   "id": "50954b57-b18c-468c-a1d3-b4c244d3ac12",
   "metadata": {},
   "outputs": [],
   "source": [
    "#1.Take all numbers using random package randint method between 1 to 100"
   ]
  },
  {
   "cell_type": "code",
   "execution_count": 3,
   "id": "3c2ee00a-1e10-40f3-9e4e-38a137fc5d66",
   "metadata": {},
   "outputs": [],
   "source": [
    "import random"
   ]
  },
  {
   "cell_type": "code",
   "execution_count": 5,
   "id": "7eef983d-c3dc-4fb0-8863-2904d69b8d8c",
   "metadata": {},
   "outputs": [
    {
     "name": "stdout",
     "output_type": "stream",
     "text": [
      "40\n"
     ]
    }
   ],
   "source": [
    "print(random.randint(1,100))"
   ]
  },
  {
   "cell_type": "code",
   "execution_count": 36,
   "id": "6b4e2920-8405-4411-b572-f3df7c0691c2",
   "metadata": {},
   "outputs": [
    {
     "name": "stdout",
     "output_type": "stream",
     "text": [
      "1\n"
     ]
    }
   ],
   "source": [
    "#random & round\n",
    "print(round(random.random()))"
   ]
  },
  {
   "cell_type": "code",
   "execution_count": 68,
   "id": "06858f35-6921-4eda-b7f7-9e054e156945",
   "metadata": {},
   "outputs": [
    {
     "data": {
      "text/plain": [
       "100"
      ]
     },
     "execution_count": 68,
     "metadata": {},
     "output_type": "execute_result"
    }
   ],
   "source": [
    "# choice\n",
    "random.choice([1,2,3,100]) # randomly selects element from sample list provided"
   ]
  },
  {
   "cell_type": "code",
   "execution_count": 60,
   "id": "c7c15614-cb42-414e-b239-e2d1c2049cda",
   "metadata": {},
   "outputs": [
    {
     "data": {
      "text/plain": [
       "['4', '200', '1']"
      ]
     },
     "execution_count": 60,
     "metadata": {},
     "output_type": "execute_result"
    }
   ],
   "source": [
    "#random.sample\n",
    "random.sample(['1','4','100','200','300'],3) # selects k sample elements from list provided"
   ]
  },
  {
   "cell_type": "code",
   "execution_count": 93,
   "id": "dda70b92-8a90-4d0e-88b8-be159cfbd6ff",
   "metadata": {},
   "outputs": [
    {
     "data": {
      "text/plain": [
       "57"
      ]
     },
     "execution_count": 93,
     "metadata": {},
     "output_type": "execute_result"
    }
   ],
   "source": [
    "# random.randrange\n",
    "random.randrange(100) # randomly prints number from given range"
   ]
  },
  {
   "cell_type": "markdown",
   "id": "479a9e6b-fca6-4d6f-ac6b-b90fbb5f2160",
   "metadata": {},
   "source": [
    "\n",
    "**Math**\n"
   ]
  },
  {
   "cell_type": "code",
   "execution_count": 100,
   "id": "21a33991-2a12-46d0-8412-3d4c10dfa207",
   "metadata": {},
   "outputs": [
    {
     "data": {
      "text/plain": [
       "2.0"
      ]
     },
     "execution_count": 100,
     "metadata": {},
     "output_type": "execute_result"
    }
   ],
   "source": [
    "#sqrt\n",
    "import math\n",
    "math.sqrt(4)"
   ]
  },
  {
   "cell_type": "code",
   "execution_count": 135,
   "id": "b73991ac-36d6-42d7-9eb5-b58f37bbbbfa",
   "metadata": {},
   "outputs": [
    {
     "data": {
      "text/plain": [
       "3"
      ]
     },
     "execution_count": 135,
     "metadata": {},
     "output_type": "execute_result"
    }
   ],
   "source": [
    "round(math.pi)"
   ]
  },
  {
   "cell_type": "code",
   "execution_count": 106,
   "id": "a5809790-f8ce-490e-b98b-a8a60468e0e3",
   "metadata": {},
   "outputs": [
    {
     "data": {
      "text/plain": [
       "4"
      ]
     },
     "execution_count": 106,
     "metadata": {},
     "output_type": "execute_result"
    }
   ],
   "source": [
    "math.ceil(math.pi)"
   ]
  },
  {
   "cell_type": "code",
   "execution_count": 133,
   "id": "cf45926d-a1df-4096-b3dd-df815d08af49",
   "metadata": {},
   "outputs": [
    {
     "data": {
      "text/plain": [
       "3"
      ]
     },
     "execution_count": 133,
     "metadata": {},
     "output_type": "execute_result"
    }
   ],
   "source": [
    "round(math.e)"
   ]
  },
  {
   "cell_type": "code",
   "execution_count": 110,
   "id": "b721eb48-d84d-4149-9f37-cd1114190d63",
   "metadata": {},
   "outputs": [
    {
     "data": {
      "text/plain": [
       "256.0"
      ]
     },
     "execution_count": 110,
     "metadata": {},
     "output_type": "execute_result"
    }
   ],
   "source": [
    "math.pow(2,8)"
   ]
  },
  {
   "cell_type": "code",
   "execution_count": 112,
   "id": "95c1719b-a709-48d6-b3a2-4b94eeb233fc",
   "metadata": {},
   "outputs": [
    {
     "data": {
      "text/plain": [
       "0.8509035245341184"
      ]
     },
     "execution_count": 112,
     "metadata": {},
     "output_type": "execute_result"
    }
   ],
   "source": [
    "math.sin(45)"
   ]
  },
  {
   "cell_type": "markdown",
   "id": "5a18643c-dd36-402b-9b9b-aa681d19add6",
   "metadata": {},
   "source": [
    "**TIME**"
   ]
  },
  {
   "cell_type": "code",
   "execution_count": 115,
   "id": "9c419bd3-195f-4557-a851-f4f348ad6da9",
   "metadata": {},
   "outputs": [],
   "source": [
    "import time"
   ]
  },
  {
   "cell_type": "code",
   "execution_count": 119,
   "id": "6296602b-cce1-4ee7-ae44-cf7c80bb503a",
   "metadata": {},
   "outputs": [
    {
     "name": "stdout",
     "output_type": "stream",
     "text": [
      "statement 1\n",
      "statement 2\n"
     ]
    }
   ],
   "source": [
    "print(\"statement 1\")\n",
    "time.sleep(5)\n",
    "print(\"statement 2\")"
   ]
  },
  {
   "cell_type": "code",
   "execution_count": 145,
   "id": "4f644f7e-f9fd-49f7-b538-c34b699872b2",
   "metadata": {},
   "outputs": [
    {
     "name": "stdout",
     "output_type": "stream",
     "text": [
      "1736222625.6193478\n",
      "1736222630.6199954\n",
      "execTime is 5.00064754486084\n"
     ]
    }
   ],
   "source": [
    "start=time.time()\n",
    "print(start)\n",
    "time.sleep(5)\n",
    "end=time.time()\n",
    "print(end)\n",
    "execTime= end-start\n",
    "print(f\"execTime is {execTime}\")"
   ]
  },
  {
   "cell_type": "code",
   "execution_count": null,
   "id": "53353dbe-ff23-40ac-8543-a18323d10136",
   "metadata": {},
   "outputs": [],
   "source": []
  }
 ],
 "metadata": {
  "kernelspec": {
   "display_name": "Python [conda env:base] *",
   "language": "python",
   "name": "conda-base-py"
  },
  "language_info": {
   "codemirror_mode": {
    "name": "ipython",
    "version": 3
   },
   "file_extension": ".py",
   "mimetype": "text/x-python",
   "name": "python",
   "nbconvert_exporter": "python",
   "pygments_lexer": "ipython3",
   "version": "3.12.7"
  }
 },
 "nbformat": 4,
 "nbformat_minor": 5
}
