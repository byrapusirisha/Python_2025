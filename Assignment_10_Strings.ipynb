{
 "cells": [
  {
   "cell_type": "markdown",
   "id": "61959a97-05dc-4ec2-850a-36663fd1ea38",
   "metadata": {},
   "source": [
    "**WAP to find the indexese of 'a' in a given string**"
   ]
  },
  {
   "cell_type": "code",
   "execution_count": 2,
   "id": "a5e1ad77-aff4-45fc-b700-61ac05fd7ed2",
   "metadata": {},
   "outputs": [
    {
     "name": "stdout",
     "output_type": "stream",
     "text": [
      "2\n",
      "6\n",
      "10\n"
     ]
    }
   ],
   "source": [
    "str2=\"Ola Ola Ola\";\n",
    "for i in range(len(str2)):\n",
    "    if str2[i]=='a':\n",
    "        print(i);\n",
    "    "
   ]
  },
  {
   "cell_type": "markdown",
   "id": "86637694-163e-4256-a262-2cdf63f25885",
   "metadata": {},
   "source": [
    "**WAP to find sum of all indexes of 'a'given string**"
   ]
  },
  {
   "cell_type": "code",
   "execution_count": 5,
   "id": "c5fa631e-c8a4-4e2e-912e-1cd527578890",
   "metadata": {},
   "outputs": [
    {
     "name": "stdout",
     "output_type": "stream",
     "text": [
      "18\n"
     ]
    }
   ],
   "source": [
    "sum=0;\n",
    "for i in range(len(str2)):\n",
    "    if str2[i]=='a':\n",
    "        sum=sum+i;\n",
    "print(sum)"
   ]
  },
  {
   "cell_type": "markdown",
   "id": "c8576e6a-7bc6-4dd8-b1f6-f03c273277eb",
   "metadata": {},
   "source": [
    "**WAP to find number of 'a' in given string**"
   ]
  },
  {
   "cell_type": "code",
   "execution_count": 8,
   "id": "0c248143-4453-4e2d-8d01-dddf5926dcc0",
   "metadata": {},
   "outputs": [
    {
     "name": "stdout",
     "output_type": "stream",
     "text": [
      "a\n",
      "i\n",
      "o\n",
      "a\n",
      "e\n",
      "o\n",
      "u\n",
      "count of vowlels 7\n"
     ]
    }
   ],
   "source": [
    "str3='hai how are you';\n",
    "count=0;\n",
    "for i in str3:\n",
    "    if i in 'aeiou':\n",
    "        print(i);\n",
    "        count=count+1;\n",
    "print(f\"count of vowlels {count}\");"
   ]
  },
  {
   "cell_type": "markdown",
   "id": "6c86c787-3398-4652-9e0b-139a831e91e1",
   "metadata": {},
   "source": [
    "**WAP to find vowles which ar repeatinga nd print only once**"
   ]
  },
  {
   "cell_type": "code",
   "execution_count": 11,
   "id": "10863cc4-1399-4aad-a2b6-b39b078dd0c1",
   "metadata": {},
   "outputs": [
    {
     "name": "stdout",
     "output_type": "stream",
     "text": [
      "e\n",
      "o\n"
     ]
    }
   ],
   "source": [
    "str3=\"Heelloo\";\n",
    "str4='';\n",
    "for i in str3:\n",
    "    if i in 'aeiou':\n",
    "        if i not in str4:\n",
    "            print(i);\n",
    "            str4=str4+i;\n",
    "            \n",
    "            \n",
    "       \n",
    "        \n",
    "    "
   ]
  },
  {
   "cell_type": "code",
   "execution_count": null,
   "id": "8ae995d8-feb0-4d8f-b618-2b8f585c05fd",
   "metadata": {},
   "outputs": [],
   "source": []
  }
 ],
 "metadata": {
  "kernelspec": {
   "display_name": "Python [conda env:base] *",
   "language": "python",
   "name": "conda-base-py"
  },
  "language_info": {
   "codemirror_mode": {
    "name": "ipython",
    "version": 3
   },
   "file_extension": ".py",
   "mimetype": "text/x-python",
   "name": "python",
   "nbconvert_exporter": "python",
   "pygments_lexer": "ipython3",
   "version": "3.12.7"
  }
 },
 "nbformat": 4,
 "nbformat_minor": 5
}
