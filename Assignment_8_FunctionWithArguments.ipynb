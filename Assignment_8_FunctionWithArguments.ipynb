{
 "cells": [
  {
   "cell_type": "code",
   "execution_count": null,
   "id": "72f215e5-8fb4-473a-ad3d-b18885223736",
   "metadata": {},
   "outputs": [],
   "source": [
    "# 1)wap ask the user enter 3 numbers n1,n2,n3 from ketboard\n",
    "# calculate average\n",
    "\n",
    "# 2)wap ask the user enter name age city\n",
    "# print my name is python im 10 years old and came from hyd\n",
    "\n",
    "# 3)wap ask the user to enter radidus of a circle calculate area of the circle\n",
    "# var: radidus  var: pi=3.14\n",
    "# formuale: pi*radius*radius#\n",
    "# print the answers using f string and format\n",
    "\n",
    "# 4)wap ask the user enter breadth and height of a right angle triangle\n",
    "# calculate the area\n",
    "# var1: bredath  var2: height\n",
    "# formuale : 0.5*breadth*heigh\n",
    "\n",
    "# 5)wap ask the user the bill amount and tip amount\n",
    "#   calculate total bill\n",
    "#   var1: bill amount var2: tip amount\n",
    "#   formuale\n",
    "\n",
    "# 6)wap ask the user the bill amount and tip percentage\n",
    "#    take tip percentage as 10\n",
    "#   calculate total bill= bill amount+ bill amount*tip per/100\n",
    "#   var1: bill amount var2: tip amount\n",
    "#    formuale\n",
    "\n",
    "# 7)wap ask the length and breadth of a rectangle calculate area\n",
    "#   var1: length  var2: breadth\n",
    "#   formulae: length * breadth\n",
    "\n",
    "# 8) wap ask the user take the radius and calculate volume of sphere\n",
    "#   formulae: pi*r**3(pi*r*r*r)\n",
    "\n",
    "# 9) wap ask the user enter amount in dollars convert into rupees\n",
    "#     1$=85rs\n",
    "\n",
    "# 10)wap ask the user enter weight in kgs convert into pounds\n",
    "#    1kg= 2.2pounds"
   ]
  },
  {
   "cell_type": "markdown",
   "id": "c125a78e-4f91-48c5-ae80-c10339adc4a4",
   "metadata": {},
   "source": [
    "#### 1)wap ask the user enter 3 numbers n1,n2,n3 from ketboard\n",
    "#### calculate average"
   ]
  },
  {
   "cell_type": "code",
   "execution_count": 9,
   "id": "c565de0e-1aa9-4896-a4b3-b1fa1c885db9",
   "metadata": {},
   "outputs": [
    {
     "name": "stdout",
     "output_type": "stream",
     "text": [
      " avg of 20,30 & 60 is 37\n"
     ]
    }
   ],
   "source": [
    "import math\n",
    "def avg(n1,n2,n3):\n",
    "    average= math.ceil((n1+n2+n3)/3)\n",
    "    print(f\" avg of {n1},{n2} & {n3} is {average}\")\n",
    "avg(20,30,60)"
   ]
  },
  {
   "cell_type": "markdown",
   "id": "b542d0d9-f3b2-4c4e-bcd6-49faa8344d19",
   "metadata": {},
   "source": [
    "#### 2)wap ask the user enter name age city\n",
    "#### print my name is python im 10 years old and came from hyd"
   ]
  },
  {
   "cell_type": "code",
   "execution_count": 12,
   "id": "986b8cc7-a1f3-4db5-bfe6-0ac351214290",
   "metadata": {},
   "outputs": [
    {
     "name": "stdout",
     "output_type": "stream",
     "text": [
      "my name is Shirisha im 34 years old and came from Hyderabad\n"
     ]
    }
   ],
   "source": [
    "def userInfo(name,age,city):\n",
    "    print(f\"my name is {name} im {age} years old and came from {city}\");\n",
    "userInfo('Shirisha',34,\"Hyderabad\")"
   ]
  },
  {
   "cell_type": "markdown",
   "id": "f0f9ec6f-144d-42c1-a19d-817edaa748bd",
   "metadata": {},
   "source": [
    "#### 3)wap ask the user to enter radidus of a circle calculate area of the circle\n",
    "#### var: radidus  var: pi=3.14\n",
    "#### formuale: pi*radius*radius#\n",
    "#### print the answers using f string and format"
   ]
  },
  {
   "cell_type": "code",
   "execution_count": 15,
   "id": "b0338d96-55eb-4256-8069-4ba3d08ce05d",
   "metadata": {},
   "outputs": [
    {
     "name": "stdout",
     "output_type": "stream",
     "text": [
      " area of circle for radius 5 is 78.5\n"
     ]
    }
   ],
   "source": [
    "def circleRadius(radius):\n",
    "    area = 3.14*radius*radius;\n",
    "    print(f\" area of circle for radius {radius} is {area}\")\n",
    "circleRadius(5)"
   ]
  },
  {
   "cell_type": "markdown",
   "id": "a2024ddc-cae7-4bbb-8261-11100f04f395",
   "metadata": {},
   "source": [
    "#### 4)wap ask the user enter breadth and height of a right angle triangle\n",
    "#### calculate the area\n",
    "#### var1: bredath  var2: height\n",
    "#### formuale : 0.5*breadth*heigh"
   ]
  },
  {
   "cell_type": "code",
   "execution_count": 20,
   "id": "accd016c-5ab1-4065-8a88-1f0a4292c215",
   "metadata": {},
   "outputs": [
    {
     "name": "stdout",
     "output_type": "stream",
     "text": [
      "area of triangle for base 20 and height 10 is 100.0\n"
     ]
    }
   ],
   "source": [
    "def areaTri(b,h):\n",
    "    triArea= 0.5*b*h;\n",
    "    print(f\"area of triangle for base {b} and height {h} is {triArea}\")\n",
    "areaTri(20,10);"
   ]
  },
  {
   "cell_type": "markdown",
   "id": "5b0c4a26-99c0-4db5-8196-f0fb1f61bd03",
   "metadata": {},
   "source": [
    "#### 5)wap ask the user the bill amount and tip amount\n",
    "####   calculate total bill\n",
    "####   var1: bill amount var2: tip amount\n",
    "####   formuale"
   ]
  },
  {
   "cell_type": "code",
   "execution_count": 23,
   "id": "f617b6a0-f270-45bd-b7d1-6e5cdd4de5fd",
   "metadata": {},
   "outputs": [
    {
     "name": "stdout",
     "output_type": "stream",
     "text": [
      "total bill amount for billAmt 1000 and tip 100 is 1100\n"
     ]
    }
   ],
   "source": [
    "def calBill(billAmt,tipAmt):\n",
    "    totalBill=billAmt+tipAmt;\n",
    "    print(f\"total bill amount for billAmt {billAmt} and tip {tipAmt} is {totalBill}\")\n",
    "calBill(1000,100)\n",
    "\n",
    "    "
   ]
  },
  {
   "cell_type": "markdown",
   "id": "8c52a9fe-91df-41f8-8cea-afd336c79972",
   "metadata": {},
   "source": [
    "#### 6)wap ask the user the bill amount and tip percentage\n",
    "####    take tip percentage as 10\n",
    "####   calculate total bill= bill amount+ bill amount*tip per/100\n",
    "####   var1: bill amount var2: tip amount\n",
    "####    formuale"
   ]
  },
  {
   "cell_type": "code",
   "execution_count": 28,
   "id": "89124521-40bd-466a-8fca-a30ddda0e06c",
   "metadata": {},
   "outputs": [
    {
     "name": "stdout",
     "output_type": "stream",
     "text": [
      "total bill amount for billAmt 1000 and tippercent 10 is 1100.0\n"
     ]
    }
   ],
   "source": [
    "def calBill(billAmt,tipAmt):\n",
    "    totalBill=billAmt+((tipAmt/100)*(billAmt));\n",
    "    print(f\"total bill amount for billAmt {billAmt} and tippercent {tipAmt} is {totalBill}\")\n",
    "calBill(1000,10)"
   ]
  },
  {
   "cell_type": "markdown",
   "id": "3546d2f7-5360-45fc-a0ad-d6489623bc5e",
   "metadata": {},
   "source": [
    "#### 7)wap ask the length and breadth of a rectangle calculate area\n",
    "####   var1: length  var2: breadth\n",
    "####   formulae: length * breadth\n"
   ]
  },
  {
   "cell_type": "code",
   "execution_count": 33,
   "id": "e33b12e8-6982-4e5f-aa28-d143f6dea2b5",
   "metadata": {},
   "outputs": [
    {
     "name": "stdout",
     "output_type": "stream",
     "text": [
      "area of rectange for length 20 and breadth 10 is 200\n"
     ]
    }
   ],
   "source": [
    "def areaRec(l,b):\n",
    "    recArea= l*b;\n",
    "    print(f\"area of rectange for length {l} and breadth {b} is {recArea}\")\n",
    "areaRec(20,10);"
   ]
  },
  {
   "cell_type": "markdown",
   "id": "60f7a694-5c08-493a-9a4f-db925d31afba",
   "metadata": {},
   "source": [
    "#### 8) wap ask the user take the radius and calculate volume of sphere\n",
    "####   formulae: pi*r**3(pi*r*r*r)"
   ]
  },
  {
   "cell_type": "code",
   "execution_count": 42,
   "id": "f1d40d77-38f8-47c3-9877-b30e0cabcf22",
   "metadata": {},
   "outputs": [
    {
     "name": "stdout",
     "output_type": "stream",
     "text": [
      " volume of sphere for radius 5 is 523.3333333333334\n"
     ]
    }
   ],
   "source": [
    "def volSphere(radius2):\n",
    "    volume = 3.14*(4/3)*((radius2*radius2*radius2))\n",
    "    print(f\" volume of sphere for radius {radius2} is {volume}\")\n",
    "volSphere(5)"
   ]
  },
  {
   "cell_type": "markdown",
   "id": "0bb53c6d-0c29-40ae-8a32-38e69c17690c",
   "metadata": {},
   "source": [
    "#### 9) wap ask the user enter amount in dollars convert into rupees\n",
    "####    1$=85rs\n"
   ]
  },
  {
   "cell_type": "code",
   "execution_count": 45,
   "id": "36183a72-f745-4862-bdb8-1ae54965b51e",
   "metadata": {},
   "outputs": [
    {
     "name": "stdout",
     "output_type": "stream",
     "text": [
      "USD 100 in INR is 8500\n"
     ]
    }
   ],
   "source": [
    "def USDtoINR(amt):\n",
    "    conversion=amt*85;\n",
    "    print(f\"USD {amt} in INR is {conversion}\")\n",
    "USDtoINR(100)"
   ]
  },
  {
   "cell_type": "markdown",
   "id": "fa8534b2-2bad-4c54-ae07-45b7f8cf8315",
   "metadata": {},
   "source": [
    "\n",
    "#### 10)wap ask the user enter weight in kgs convert into pounds\n",
    "####    1kg= 2.2pounds"
   ]
  },
  {
   "cell_type": "code",
   "execution_count": 52,
   "id": "e04e5d7d-faf7-41b5-ad57-4bc07082cda1",
   "metadata": {},
   "outputs": [
    {
     "name": "stdout",
     "output_type": "stream",
     "text": [
      "100 kgs in pounds is 221\n"
     ]
    }
   ],
   "source": [
    "def weightInPounds(wgt):\n",
    "    weightPounds= math.ceil(wgt*2.2)\n",
    "    print(f\"{wgt} kgs in pounds is {weightPounds}\")\n",
    "weightInPounds(100)"
   ]
  },
  {
   "cell_type": "code",
   "execution_count": null,
   "id": "e74921c8-2e19-4e4a-bf23-4edebb7cad12",
   "metadata": {},
   "outputs": [],
   "source": []
  }
 ],
 "metadata": {
  "kernelspec": {
   "display_name": "Python [conda env:base] *",
   "language": "python",
   "name": "conda-base-py"
  },
  "language_info": {
   "codemirror_mode": {
    "name": "ipython",
    "version": 3
   },
   "file_extension": ".py",
   "mimetype": "text/x-python",
   "name": "python",
   "nbconvert_exporter": "python",
   "pygments_lexer": "ipython3",
   "version": "3.12.7"
  }
 },
 "nbformat": 4,
 "nbformat_minor": 5
}
