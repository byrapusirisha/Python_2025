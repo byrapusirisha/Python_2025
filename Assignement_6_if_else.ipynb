{
 "cells": [
  {
   "cell_type": "code",
   "execution_count": null,
   "id": "d8c3ad17-1d73-486c-8ec9-b55b4bf4a7b5",
   "metadata": {},
   "outputs": [],
   "source": [
    "#### Problem-1(Use conditional statements)\n",
    "\n",
    "Write a program that asks the user to enter a length in centimetres. If the user enters\n",
    "a negative length, the program should tell the user that the entry is invalid. Otherwise,\n",
    "the program should convert the length to inches and print out the result. There are\n",
    "2.54 centimetres in an inch.\n",
    "\n",
    "#### Problem-2(Use conditional statements)\n",
    "Ask the user for a temperature. Then ask them what units, Celsius or Fahrenheit, the\n",
    "temperature is in. Your program should convert the temperature to the other unit. The\n",
    "conversions are F = 9 5 C +32 and C = 5 9 (F − 32).\n",
    "\n",
    "#### Problem-3(Use conditional statements)\n",
    "Ask the user to enter a temperature in Celsius. The program should print a\n",
    "message based on the temperature:\n",
    "• If the temperature is less than -273.15, print that the temperature is invalid because it is\n",
    "below absolute zero.\n",
    "• If it is exactly -273.15, print that the temperature is absolute 0.\n",
    "• If the temperature is between -273.15 and 0, print that the temperature is below\n",
    "freezing. • If it is 0, print that the temperature is at the freezing point.\n",
    "• If it is between 0 and 100, print that the temperature is in the normal\n",
    "range. • If it is 100, print that the temperature is at the boiling point.\n",
    "• If it is above 100, print that the temperature is above the boiling point.\n",
    "    \n",
    "#### Problem-4(Use conditional statements)\n",
    "Write a program that asks the user how many credits they have taken. If they have taken 23 or\n",
    "less, print that the student is a freshman. If they have taken between 24 and 53, print that they\n",
    "are asophomore. The range for juniors is 54 to 83, and for seniors it is 84 and over.\n",
    "\n",
    "#### Problem-5(Use conditional statements)\n",
    "Generate a random number between 1 and 10. Ask the user to guess the number and print a\n",
    "message based on whether they get it right or not.\n",
    "\n",
    "#### Problem-6(Use conditional statements)\n",
    "A store charges $12 per item if you buy less than 10 items. If you buy between 10\n",
    "and 99 items, the cost is $10 per item. If you buy 100 or more items, the cost is $7\n",
    "per item. Write a program that asks the user how many items they are buying and\n",
    "prints the total cost.\n",
    "\n",
    "#### Problem-7(Use conditional statements)\n",
    "Write a program that asks the user for two numbers and prints Close if the\n",
    "numbers are within .001of each other and Not close otherwise.\n",
    "\n",
    "#### Problem-8(Use conditional statements)\n",
    "A year is a leap year if it is divisible by 4, except that years divisible by 100 are not leap years unless\n",
    "they are also divisible by 400. Write a program that asks the user for a year and prints out whether\n",
    "it is a leap year or not.\n",
    "\n",
    "#### Problem-9(Use conditional statements)\n",
    "Write a program that asks the user to enter a number and prints out all the divisors of that\n",
    "number. [Hint: the % operator is used to tell if a number is divisible by something.\n",
    "\n",
    "#### Problem-10(Use conditional statements)\n",
    "Write a program that asks the user for an hour between 1 and 12, asks them to\n",
    "enter am or pm, and asks them how many hours into the future they want to go.\n",
    "Print out what the hour will be that many hours into the future, printing am or pm as\n",
    "appropriate. An example is shown below.\n",
    "Enter hour: 8\n",
    "am (1) or pm (2)? 1\n",
    "How many hours ahead? 5\n",
    "New hour: 1 pm"
   ]
  },
  {
   "cell_type": "markdown",
   "id": "aafea38a-67ef-43a3-afa3-6cfccc1d996d",
   "metadata": {},
   "source": [
    "#### Problem-1(Use conditional statements)\n",
    "\n",
    "Write a program that asks the user to enter a length in centimetres. If the user enters\n",
    "a negative length, the program should tell the user that the entry is invalid. Otherwise,\n",
    "the program should convert the length to inches and print out the result. There are\n",
    "2.54 centimetres in an inch."
   ]
  },
  {
   "cell_type": "code",
   "execution_count": 24,
   "id": "0bd2d576-e68a-40d5-95c1-d371b581f66f",
   "metadata": {},
   "outputs": [
    {
     "name": "stdin",
     "output_type": "stream",
     "text": [
      "enter length in cms 10000\n"
     ]
    },
    {
     "name": "stdout",
     "output_type": "stream",
     "text": [
      "10000 CMs = 25400.0 inches\n"
     ]
    }
   ],
   "source": [
    "try:\n",
    "    lengthInCms=eval(input(\"enter length in cms\"));\n",
    "    if lengthInCms>0:\n",
    "        lengthInInch= lengthInCms*2.54;\n",
    "        print(f\"{lengthInCms} CMs = {lengthInInch} inches\");\n",
    "    else:\n",
    "        print(\"Invalid Length\");\n",
    "except Exception as e:\n",
    "    print(\"Exception:\",e);\n"
   ]
  },
  {
   "cell_type": "markdown",
   "id": "d78b0bb0-85ec-47b1-8575-59de7953c1b6",
   "metadata": {},
   "source": [
    "#### Problem-2(Use conditional statements)\n",
    "Ask the user for a temperature. Then ask them what units, Celsius or Fahrenheit, the\n",
    "temperature is in. Your program should convert the temperature to the other unit. The\n",
    "conversions are F = 9 5 C +32 and C = 5 9 (F − 32)."
   ]
  },
  {
   "cell_type": "code",
   "execution_count": 32,
   "id": "cc2c0757-29f9-436f-affb-3422967d2203",
   "metadata": {},
   "outputs": [
    {
     "name": "stdin",
     "output_type": "stream",
     "text": [
      "enter temperature 36.66666666666667\n"
     ]
    },
    {
     "name": "stdout",
     "output_type": "stream",
     "text": [
      "temperature 36.66666666666667\n"
     ]
    },
    {
     "name": "stdin",
     "output_type": "stream",
     "text": [
      "what units did you enter temperature Celsius\n"
     ]
    },
    {
     "name": "stdout",
     "output_type": "stream",
     "text": [
      "temp in units Celsius\n",
      "36.66666666666667 C equals to 98.00000000000001 F\n"
     ]
    }
   ],
   "source": [
    "try:\n",
    "    temp= eval(input(\"enter temperature\"));\n",
    "    print(\"temperature\",temp);\n",
    "    units=input(\"what units did you enter temperature\");\n",
    "    print(\"temp in units\",units);\n",
    "    if units=='Celsius':\n",
    "        tempInF=((9/5)*temp)+32;\n",
    "        print(f\"{temp} C equals to {tempInF} F\");\n",
    "    if units=='Fahrenheit':\n",
    "        tempInC=(temp-32)*(5/9);\n",
    "        print(f\"{temp} F equals to {tempInC} celsius\");\n",
    "except Exception as e:\n",
    "    print(\"Exception: \",e);\n",
    "        "
   ]
  },
  {
   "cell_type": "markdown",
   "id": "eece50d1-6c68-4981-88fb-0c1f3f02707e",
   "metadata": {},
   "source": [
    "#### Problem-3(Use conditional statements)\n",
    "Ask the user to enter a temperature in Celsius. The program should print a\n",
    "message based on the temperature:\n",
    "-  If the temperature is less than -273.15, print that the temperature is invalid because it is\n",
    "below absolute zero.\n",
    "-  If it is exactly -273.15, print that the temperature is absolute 0.\n",
    "-  If the temperature is between -273.15 and 0, print that the temperature is below\n",
    "freezing. • If it is 0, print that the temperature is at the freezing point.\n",
    "-  If it is between 0 and 100, print that the temperature is in the normal\n",
    "range.\n",
    "-  If it is 100, print that the temperature is at the boiling point.\n",
    "-  If it is above 100, print that the temperature is above the boiling point."
   ]
  },
  {
   "cell_type": "code",
   "execution_count": 42,
   "id": "4ee56445-42c5-43bc-a1ff-5fd4e6b1a453",
   "metadata": {},
   "outputs": [
    {
     "name": "stdin",
     "output_type": "stream",
     "text": [
      "enter temperature in Celsius 1231\n"
     ]
    },
    {
     "name": "stdout",
     "output_type": "stream",
     "text": [
      "temperature 1231\n",
      "temperature is above the boiling point\n"
     ]
    }
   ],
   "source": [
    "try:\n",
    "    temp= eval(input(\"enter temperature in Celsius\"));\n",
    "    print(\"temperature\",temp);\n",
    "    if temp< -273.15:\n",
    "        print(\"temperature is invalid because it is below absolute zero\");\n",
    "    elif temp==-273.15:\n",
    "        print(\"temperature is absolute 0\");\n",
    "    elif temp>-273.15 and temp<0:\n",
    "        print(\"temperature is below freezing\");\n",
    "    elif temp==0:\n",
    "        print(\"temperature is at the freezing point\");\n",
    "    elif temp==100:\n",
    "        print(\"temperature is at the boiling point\");\n",
    "    elif temp>100:\n",
    "        print(\"temperature is above the boiling point\");\n",
    "        \n",
    "except Exception as e:\n",
    "    print(\"Exception: \",e);"
   ]
  },
  {
   "cell_type": "markdown",
   "id": "56759afd-63bc-4f83-8fee-01ed26a308e2",
   "metadata": {},
   "source": [
    "#### Problem-4(Use conditional statements)\n",
    "Write a program that asks the user how many credits they have taken. \n",
    "- If they have taken 23 or less, print that the student is a freshman.\n",
    "- If they have taken between 24 and 53, print that they are asophomore.\n",
    "- The range for juniors is 54 to 83,\n",
    "- and for seniors it is 84 and over."
   ]
  },
  {
   "cell_type": "code",
   "execution_count": 59,
   "id": "c90e4d53-9633-4955-90c4-77642a0e6ee4",
   "metadata": {},
   "outputs": [
    {
     "name": "stdin",
     "output_type": "stream",
     "text": [
      "enter your credits 84\n"
     ]
    },
    {
     "name": "stdout",
     "output_type": "stream",
     "text": [
      "credits 84\n",
      "student is senior\n"
     ]
    }
   ],
   "source": [
    "try:\n",
    "    credits= eval(input(\"enter your credits\"));\n",
    "    print(\"credits\",credits);\n",
    "    if credits<=23:\n",
    "        print(\"the student is a freshman\");\n",
    "    elif credits>=24 and credits<=53:\n",
    "        print(\"student is Asophomore\");\n",
    "    elif credits>=54 and credits<=83:\n",
    "        print(\"student is Junior\");\n",
    "    else:\n",
    "        print(\"student is senior\")    \n",
    "except Exception as e:\n",
    "    print(\"Exception: \",e);"
   ]
  },
  {
   "cell_type": "markdown",
   "id": "b6412e31-0854-4b48-b745-78c47b64d9f0",
   "metadata": {},
   "source": [
    "#### Problem-5(Use conditional statements)\n",
    "Generate a random number between 1 and 10. Ask the user to guess the number and print a\n",
    "message based on whether they get it right or not"
   ]
  },
  {
   "cell_type": "code",
   "execution_count": 98,
   "id": "dd9842e0-faee-4a7b-911a-58ea819dd1c6",
   "metadata": {},
   "outputs": [
    {
     "name": "stdin",
     "output_type": "stream",
     "text": [
      "enter number btw 1 to 10 9\n"
     ]
    },
    {
     "name": "stdout",
     "output_type": "stream",
     "text": [
      "userNum:  9\n",
      "YOU WON\n"
     ]
    }
   ],
   "source": [
    "try:\n",
    "    import random\n",
    "    randNum= random.randint(1,10);\n",
    "    #print(\"randomNum: \",randNum);\n",
    "    userNum=eval(input(\"enter number btw 1 to 10\"));\n",
    "    print(\"userNum: \",userNum);\n",
    "    if randNum==userNum:\n",
    "        print(\"YOU WON\");\n",
    "    else:\n",
    "        print(\"YOU LOST\");\n",
    "except Exception as e:\n",
    "    print(\"Exception: \",e);\n",
    "    \n",
    "    \n",
    "    "
   ]
  },
  {
   "cell_type": "markdown",
   "id": "26e0e524-01b9-4732-b374-c1925fd60f6d",
   "metadata": {},
   "source": [
    "#### Problem-6(Use conditional statements)\n",
    "\n",
    "- A store charges 12 per item if you buy less than 10 items.\n",
    "- If you buy between 10 and 99 items, the cost is 10 per item. \n",
    "- If you buy 100 or more items, the cost is 7 per item.\n",
    "-  Write a program that asks the user how many items they are buying and\n",
    "prints the total cost."
   ]
  },
  {
   "cell_type": "code",
   "execution_count": 120,
   "id": "dbfc4d6b-2cd1-40f2-9077-41e762ea94a6",
   "metadata": {},
   "outputs": [
    {
     "name": "stdin",
     "output_type": "stream",
     "text": [
      "enter number of items you are buying 100\n"
     ]
    },
    {
     "name": "stdout",
     "output_type": "stream",
     "text": [
      "num_of_items 100\n",
      "total cost is :  700\n"
     ]
    }
   ],
   "source": [
    "try:\n",
    "    num_of_items= eval(input(\"enter number of items you are buying\"));\n",
    "    print(\"num_of_items\",num_of_items);\n",
    "    if num_of_items<=0:\n",
    "        print(\"invalid count\");\n",
    "    elif num_of_items<10:\n",
    "        cost=num_of_items*12;\n",
    "        print(\"total cost is : \",cost);\n",
    "    elif num_of_items>=10 and num_of_items<=99:\n",
    "        cost=num_of_items*10;\n",
    "        print(\"total cost is : \",cost);\n",
    "    else:\n",
    "        cost=num_of_items*7;\n",
    "        print(\"total cost is : \",cost);   \n",
    "except Exception as e:\n",
    "    print(\"Exception: \",e);"
   ]
  },
  {
   "cell_type": "markdown",
   "id": "36328641-2076-4966-a4df-9467e5d4833d",
   "metadata": {},
   "source": [
    "#### Problem-8(Use conditional statements)\n",
    "- A year is a leap year if it is divisible by 4, except that years divisible by 100 are not leap years unless\n",
    "they are also divisible by 400. \n",
    "- Write a program that asks the user for a year and prints out whether\n",
    "it is a leap year or not."
   ]
  },
  {
   "cell_type": "code",
   "execution_count": 159,
   "id": "2acc71a6-0907-45f1-bc90-18d9b13c4fad",
   "metadata": {},
   "outputs": [
    {
     "name": "stdin",
     "output_type": "stream",
     "text": [
      "enter year 2032\n"
     ]
    },
    {
     "name": "stdout",
     "output_type": "stream",
     "text": [
      "leap year\n"
     ]
    }
   ],
   "source": [
    "year=eval(input(\"enter year\"));\n",
    "if year%4==0 and year%100!=0:\n",
    "    print(\"leap year\");\n",
    "elif year%100==0 and year%400==0:\n",
    "    print(\"leap year\");\n",
    "else:\n",
    "    print(\"non leap year\");"
   ]
  },
  {
   "cell_type": "markdown",
   "id": "9aaf264d-0918-4fb0-b7b4-6b3dde2dbbcc",
   "metadata": {},
   "source": [
    "#### Problem-10(Use conditional statements)\n",
    "- Write a program that asks the user for an hour between 1 and 12,\n",
    "- asks them to enter am or pm,\n",
    "-  and asks them how many hours into the future they want to go.\n",
    "Print out what the hour will be that many hours into the future, printing am or pm as\n",
    "appropriate. An example is shown below.\n",
    "Enter hour: 8\n",
    "am (1) or pm (2)? 1\n",
    "How many hours ahead? 5\n",
    "New hour: 1 pm"
   ]
  },
  {
   "cell_type": "code",
   "execution_count": 168,
   "id": "5a0ad492-7f64-49ea-87b7-13fac43df883",
   "metadata": {},
   "outputs": [
    {
     "name": "stdin",
     "output_type": "stream",
     "text": [
      "enter hour between 1 to 12 10\n",
      "enter if AM or PM am\n"
     ]
    },
    {
     "name": "stdout",
     "output_type": "stream",
     "text": [
      "Hour entered is:  10 am\n"
     ]
    },
    {
     "name": "stdin",
     "output_type": "stream",
     "text": [
      "How many hours in future you want to go 12\n"
     ]
    },
    {
     "name": "stdout",
     "output_type": "stream",
     "text": [
      "futureHrs:  12\n",
      "New Hour:  22 PM\n"
     ]
    }
   ],
   "source": [
    "hour= eval(input(\"enter hour between 1 to 12\"));\n",
    "\n",
    "am_pm=input(\"enter if AM or PM\");\n",
    "\n",
    "print(\"Hour entered is: \",hour,am_pm);\n",
    "futureHrs= eval(input(\"How many hours in future you want to go\"));\n",
    "print(\"futureHrs: \",futureHrs)\n",
    "if am_pm=='am':\n",
    "    totalHrs=hour+futureHrs;\n",
    "    if totalHrs<12:\n",
    "        print(\"New Hour: \",totalHrs,\"AM\");\n",
    "    elif totalHrs>=12 and totalHrs!=24:\n",
    "         print(\"New Hour: \",totalHrs,\"PM\");\n",
    "    else:\n",
    "        print(\"New Hour: \",totalHrs,\"AM\");\n",
    "if am_pm=='pm':\n",
    "    totalHrs=hour+futureHrs;\n",
    "    if totalHrs<12:\n",
    "        print(\"New Hour: \",totalHrs,\"PM\");\n",
    "    elif totalHrs>=12 and totalHrs!=24:\n",
    "         print(\"New Hour: \",totalHrs,\"AM\");\n",
    "    else:\n",
    "        print(\"New Hour: \",totalHrs,\"PM\");\n",
    "    \n"
   ]
  },
  {
   "cell_type": "code",
   "execution_count": null,
   "id": "7cfe1864-2b85-4416-85f4-97c3bf4c6822",
   "metadata": {},
   "outputs": [],
   "source": []
  }
 ],
 "metadata": {
  "kernelspec": {
   "display_name": "Python [conda env:base] *",
   "language": "python",
   "name": "conda-base-py"
  },
  "language_info": {
   "codemirror_mode": {
    "name": "ipython",
    "version": 3
   },
   "file_extension": ".py",
   "mimetype": "text/x-python",
   "name": "python",
   "nbconvert_exporter": "python",
   "pygments_lexer": "ipython3",
   "version": "3.12.7"
  }
 },
 "nbformat": 4,
 "nbformat_minor": 5
}
