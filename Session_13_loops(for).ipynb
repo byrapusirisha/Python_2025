{
 "cells": [
  {
   "cell_type": "markdown",
   "id": "ccb72e35-dc3f-4819-89ca-d23f7ab09557",
   "metadata": {},
   "source": [
    "**Loops**\n",
    "- loops are used to iterate the code multiple times\n",
    "- functions are used to reuse the code block\n",
    "- that code block can be repeated multiple times\n",
    "- whenever you are doing same task multiple times think about loop\n",
    "- We have 2 loops\n",
    "   - for loop\n",
    "   - while loop\n",
    "- Any loop we need three things\n",
    "   - Initialization (start point)\n",
    "   - Increment or decrement\n",
    "   - condition to stop"
   ]
  },
  {
   "cell_type": "markdown",
   "id": "ac865d36-7313-48fa-999f-919b231fdd82",
   "metadata": {},
   "source": [
    "**For Loop**"
   ]
  },
  {
   "cell_type": "code",
   "execution_count": null,
   "id": "eb85e0ea-982d-4a87-bdb4-3055e5e7f102",
   "metadata": {},
   "outputs": [],
   "source": [
    "for <variable> in range(<number>):\n",
    "    <write your code here>;"
   ]
  },
  {
   "cell_type": "code",
   "execution_count": 18,
   "id": "7be49497-4b91-4160-a8df-accf9f219f2a",
   "metadata": {},
   "outputs": [
    {
     "name": "stdout",
     "output_type": "stream",
     "text": [
      "1 2 3 4 "
     ]
    }
   ],
   "source": [
    "for i in range(1,5):\n",
    "    print(i,end=' ');\n"
   ]
  },
  {
   "cell_type": "markdown",
   "id": "5e6c816f-6c6a-496a-8662-048a8f3a7109",
   "metadata": {},
   "source": [
    "**case 1:range(stop)**\n",
    "- start=0: python index always starts with 0\n",
    "- increment by 1\n",
    "- last=stop-1"
   ]
  },
  {
   "cell_type": "code",
   "execution_count": 23,
   "id": "08daa189-18fc-4dc2-907b-258403e9b85a",
   "metadata": {},
   "outputs": [
    {
     "name": "stdout",
     "output_type": "stream",
     "text": [
      "0 1 2 3 4 5 6 7 8 9 "
     ]
    }
   ],
   "source": [
    "for i in range(10):\n",
    "    print(i, end=' ');"
   ]
  },
  {
   "cell_type": "code",
   "execution_count": 25,
   "id": "b65b990a-94d1-4b86-a429-e8ef80961a39",
   "metadata": {},
   "outputs": [
    {
     "name": "stdout",
     "output_type": "stream",
     "text": [
      "Goog Night\n",
      "Goog Night\n",
      "Goog Night\n"
     ]
    }
   ],
   "source": [
    "for i in range(3):\n",
    "    print(\"Goog Night\");"
   ]
  },
  {
   "cell_type": "markdown",
   "id": "89233d65-ff65-4f5a-8956-e695cfabb4ee",
   "metadata": {},
   "source": [
    "**Case 2: range(start,stop)**\n",
    "- Suppose if we want to start loop with particular number\n",
    "- then add start also inside range\n",
    "- start=start\n",
    "- increment by 1\n",
    "- last = stop-1"
   ]
  },
  {
   "cell_type": "code",
   "execution_count": 30,
   "id": "ecccced8-589f-441f-a950-4c3f49243832",
   "metadata": {},
   "outputs": [
    {
     "name": "stdout",
     "output_type": "stream",
     "text": [
      "10 11 12 13 14 15 16 17 18 19 "
     ]
    }
   ],
   "source": [
    "for i in range(10,20):\n",
    "    print(i, end=' ');\n",
    "    "
   ]
  },
  {
   "cell_type": "markdown",
   "id": "87f26f5d-2bc1-4bfb-8dc6-812b11a639e2",
   "metadata": {},
   "source": [
    "**WAP to print  the sqaure of first 5 number**"
   ]
  },
  {
   "cell_type": "code",
   "execution_count": 35,
   "id": "495f48b5-298a-4a57-a067-d888e83007fd",
   "metadata": {},
   "outputs": [
    {
     "name": "stdout",
     "output_type": "stream",
     "text": [
      "1 4 9 16 25 "
     ]
    }
   ],
   "source": [
    "for i in range(1,6):\n",
    "    print(i*i,end=\" \");"
   ]
  },
  {
   "cell_type": "markdown",
   "id": "ec4dfdc7-2a1f-4ae0-8574-89ead80a3c3d",
   "metadata": {},
   "source": [
    "**WAP ask user to enter a number 5 time and print sqaure of that**"
   ]
  },
  {
   "cell_type": "code",
   "execution_count": 40,
   "id": "5d6e5f63-2788-4fa3-a049-a13aba6061bd",
   "metadata": {},
   "outputs": [
    {
     "name": "stdin",
     "output_type": "stream",
     "text": [
      "enter a number 2\n"
     ]
    },
    {
     "name": "stdout",
     "output_type": "stream",
     "text": [
      "4\n"
     ]
    },
    {
     "name": "stdin",
     "output_type": "stream",
     "text": [
      "enter a number 4\n"
     ]
    },
    {
     "name": "stdout",
     "output_type": "stream",
     "text": [
      "16\n"
     ]
    },
    {
     "name": "stdin",
     "output_type": "stream",
     "text": [
      "enter a number 5\n"
     ]
    },
    {
     "name": "stdout",
     "output_type": "stream",
     "text": [
      "25\n"
     ]
    },
    {
     "name": "stdin",
     "output_type": "stream",
     "text": [
      "enter a number 7\n"
     ]
    },
    {
     "name": "stdout",
     "output_type": "stream",
     "text": [
      "49\n"
     ]
    },
    {
     "name": "stdin",
     "output_type": "stream",
     "text": [
      "enter a number 8\n"
     ]
    },
    {
     "name": "stdout",
     "output_type": "stream",
     "text": [
      "64\n"
     ]
    }
   ],
   "source": [
    "for i in range(1,6):\n",
    "    num= eval(input(\"enter a number\"));\n",
    "    sqr= num*num;\n",
    "    print(sqr);\n",
    "    "
   ]
  },
  {
   "cell_type": "markdown",
   "id": "6984cc04-a10d-464a-817c-62f013df7866",
   "metadata": {},
   "source": [
    "**Case3- range(start,stop,step)**\n",
    "- start = start only\n",
    "- step:\n",
    "   - look abput step sign, is it positive or neagtive\n",
    "   - positive means increment\n",
    "      - last: stop-1\n",
    "   - negative means decrement\n",
    "      - last : stop+1"
   ]
  },
  {
   "cell_type": "code",
   "execution_count": 44,
   "id": "761cf908-3398-41a5-943b-918dcd0f7793",
   "metadata": {},
   "outputs": [
    {
     "name": "stdout",
     "output_type": "stream",
     "text": [
      "1\n",
      "3\n",
      "5\n",
      "7\n",
      "9\n"
     ]
    }
   ],
   "source": [
    "for i in range(1,10,2):\n",
    "    print(i);"
   ]
  },
  {
   "cell_type": "code",
   "execution_count": 70,
   "id": "9dff6ab6-2a6a-49f2-881d-05618c59f179",
   "metadata": {},
   "outputs": [
    {
     "name": "stdout",
     "output_type": "stream",
     "text": [
      "-1\n",
      "-2\n",
      "-3\n",
      "-4\n",
      "-5\n",
      "-6\n",
      "-7\n",
      "-8\n",
      "-9\n"
     ]
    }
   ],
   "source": [
    "for i in range(-1,-10,-1):\n",
    "    print(i);"
   ]
  },
  {
   "cell_type": "code",
   "execution_count": 72,
   "id": "dc96b4a5-0643-488d-9019-a562062fe63e",
   "metadata": {},
   "outputs": [
    {
     "name": "stdout",
     "output_type": "stream",
     "text": [
      "1\n",
      "0\n",
      "-1\n",
      "-2\n",
      "-3\n",
      "-4\n"
     ]
    }
   ],
   "source": [
    "for i in range(1,-5,-1):\n",
    "    print(i);"
   ]
  },
  {
   "cell_type": "markdown",
   "id": "c6da09f4-51d6-4bf7-b5ce-65b67a07e350",
   "metadata": {},
   "source": [
    "**Print 7 table**"
   ]
  },
  {
   "cell_type": "code",
   "execution_count": 6,
   "id": "65b1b238-7bfd-4b02-bd30-deca7fc0bd04",
   "metadata": {},
   "outputs": [
    {
     "name": "stdin",
     "output_type": "stream",
     "text": [
      "enter any number 9\n"
     ]
    },
    {
     "name": "stdout",
     "output_type": "stream",
     "text": [
      "9x1 = 9\n",
      "9x2 = 18\n",
      "9x3 = 27\n",
      "9x4 = 36\n",
      "9x5 = 45\n",
      "9x6 = 54\n",
      "9x7 = 63\n",
      "9x8 = 72\n",
      "9x9 = 81\n",
      "9x10 = 90\n"
     ]
    }
   ],
   "source": [
    "num= eval(input(\"enter any number\"));\n",
    "for i in range(1,11):\n",
    "    val=num*i\n",
    "    print(f\"{num}x{i} = {val}\");\n"
   ]
  },
  {
   "cell_type": "markdown",
   "id": "c6300c07-65da-4ad8-8883-864445d552f1",
   "metadata": {},
   "source": [
    "**Find the number of divisors of a number**"
   ]
  },
  {
   "cell_type": "code",
   "execution_count": 31,
   "id": "146cfd61-1d9d-4d2e-9823-b37edc329a7e",
   "metadata": {},
   "outputs": [
    {
     "name": "stdin",
     "output_type": "stream",
     "text": [
      "enter any number 75\n"
     ]
    },
    {
     "name": "stdout",
     "output_type": "stream",
     "text": [
      "1 3 5 15 25 75 "
     ]
    }
   ],
   "source": [
    "num=eval(input(\"enter any number\"));\n",
    "for i in range(1,num+1):\n",
    "    if(num%i==0):\n",
    "        print(i, end=\" \");\n"
   ]
  },
  {
   "cell_type": "markdown",
   "id": "e376dedf-c8fb-46ed-aff6-6c171523185a",
   "metadata": {},
   "source": [
    "**Find sum of first 10 natural numbers**"
   ]
  },
  {
   "cell_type": "code",
   "execution_count": 23,
   "id": "1ac62200-6f99-4821-9021-732f8ff24a2d",
   "metadata": {},
   "outputs": [
    {
     "name": "stdout",
     "output_type": "stream",
     "text": [
      "55\n"
     ]
    }
   ],
   "source": [
    "sum=0;\n",
    "for i in range(1,11):\n",
    "    sum=sum+i\n",
    "print(sum);"
   ]
  },
  {
   "cell_type": "markdown",
   "id": "63a33663-c8d4-40e9-95e6-a4115e672c5b",
   "metadata": {},
   "source": [
    "**Summation Wrapper**\n",
    "- starting we initialize sum value = 0\n",
    "- inside loop we will add a simple line : sum=sum+i"
   ]
  },
  {
   "cell_type": "code",
   "execution_count": 26,
   "id": "fce942c4-5c75-44de-b67b-4190482fbaec",
   "metadata": {},
   "outputs": [
    {
     "data": {
      "text/plain": [
       "90"
      ]
     },
     "execution_count": 26,
     "metadata": {},
     "output_type": "execute_result"
    }
   ],
   "source": [
    "val\n"
   ]
  },
  {
   "cell_type": "markdown",
   "id": "533d9fa5-8848-4c6e-a84e-04f3433745c3",
   "metadata": {},
   "source": [
    "**Find sum of divisors of 75**\n"
   ]
  },
  {
   "cell_type": "code",
   "execution_count": 29,
   "id": "ba071b87-ddd1-41ca-8434-7ce4b0762762",
   "metadata": {},
   "outputs": [
    {
     "name": "stdin",
     "output_type": "stream",
     "text": [
      "enter any number 75\n"
     ]
    },
    {
     "name": "stdout",
     "output_type": "stream",
     "text": [
      "124\n"
     ]
    }
   ],
   "source": [
    "num= eval(input(\"enter any number\"));\n",
    "sum=0;\n",
    "for i in range(1,num+1):\n",
    "    if num%i==0:\n",
    "        sum=sum+i;\n",
    "print(sum);"
   ]
  },
  {
   "cell_type": "markdown",
   "id": "761eadbe-0c8b-4a0a-9908-526d1db9e555",
   "metadata": {},
   "source": [
    "**Counter Wrapper**"
   ]
  },
  {
   "cell_type": "code",
   "execution_count": 42,
   "id": "df77ffaf-cb01-4dd4-a53c-24c379fe23a8",
   "metadata": {},
   "outputs": [
    {
     "name": "stdin",
     "output_type": "stream",
     "text": [
      "enter any number 100\n"
     ]
    },
    {
     "name": "stdout",
     "output_type": "stream",
     "text": [
      "9\n"
     ]
    }
   ],
   "source": [
    "num= eval(input(\"enter any number\"));\n",
    "count=0;\n",
    "for i in range(1,num+1):\n",
    "    if num%i==0:\n",
    "        count=count+1;\n",
    "print(count);"
   ]
  },
  {
   "cell_type": "markdown",
   "id": "33b529a9-f7d1-4e93-a035-c502bd2fa6be",
   "metadata": {},
   "source": [
    "**Ask user to enter 5 random numbers**\n",
    "- print count of even numbers\n",
    "- print sum of even numbers\n",
    "- print count of odd numbers\n",
    "- print sum of odd number\n"
   ]
  },
  {
   "cell_type": "code",
   "execution_count": 44,
   "id": "42c54eb0-1fb9-496d-84a3-83b425c57913",
   "metadata": {},
   "outputs": [
    {
     "name": "stdin",
     "output_type": "stream",
     "text": [
      "enter any number 2\n",
      "enter any number 4\n",
      "enter any number 5\n",
      "enter any number 6\n",
      "enter any number 3\n"
     ]
    },
    {
     "name": "stdout",
     "output_type": "stream",
     "text": [
      "even count 3\n",
      "even sum 12\n",
      "odd count 2\n",
      "odd sum 8\n"
     ]
    }
   ],
   "source": [
    "evenCount=0;\n",
    "oddCount=0;\n",
    "evenSum=0;\n",
    "oddSum=0;\n",
    "for i in range (5):\n",
    "    num=eval(input(\"enter any number\"));\n",
    "    if num%2==0:\n",
    "        evenCount=evenCount+1;\n",
    "        evenSum=evenSum+num\n",
    "    else:\n",
    "        oddCount=oddCount+1;\n",
    "        oddSum=oddSum+num;\n",
    "print(f\"even count {evenCount}\");\n",
    "print(f\"even sum {evenSum}\");\n",
    "print(f\"odd count {oddCount}\");\n",
    "print(f\"odd sum {oddSum}\");"
   ]
  },
  {
   "cell_type": "markdown",
   "id": "17b62b8c-cfe2-46e2-a186-d5af5a9eaf7e",
   "metadata": {},
   "source": [
    "**Game**\n",
    "- user will enter one number\n",
    "- generate random number\n",
    "- if both number are equal print(won)\n",
    "- else print(lost)"
   ]
  },
  {
   "cell_type": "code",
   "execution_count": 63,
   "id": "0e58985a-2a69-4452-a8ba-65f0429ad37f",
   "metadata": {},
   "outputs": [
    {
     "name": "stdin",
     "output_type": "stream",
     "text": [
      "enter number 3\n"
     ]
    },
    {
     "name": "stdout",
     "output_type": "stream",
     "text": [
      "you won\n"
     ]
    }
   ],
   "source": [
    "#### import random;\n",
    "\n",
    "#print(rand);\n",
    "for i in range(3):\n",
    "    rand=random.randint(1,10);\n",
    "    userNum= eval(input(\"enter number\"));    \n",
    "    if userNum==rand:\n",
    "        print(\"you won\");\n",
    "        break;\n",
    "    else:\n",
    "        print(\"you lost\");"
   ]
  },
  {
   "cell_type": "code",
   "execution_count": null,
   "id": "87f0b047-04c5-4816-a792-3928401cb1c9",
   "metadata": {},
   "outputs": [],
   "source": []
  }
 ],
 "metadata": {
  "kernelspec": {
   "display_name": "Python [conda env:base] *",
   "language": "python",
   "name": "conda-base-py"
  },
  "language_info": {
   "codemirror_mode": {
    "name": "ipython",
    "version": 3
   },
   "file_extension": ".py",
   "mimetype": "text/x-python",
   "name": "python",
   "nbconvert_exporter": "python",
   "pygments_lexer": "ipython3",
   "version": "3.12.7"
  }
 },
 "nbformat": 4,
 "nbformat_minor": 5
}
