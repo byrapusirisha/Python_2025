{
 "cells": [
  {
   "cell_type": "code",
   "execution_count": 1,
   "id": "491a793f-73ed-4764-afa1-58703243a5d3",
   "metadata": {},
   "outputs": [
    {
     "data": {
      "text/plain": [
       "('Apple', 'Apple', 20)"
      ]
     },
     "execution_count": 1,
     "metadata": {},
     "output_type": "execute_result"
    }
   ],
   "source": [
    "dict1={'Apple':20,'Banana':30,'Cherry':50};\n",
    "dict2={'Apple':20,'apple':30};\n",
    "dict3={20:'Apple',30:'Banana',50:'Cherry'};\n",
    "#apply min max sum sorted reversed\n",
    "min(dict1),min(dict2),min(dict3)"
   ]
  },
  {
   "cell_type": "code",
   "execution_count": 3,
   "id": "4ecafbb3-ccc6-4ffd-bc06-c19d4f30ed18",
   "metadata": {},
   "outputs": [
    {
     "data": {
      "text/plain": [
       "('Cherry', 'apple', 50)"
      ]
     },
     "execution_count": 3,
     "metadata": {},
     "output_type": "execute_result"
    }
   ],
   "source": [
    "max(dict1),max(dict2),max(dict3)"
   ]
  },
  {
   "cell_type": "code",
   "execution_count": 9,
   "id": "bf74082d-566a-4bd0-b039-d2856cd0d4c7",
   "metadata": {},
   "outputs": [
    {
     "data": {
      "text/plain": [
       "['Apple', 'Banana', 'Cherry']"
      ]
     },
     "execution_count": 9,
     "metadata": {},
     "output_type": "execute_result"
    }
   ],
   "source": [
    "sorted(dict1)"
   ]
  },
  {
   "cell_type": "code",
   "execution_count": 11,
   "id": "b0b8abd7-50cd-4eb2-9331-26033303d587",
   "metadata": {},
   "outputs": [
    {
     "data": {
      "text/plain": [
       "['Apple', 'apple']"
      ]
     },
     "execution_count": 11,
     "metadata": {},
     "output_type": "execute_result"
    }
   ],
   "source": [
    "sorted(dict2)"
   ]
  },
  {
   "cell_type": "code",
   "execution_count": 21,
   "id": "b26276b2-42cb-4b1c-b1d8-c467c1ef69d5",
   "metadata": {},
   "outputs": [
    {
     "data": {
      "text/plain": [
       "[50, 30, 20]"
      ]
     },
     "execution_count": 21,
     "metadata": {},
     "output_type": "execute_result"
    }
   ],
   "source": [
    "sorted(dict3,reverse=True)"
   ]
  },
  {
   "cell_type": "code",
   "execution_count": 29,
   "id": "084013e3-53d8-4564-900a-fba83a601c3a",
   "metadata": {},
   "outputs": [
    {
     "data": {
      "text/plain": [
       "<dict_reversekeyiterator at 0x21359fe00e0>"
      ]
     },
     "execution_count": 29,
     "metadata": {},
     "output_type": "execute_result"
    }
   ],
   "source": [
    "reversed(dict3)"
   ]
  },
  {
   "cell_type": "code",
   "execution_count": 39,
   "id": "850c1ef7-56ec-4499-9236-5370ba21019b",
   "metadata": {},
   "outputs": [
    {
     "data": {
      "text/plain": [
       "['apple', 'Apple']"
      ]
     },
     "execution_count": 39,
     "metadata": {},
     "output_type": "execute_result"
    }
   ],
   "source": [
    "list(reversed(dict2))"
   ]
  },
  {
   "cell_type": "code",
   "execution_count": 41,
   "id": "813c3408-9ea9-49d7-b0f7-f849e57f3eeb",
   "metadata": {},
   "outputs": [
    {
     "name": "stdout",
     "output_type": "stream",
     "text": [
      "Apple\n",
      "Banana\n",
      "Cherry\n"
     ]
    }
   ],
   "source": [
    "for i in dict1:\n",
    "    print(i)"
   ]
  },
  {
   "cell_type": "code",
   "execution_count": 43,
   "id": "ee07d0ee-6dc1-4795-9a93-06e300a3628f",
   "metadata": {},
   "outputs": [
    {
     "ename": "KeyError",
     "evalue": "0",
     "output_type": "error",
     "traceback": [
      "\u001b[1;31m---------------------------------------------------------------------------\u001b[0m",
      "\u001b[1;31mKeyError\u001b[0m                                  Traceback (most recent call last)",
      "Cell \u001b[1;32mIn[43], line 2\u001b[0m\n\u001b[0;32m      1\u001b[0m \u001b[38;5;28;01mfor\u001b[39;00m i \u001b[38;5;129;01min\u001b[39;00m \u001b[38;5;28mrange\u001b[39m(\u001b[38;5;28mlen\u001b[39m(dict1)):\n\u001b[1;32m----> 2\u001b[0m     dict1[\u001b[38;5;241m0\u001b[39m]\n",
      "\u001b[1;31mKeyError\u001b[0m: 0"
     ]
    }
   ],
   "source": [
    "for i in range(len(dict1)):\n",
    "    dict1[0];"
   ]
  },
  {
   "cell_type": "markdown",
   "id": "28c6fe02-ff2d-4d7a-8a5b-5c7a79759b74",
   "metadata": {},
   "source": [
    "**how to extract dict values**\n",
    "\n",
    "- in dictionary we have key values pair\n",
    "- Keys are very important\n",
    "- in order to get values we need to take keys help"
   ]
  },
  {
   "cell_type": "code",
   "execution_count": 48,
   "id": "a8b2436a-62d9-4e39-92b9-81d231153278",
   "metadata": {},
   "outputs": [
    {
     "name": "stdout",
     "output_type": "stream",
     "text": [
      "Apple 20\n",
      "Banana 30\n",
      "Cherry 50\n"
     ]
    }
   ],
   "source": [
    "for i in dict1:\n",
    "    print(i,dict1[i])"
   ]
  },
  {
   "cell_type": "code",
   "execution_count": 54,
   "id": "49d6a051-792d-442d-9331-0d7961abb671",
   "metadata": {},
   "outputs": [
    {
     "name": "stdout",
     "output_type": "stream",
     "text": [
      "Ramesh age is 20\n",
      "Suresh age is 30\n",
      "Satish age is 40\n"
     ]
    }
   ],
   "source": [
    "names={'Ramesh':20,'Suresh':30,'Satish':40}\n",
    "for i  in names:\n",
    "    print(f\"{i} age is {names[i]}\");"
   ]
  },
  {
   "cell_type": "code",
   "execution_count": 58,
   "id": "465e389f-c46b-4a79-bace-6a859f0c53a9",
   "metadata": {},
   "outputs": [
    {
     "name": "stdout",
     "output_type": "stream",
     "text": [
      "Cherry\n"
     ]
    }
   ],
   "source": [
    "d={'fruits':['Apple','Banana','Cherry']}\n",
    "print(d['fruits'][2])"
   ]
  },
  {
   "cell_type": "code",
   "execution_count": 60,
   "id": "31a5ee0a-346d-485f-ae94-ae30e8301b28",
   "metadata": {},
   "outputs": [
    {
     "data": {
      "text/plain": [
       "'green'"
      ]
     },
     "execution_count": 60,
     "metadata": {},
     "output_type": "execute_result"
    }
   ],
   "source": [
    "d={'fruits':{'Apple':['sweet','sour','green']}}\n",
    "d['fruits']['Apple'][2]"
   ]
  },
  {
   "cell_type": "code",
   "execution_count": 66,
   "id": "cb589cb8-f196-4cf2-a63a-07442c3ffa66",
   "metadata": {},
   "outputs": [
    {
     "data": {
      "text/plain": [
       "50"
      ]
     },
     "execution_count": 66,
     "metadata": {},
     "output_type": "execute_result"
    }
   ],
   "source": [
    "d={'Fruits':[{'Cost':[50]}]}\n",
    "len(d)\n",
    "d['Fruits'][0]['Cost'][0]"
   ]
  },
  {
   "cell_type": "code",
   "execution_count": 68,
   "id": "65070e87-f33a-4d64-98a1-f8c0e4d75ca4",
   "metadata": {},
   "outputs": [
    {
     "data": {
      "text/plain": [
       "{'Fruites': ['Apple'], 'Cost': [{'1kg': [20, 30, 40], '2kg': None}]}"
      ]
     },
     "execution_count": 68,
     "metadata": {},
     "output_type": "execute_result"
    }
   ],
   "source": [
    "d={'Fruites':['Apple'],'Cost':[{'1kg':[20,30,40],\n",
    "                               '2kg':None}]}\n",
    "d\n"
   ]
  },
  {
   "cell_type": "code",
   "execution_count": 70,
   "id": "cf6f5de4-81d9-4237-8a8c-6a5c8918265e",
   "metadata": {},
   "outputs": [
    {
     "data": {
      "text/plain": [
       "2"
      ]
     },
     "execution_count": 70,
     "metadata": {},
     "output_type": "execute_result"
    }
   ],
   "source": [
    "len(d)"
   ]
  },
  {
   "cell_type": "code",
   "execution_count": 82,
   "id": "19542d66-d683-4218-a8fe-b48031362a84",
   "metadata": {},
   "outputs": [
    {
     "data": {
      "text/plain": [
       "(40, None)"
      ]
     },
     "execution_count": 82,
     "metadata": {},
     "output_type": "execute_result"
    }
   ],
   "source": [
    "d['Cost'][0]['1kg'][2], d['Cost'][0]['2kg']"
   ]
  },
  {
   "cell_type": "code",
   "execution_count": 86,
   "id": "e86a47f0-4c07-4df1-b51a-b360be93dc34",
   "metadata": {},
   "outputs": [
    {
     "data": {
      "text/plain": [
       "{'Fruites': {'Orange': {'Nagpur': {'MH': {'King': {'Shivaji': {'Shambaji'}}}}}}}"
      ]
     },
     "execution_count": 86,
     "metadata": {},
     "output_type": "execute_result"
    }
   ],
   "source": [
    "d={'Fruites':{'Orange':{'Nagpur':{'MH':{'King':{'Shivaji':{'Shambaji'}}}}}}}\n",
    "d"
   ]
  },
  {
   "cell_type": "code",
   "execution_count": 100,
   "id": "90e3f990-43ee-4dc2-9471-9abcf464d922",
   "metadata": {},
   "outputs": [
    {
     "data": {
      "text/plain": [
       "{'Shambaji'}"
      ]
     },
     "execution_count": 100,
     "metadata": {},
     "output_type": "execute_result"
    }
   ],
   "source": [
    "d['Fruites']['Orange']['Nagpur']['MH']['King']['Shivaji']"
   ]
  },
  {
   "cell_type": "markdown",
   "id": "d4dd19b2-143f-4354-9fab-d3cdaab6cc4e",
   "metadata": {},
   "source": [
    "**How to create a empty dictionary**\n",
    "\n",
    "- Now onward focus on creating empty list,strings and dictionaries\n",
    "- we will take empty list and use append operation\n",
    "- we will take empty string and use concatenate operation\n",
    "- we will take empty dict and use key:value pair concept"
   ]
  },
  {
   "cell_type": "code",
   "execution_count": 105,
   "id": "fb675f0a-0bc9-4bf8-883f-32f3f3364947",
   "metadata": {},
   "outputs": [
    {
     "data": {
      "text/plain": [
       "{}"
      ]
     },
     "execution_count": 105,
     "metadata": {},
     "output_type": "execute_result"
    }
   ],
   "source": [
    "dict={}\n",
    "dict"
   ]
  },
  {
   "cell_type": "code",
   "execution_count": 122,
   "id": "bed91513-58d3-48b5-8bc4-7d437ecb7cf9",
   "metadata": {},
   "outputs": [
    {
     "data": {
      "text/plain": [
       "[20, 30]"
      ]
     },
     "execution_count": 122,
     "metadata": {},
     "output_type": "execute_result"
    }
   ],
   "source": [
    "#empty list\n",
    "l=[];\n",
    "l.append(20);\n",
    "l.append(30);\n",
    "l"
   ]
  },
  {
   "cell_type": "code",
   "execution_count": 124,
   "id": "ae3ba4d7-212f-4254-962f-65ed1a81e03a",
   "metadata": {},
   "outputs": [
    {
     "data": {
      "text/plain": [
       "'py'"
      ]
     },
     "execution_count": 124,
     "metadata": {},
     "output_type": "execute_result"
    }
   ],
   "source": [
    "#empty string\n",
    "s='';\n",
    "s=s+'p';\n",
    "s=s+'y';\n",
    "s"
   ]
  },
  {
   "cell_type": "code",
   "execution_count": 126,
   "id": "c78c242e-7708-445b-9748-3db0fcd15e0f",
   "metadata": {},
   "outputs": [
    {
     "data": {
      "text/plain": [
       "{}"
      ]
     },
     "execution_count": 126,
     "metadata": {},
     "output_type": "execute_result"
    }
   ],
   "source": [
    "#empty dict\n",
    "d={};\n",
    "d"
   ]
  },
  {
   "cell_type": "code",
   "execution_count": 120,
   "id": "fe1d45fd-a893-4779-bf1a-7bcd58e1b7eb",
   "metadata": {},
   "outputs": [
    {
     "data": {
      "text/plain": [
       "{'Ramesh': 20}"
      ]
     },
     "execution_count": 120,
     "metadata": {},
     "output_type": "execute_result"
    }
   ],
   "source": [
    "d['Ramesh']=20;\n",
    "d"
   ]
  },
  {
   "cell_type": "code",
   "execution_count": 128,
   "id": "45a85f53-cebb-4d10-8a8c-9b6d87f7adae",
   "metadata": {},
   "outputs": [
    {
     "data": {
      "text/plain": [
       "{'Suresh': 25}"
      ]
     },
     "execution_count": 128,
     "metadata": {},
     "output_type": "execute_result"
    }
   ],
   "source": [
    "d['Suresh']=25;\n",
    "d"
   ]
  },
  {
   "cell_type": "code",
   "execution_count": 130,
   "id": "de64b00f-a577-4f94-b510-dbdee9f43925",
   "metadata": {},
   "outputs": [
    {
     "data": {
      "text/plain": [
       "{'Suresh': 25}"
      ]
     },
     "execution_count": 130,
     "metadata": {},
     "output_type": "execute_result"
    }
   ],
   "source": [
    "d"
   ]
  },
  {
   "cell_type": "code",
   "execution_count": 132,
   "id": "393e2aad-521f-42c4-ad9d-0d54ca012387",
   "metadata": {},
   "outputs": [],
   "source": [
    "d['Ramesh']=20;\n",
    "d['Suresh']=30;"
   ]
  },
  {
   "cell_type": "code",
   "execution_count": 134,
   "id": "424a4bcc-bc0c-41c6-8529-225b1c67735d",
   "metadata": {},
   "outputs": [
    {
     "data": {
      "text/plain": [
       "{'Suresh': 30, 'Ramesh': 20}"
      ]
     },
     "execution_count": 134,
     "metadata": {},
     "output_type": "execute_result"
    }
   ],
   "source": [
    "d"
   ]
  },
  {
   "cell_type": "code",
   "execution_count": 142,
   "id": "7aeb05fc-da3f-4575-98ea-cc93db1c3582",
   "metadata": {},
   "outputs": [
    {
     "data": {
      "text/plain": [
       "{'Suresh': 40, 'Ramesh': 40, 'Satish': 40}"
      ]
     },
     "execution_count": 142,
     "metadata": {},
     "output_type": "execute_result"
    }
   ],
   "source": [
    "names=['Suresh','Ramesh','Satish'];\n",
    "age=[20,30,40];\n",
    "d={};\n",
    "\n",
    "for i in names:\n",
    "    for j in age:\n",
    "        d[i]=j\n",
    "d\n",
    "    "
   ]
  },
  {
   "cell_type": "code",
   "execution_count": 146,
   "id": "66d0963a-cef1-42ba-bb7a-93bc3d4246eb",
   "metadata": {},
   "outputs": [
    {
     "data": {
      "text/plain": [
       "{'Suresh': 20, 'Ramesh': 30, 'Satish': 40}"
      ]
     },
     "execution_count": 146,
     "metadata": {},
     "output_type": "execute_result"
    }
   ],
   "source": [
    "for i,j in zip(names,age):\n",
    "    d[i]=j\n",
    "d"
   ]
  },
  {
   "cell_type": "markdown",
   "id": "64200c05-a896-4a8a-9994-26d33520d987",
   "metadata": {},
   "source": [
    "**Dictionary Comprehension**\n",
    "- for list comprehension we written everything  inside list\n",
    "- for dict comprehension we write everything inside dictionary"
   ]
  },
  {
   "cell_type": "code",
   "execution_count": 152,
   "id": "0f3b68e5-df17-4011-a044-4415b8bf8af7",
   "metadata": {},
   "outputs": [
    {
     "data": {
      "text/plain": [
       "{'Suresh': 20, 'Ramesh': 30, 'Satish': 40}"
      ]
     },
     "execution_count": 152,
     "metadata": {},
     "output_type": "execute_result"
    }
   ],
   "source": [
    "for i,j in zip(names,age):\n",
    "    i:j\n",
    "d"
   ]
  },
  {
   "cell_type": "markdown",
   "id": "0fb49935-99da-40b7-9fc0-293f7854132e",
   "metadata": {},
   "source": [
    "**Mutable Immutable**\n",
    "- lists are mutable\n",
    "- dictionaries are also mutable\n",
    "- strings are immutable\n",
    "- Tuple also immutable\n",
    "- in dictionaries we can change values using keys, so it is mutable"
   ]
  },
  {
   "cell_type": "code",
   "execution_count": 157,
   "id": "e615358b-b524-4b99-bb2c-326f6a6cdb25",
   "metadata": {},
   "outputs": [
    {
     "data": {
      "text/plain": [
       "{'Suresh': 20, 'Ramesh': 100, 'Satish': 40}"
      ]
     },
     "execution_count": 157,
     "metadata": {},
     "output_type": "execute_result"
    }
   ],
   "source": [
    "d['Ramesh']=100;\n",
    "d"
   ]
  },
  {
   "cell_type": "code",
   "execution_count": null,
   "id": "9292b8ec-9902-45f4-9f06-40935c999bc9",
   "metadata": {},
   "outputs": [],
   "source": []
  }
 ],
 "metadata": {
  "kernelspec": {
   "display_name": "Python [conda env:base] *",
   "language": "python",
   "name": "conda-base-py"
  },
  "language_info": {
   "codemirror_mode": {
    "name": "ipython",
    "version": 3
   },
   "file_extension": ".py",
   "mimetype": "text/x-python",
   "name": "python",
   "nbconvert_exporter": "python",
   "pygments_lexer": "ipython3",
   "version": "3.12.7"
  }
 },
 "nbformat": 4,
 "nbformat_minor": 5
}
