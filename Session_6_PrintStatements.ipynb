{
 "cells": [
  {
   "cell_type": "markdown",
   "id": "90b728be-1263-403d-a74b-cddbc9d28e05",
   "metadata": {},
   "source": [
    "**Print**"
   ]
  },
  {
   "cell_type": "code",
   "execution_count": 1,
   "id": "0e659c0a-98e5-4502-bb45-c48d219dae90",
   "metadata": {},
   "outputs": [
    {
     "name": "stdout",
     "output_type": "stream",
     "text": [
      "10\n",
      "20\n"
     ]
    }
   ],
   "source": [
    "a=10;\n",
    "b=20;\n",
    "print(a);\n",
    "print(b)\n"
   ]
  },
  {
   "cell_type": "code",
   "execution_count": 4,
   "id": "8c7e48c0-a4c8-4bd0-bf87-7192fdff7a5d",
   "metadata": {},
   "outputs": [
    {
     "name": "stdout",
     "output_type": "stream",
     "text": [
      "10 20\n"
     ]
    }
   ],
   "source": [
    "print(a,b)"
   ]
  },
  {
   "cell_type": "code",
   "execution_count": 6,
   "id": "489f6db3-1da7-424f-a159-b12425c600d2",
   "metadata": {},
   "outputs": [
    {
     "name": "stdout",
     "output_type": "stream",
     "text": [
      "10\n",
      "20\n"
     ]
    },
    {
     "data": {
      "text/plain": [
       "(None, None)"
      ]
     },
     "execution_count": 6,
     "metadata": {},
     "output_type": "execute_result"
    }
   ],
   "source": [
    "print(a),print(b)"
   ]
  },
  {
   "cell_type": "code",
   "execution_count": 10,
   "id": "a4030c3c-07f1-4fca-9125-d44690743df6",
   "metadata": {},
   "outputs": [
    {
     "name": "stdout",
     "output_type": "stream",
     "text": [
      "30 NIT HYD\n"
     ]
    }
   ],
   "source": [
    "print(30,'NIT','HYD')"
   ]
  },
  {
   "cell_type": "code",
   "execution_count": 32,
   "id": "aa1b1eac-78a0-445c-8cdc-e2066a1a50f3",
   "metadata": {},
   "outputs": [
    {
     "name": "stdout",
     "output_type": "stream",
     "text": [
      "additon of100 & 200 is300\n",
      "additon of 100 & 200 is 300\n"
     ]
    }
   ],
   "source": [
    "num1=100;\n",
    "num2=200;\n",
    "add= num1+num2;\n",
    "print('additon of'+ str(num1) + ' & '+  str(num2)+  ' is' + str(add)) ##not effective format \n",
    "print(\"additon of\",num1,\"&\", num2, \"is\", add)  # correct format"
   ]
  },
  {
   "cell_type": "code",
   "execution_count": 36,
   "id": "af20092b-4197-4e41-b048-f8793a1c6510",
   "metadata": {},
   "outputs": [
    {
     "name": "stdout",
     "output_type": "stream",
     "text": [
      "my name is python im 10 years old and came from 100\n"
     ]
    }
   ],
   "source": [
    "name=\"python\"\n",
    "age =10;\n",
    "city=100;\n",
    "print(\"my name is\",name,\"im\",age,\"years old and came from\",city)"
   ]
  },
  {
   "cell_type": "markdown",
   "id": "23b9df4a-fd82-4805-bfcf-b2249b001e45",
   "metadata": {},
   "source": [
    "**format**"
   ]
  },
  {
   "cell_type": "code",
   "execution_count": 43,
   "id": "ab7e6647-6234-4cb9-ad4f-08e8d3e97f1e",
   "metadata": {},
   "outputs": [
    {
     "name": "stdout",
     "output_type": "stream",
     "text": [
      "my name is python im 10 years old and came from 100\n"
     ]
    }
   ],
   "source": [
    "name=\"python\"\n",
    "age =10;\n",
    "city=100;\n",
    "print(\"my name is {} im {} years old and came from {}\".format(name,age,city)) #more effective format of printing variables\n"
   ]
  },
  {
   "cell_type": "code",
   "execution_count": 92,
   "id": "494ee112-23d1-4d53-9736-ea5dbd82fa64",
   "metadata": {},
   "outputs": [
    {
     "name": "stdout",
     "output_type": "stream",
     "text": [
      "additon of100 & 200 is300\n",
      "additon of 100 & 200 is 300\n",
      "addition of 100 & 200 is 300\n",
      "aditon of 100 & 200 is 300\n"
     ]
    }
   ],
   "source": [
    "num1=100;\n",
    "num2=200;\n",
    "add= num1+num2;\n",
    "print('additon of'+ str(num1) + ' & '+  str(num2)+  ' is' + str(add)) ##not effective format \n",
    "print(\"additon of\",num1,\"&\", num2, \"is\", add)  # correct format\n",
    "print(\"addition of {} & {} is {}\".format(num1,num2,add)) #  effective way is using format method\n",
    "print(f\"aditon of {num1} & {num2} is {add}\"); # most effective way to print"
   ]
  },
  {
   "cell_type": "code",
   "execution_count": 84,
   "id": "1911fd16-1379-4c34-a9b0-a0f5150792b1",
   "metadata": {},
   "outputs": [
    {
     "name": "stdout",
     "output_type": "stream",
     "text": [
      "=========================Addition===========================\n",
      "the substraction of 200 & 100 is 100\n",
      "the substraction of 200 & 100 is 100\n",
      "====================================================\n",
      "=========================mul===========================\n",
      "the multiplication  of 100 & 200 is 20000\n",
      "the multiplication of 100 & 200 is 20000\n",
      "====================================================\n",
      "=========================div===========================\n",
      "the division of 200 & 100 is 2.0\n",
      "the division of 200 & 100 is 2.0\n",
      "====================================================\n"
     ]
    }
   ],
   "source": [
    "#Wap take 2 numbers\n",
    "# perform sub, divisoion,multiplication\n",
    "\n",
    "number1=100;\n",
    "number2=200;\n",
    "sub=number2-number1;\n",
    "mul=number1*number2;\n",
    "div=number2/number1;\n",
    "print(\"=========================Addition===========================\");\n",
    "print(\"the substraction of {} & {} is {}\".format(number2,number1,sub));\n",
    "print(f\"the substraction of {number2} & {number1} is {sub}\")\n",
    "print(\"====================================================\");\n",
    "print(\"=========================mul===========================\");\n",
    "print(\"the multiplication  of {} & {} is {}\".format(number1,number2,mul));\n",
    "print(f\"the multiplication of {number1} & {number2} is {mul}\")\n",
    "print(\"====================================================\");\n",
    "print(\"=========================div===========================\");\n",
    "print(\"the division of {} & {} is {}\".format(number2,number1,div));\n",
    "print(f\"the division of {number2} & {number1} is {div}\")\n",
    "print(\"====================================================\");"
   ]
  },
  {
   "cell_type": "code",
   "execution_count": 86,
   "id": "6e977f5c-d75a-465a-b4b2-42a408a6a95b",
   "metadata": {},
   "outputs": [
    {
     "name": "stdout",
     "output_type": "stream",
     "text": [
      "avg of 200 300 400 is : 300.0\n",
      "avg of 200 300 400 is : 300.0\n"
     ]
    }
   ],
   "source": [
    "#wap to to perform avg of 3 numbers\n",
    "\n",
    "num1=200;\n",
    "num2=300;\n",
    "num3=400;\n",
    "avg=(num1+num2+num3)/3;\n",
    "print(\"avg of {} {} {} is : {}\".format(num1,num2,num3,avg));\n",
    "print(f\"avg of {num1} {num2} {num3} is : {avg}\")\n"
   ]
  },
  {
   "cell_type": "markdown",
   "id": "4f4f841c-bd25-46ac-b7d6-52df9d34fe2b",
   "metadata": {},
   "source": [
    "**f String**"
   ]
  },
  {
   "cell_type": "code",
   "execution_count": 78,
   "id": "f3dcb159-4a25-4ebd-a754-4a4a09ef5445",
   "metadata": {},
   "outputs": [
    {
     "name": "stdout",
     "output_type": "stream",
     "text": [
      "avg of 200 300 400 is : 300.0\n"
     ]
    }
   ],
   "source": [
    "#wap to to perform avg of 3 numbers\n",
    "\n",
    "num1=200;\n",
    "num2=300;\n",
    "num3=400;\n",
    "avg=(num1+num2+num3)/3;\n",
    "print(f\"avg of {num1} {num2} {num3} is : {avg}\"); ## can be used instead of format method"
   ]
  },
  {
   "cell_type": "markdown",
   "id": "d409647d-440d-45a6-8633-a51fd733f11b",
   "metadata": {},
   "source": [
    "**round**"
   ]
  },
  {
   "cell_type": "code",
   "execution_count": 99,
   "id": "f36f2522-62ad-419b-a357-f61fba7d663b",
   "metadata": {},
   "outputs": [
    {
     "name": "stdout",
     "output_type": "stream",
     "text": [
      "avg of 12 300 400 is : 237\n"
     ]
    }
   ],
   "source": [
    "#wap to to perform avg of 3 numbers\n",
    "\n",
    "num1=12;\n",
    "num2=300;\n",
    "num3=400;\n",
    "avg=(num1+num2+num3)/3;\n",
    "avg=round(avg)\n",
    "print(f\"avg of {num1} {num2} {num3} is : {avg}\"); ## can be used instead of format method"
   ]
  },
  {
   "cell_type": "code",
   "execution_count": 109,
   "id": "a8d3818f-3c49-472c-8d04-8662bbdae46b",
   "metadata": {},
   "outputs": [
    {
     "data": {
      "text/plain": [
       "10.63"
      ]
     },
     "execution_count": 109,
     "metadata": {},
     "output_type": "execute_result"
    }
   ],
   "source": [
    "round(10.63423333,2)"
   ]
  },
  {
   "cell_type": "markdown",
   "id": "9523ea77-6cd9-4dd1-af1e-682c7a82f5d7",
   "metadata": {},
   "source": [
    "**I have multiple print statements but I want to show in single line**"
   ]
  },
  {
   "cell_type": "markdown",
   "id": "0841c7fb-1148-43d7-9d9e-851430b3f473",
   "metadata": {},
   "source": [
    "- end\n"
   ]
  },
  {
   "cell_type": "code",
   "execution_count": 115,
   "id": "766985fb-a6d6-473e-8d5f-b825927a7514",
   "metadata": {},
   "outputs": [
    {
     "name": "stdout",
     "output_type": "stream",
     "text": [
      "10 20 30\n"
     ]
    }
   ],
   "source": [
    "a=10;\n",
    "b=20;\n",
    "print(a, end=\" \");\n",
    "print(b, end=\" \");\n",
    "print(30)"
   ]
  },
  {
   "cell_type": "code",
   "execution_count": 119,
   "id": "819f78ea-72a1-46dd-98fe-b81318dfb1e9",
   "metadata": {},
   "outputs": [
    {
     "name": "stdout",
     "output_type": "stream",
     "text": [
      "hello how are you?\n"
     ]
    }
   ],
   "source": [
    "print(\"hello\", end=\" \")\n",
    "print(\"how\",end=\" \")\n",
    "print(\"are\",end= \" \");\n",
    "print(\"you?\")"
   ]
  },
  {
   "cell_type": "markdown",
   "id": "496af848-bac4-472e-bbcc-bfb5a48d9698",
   "metadata": {},
   "source": [
    "**I have multiple values in a single print statement,I want to display them in with some sepration**"
   ]
  },
  {
   "cell_type": "code",
   "execution_count": 122,
   "id": "0ed3e14e-cf0c-49d3-b0b9-7724ff3fabad",
   "metadata": {},
   "outputs": [
    {
     "name": "stdout",
     "output_type": "stream",
     "text": [
      "10 20 30\n"
     ]
    }
   ],
   "source": [
    "print(10,20,30)"
   ]
  },
  {
   "cell_type": "markdown",
   "id": "c6368f32-d26d-4b19-b27e-2fa52289ce8b",
   "metadata": {},
   "source": [
    "**Sep** operator to use seprator"
   ]
  },
  {
   "cell_type": "code",
   "execution_count": 125,
   "id": "398baf60-1804-45bd-b332-43d6746a6a93",
   "metadata": {},
   "outputs": [
    {
     "name": "stdout",
     "output_type": "stream",
     "text": [
      "10====>20====>30\n"
     ]
    }
   ],
   "source": [
    "print(10,20,30,sep=\"====>\")"
   ]
  },
  {
   "cell_type": "code",
   "execution_count": null,
   "id": "15ea6471-2397-4d2a-8034-df914d7e9e33",
   "metadata": {},
   "outputs": [],
   "source": [
    "#WAP take radius of circle and calculate area of the circle\n",
    "# radius = 3.14* r^2\n",
    "#print answers in fstring and format\n",
    "\n",
    "# WAP take height, breadth of a right angle triangle and clauclate aread\n",
    "#formula  is 1/2*b*h\n",
    "\n",
    "#wap take the bill amount and tip amount\n",
    "#calculate total bill is amount+tip\n",
    "\n",
    "\n",
    "#wap take length & breadth of a rectange , calculate area\n",
    "#formaula = L*B\n",
    "\n"
   ]
  },
  {
   "cell_type": "markdown",
   "id": "b55432e5-6cb8-41d6-b4de-593f11f546b5",
   "metadata": {},
   "source": [
    "**WAP to calculate area of circle**"
   ]
  },
  {
   "cell_type": "code",
   "execution_count": 174,
   "id": "43181aa4-f989-4209-a054-dbfad7a10c26",
   "metadata": {},
   "outputs": [
    {
     "name": "stdout",
     "output_type": "stream",
     "text": [
      "area of circle with radius 4 is : 18.84\n",
      "area of circle with radius 4 is : 18.84\n"
     ]
    }
   ],
   "source": [
    "radius=4;\n",
    "area=(3.14)*(4^2);\n",
    "# print using format method\n",
    "print(\"area of circle with radius {} is : {}\".format(radius,area));\n",
    "# print using f string\n",
    "print(f\"area of circle with radius {radius} is : {area}\");\n"
   ]
  },
  {
   "cell_type": "markdown",
   "id": "803deb8e-173c-48b5-a8cb-9dc3ab40ff32",
   "metadata": {},
   "source": [
    "**WAP to calculate area of right angled triange**\n"
   ]
  },
  {
   "cell_type": "code",
   "execution_count": 176,
   "id": "b2ba147b-8463-4eb5-80b1-4db6ac19be44",
   "metadata": {},
   "outputs": [
    {
     "name": "stdout",
     "output_type": "stream",
     "text": [
      "Area of triange with height 24 and base 6 is 72.0\n",
      "Aread of triange with height 24 and base 6 is 72.0\n"
     ]
    }
   ],
   "source": [
    "height=24;\n",
    "base= 6;\n",
    "area=(1/2)*(base)*(height);\n",
    "# print using format method\n",
    "print(f\"Area of triange with height {height} and base {base} is {area}\");\n",
    "# print using f string\n",
    "print(\"Aread of triange with height {} and base {} is {}\".format(height,base,area))"
   ]
  },
  {
   "cell_type": "markdown",
   "id": "320bc875-47f5-4d1f-b125-edc2b8c4384c",
   "metadata": {},
   "source": [
    "**WAP to calculate sum of bill amount**"
   ]
  },
  {
   "cell_type": "code",
   "execution_count": 178,
   "id": "7b091964-939f-416f-9549-8ecde57a0174",
   "metadata": {},
   "outputs": [
    {
     "name": "stdout",
     "output_type": "stream",
     "text": [
      "Total Bill amount for bill 1000 and tip 50 is 1050\n",
      "Total Bill Amount for bill 1000 and tip 50 is 1050\n"
     ]
    }
   ],
   "source": [
    "billAmt=1000;\n",
    "tipAmt=50;\n",
    "totalBill=billAmt+tipAmt;\n",
    "# print using format method\n",
    "print(\"Total Bill amount for bill {} and tip {} is {}\".format(billAmt,tipAmt,totalBill));\n",
    "# print using f string\n",
    "print(f\"Total Bill Amount for bill {billAmt} and tip {tipAmt} is {totalBill}\");"
   ]
  },
  {
   "cell_type": "markdown",
   "id": "87328059-8806-43e6-9e06-52c540ff1f6f",
   "metadata": {},
   "source": [
    "**wap calculate area of rectange**\n"
   ]
  },
  {
   "cell_type": "code",
   "execution_count": 180,
   "id": "df72227b-336c-42dd-829d-74f19a5c1249",
   "metadata": {},
   "outputs": [
    {
     "name": "stdout",
     "output_type": "stream",
     "text": [
      "area of rectnagle with length 20 and breadth 30 is 600\n",
      "aread of rectange with length 20 and breadth 30 is 600\n"
     ]
    }
   ],
   "source": [
    "rec_len=20;\n",
    "rec_breadth= 30;\n",
    "areaRec= rec_len*rec_breadth;\n",
    "#print using format\n",
    "print(\"area of rectnagle with length {} and breadth {} is {}\".format(rec_len,rec_breadth,areaRec));\n",
    "#print using f string\n",
    "print(f\"aread of rectange with length {rec_len} and breadth {rec_breadth} is {areaRec}\");\n"
   ]
  },
  {
   "cell_type": "markdown",
   "id": "166ff28f-b4e6-4b42-97c7-8a29dc649068",
   "metadata": {},
   "source": [
    "**input**"
   ]
  },
  {
   "cell_type": "markdown",
   "id": "a92c3b0a-1f30-4556-836f-167b0cec9a3b",
   "metadata": {},
   "source": [
    "- in above we provided the value\n",
    "\n",
    "- Input is the inbuilt function\n",
    "\n",
    "- using input user can provide value"
   ]
  },
  {
   "cell_type": "code",
   "execution_count": 10,
   "id": "84bf0926-10b4-4966-99ab-31c9189473ec",
   "metadata": {},
   "outputs": [
    {
     "data": {
      "text/plain": [
       "<bound method Kernel.raw_input of <ipykernel.ipkernel.IPythonKernel object at 0x00000193A5AAF800>>"
      ]
     },
     "execution_count": 10,
     "metadata": {},
     "output_type": "execute_result"
    }
   ],
   "source": [
    "input"
   ]
  },
  {
   "cell_type": "markdown",
   "id": "94f0c9f2-9cca-4e8f-930b-5cc317a57ec7",
   "metadata": {},
   "source": [
    "**Note:whenever we see bound method or function which indicates brackets are missing in function**"
   ]
  },
  {
   "cell_type": "code",
   "execution_count": 15,
   "id": "afca1a7f-d1c1-45ee-ae46-b0d9315c0214",
   "metadata": {},
   "outputs": [
    {
     "name": "stdin",
     "output_type": "stream",
     "text": [
      " uy\\\n"
     ]
    },
    {
     "data": {
      "text/plain": [
       "'uy\\\\'"
      ]
     },
     "execution_count": 15,
     "metadata": {},
     "output_type": "execute_result"
    }
   ],
   "source": [
    "input()"
   ]
  },
  {
   "cell_type": "code",
   "execution_count": 27,
   "id": "416714de-0248-4644-8d23-2c480f61e564",
   "metadata": {},
   "outputs": [
    {
     "name": "stdin",
     "output_type": "stream",
     "text": [
      " 344.6\n"
     ]
    }
   ],
   "source": [
    "num=eval(input())\n"
   ]
  },
  {
   "cell_type": "code",
   "execution_count": 29,
   "id": "f3fbb04a-3cb1-4653-87dc-f109f974bbb5",
   "metadata": {},
   "outputs": [
    {
     "name": "stdin",
     "output_type": "stream",
     "text": [
      "enter your name sirisha\n"
     ]
    }
   ],
   "source": [
    "name=input(\"enter your name\");"
   ]
  },
  {
   "cell_type": "code",
   "execution_count": 31,
   "id": "1e8af3b7-5059-461a-b454-5e456b53f623",
   "metadata": {},
   "outputs": [
    {
     "data": {
      "text/plain": [
       "str"
      ]
     },
     "execution_count": 31,
     "metadata": {},
     "output_type": "execute_result"
    }
   ],
   "source": [
    "type(name)\n"
   ]
  },
  {
   "cell_type": "code",
   "execution_count": 33,
   "id": "f29e760a-0a9f-4c48-ba1b-047aeb0c63c9",
   "metadata": {},
   "outputs": [
    {
     "data": {
      "text/plain": [
       "type"
      ]
     },
     "execution_count": 33,
     "metadata": {},
     "output_type": "execute_result"
    }
   ],
   "source": [
    "type"
   ]
  },
  {
   "cell_type": "code",
   "execution_count": 35,
   "id": "7c991c52-4596-4c09-ae13-a90ebb5298fc",
   "metadata": {},
   "outputs": [
    {
     "data": {
      "text/plain": [
       "<function eval(source, globals=None, locals=None, /)>"
      ]
     },
     "execution_count": 35,
     "metadata": {},
     "output_type": "execute_result"
    }
   ],
   "source": [
    "eval"
   ]
  },
  {
   "cell_type": "code",
   "execution_count": 37,
   "id": "2d0218f1-aaee-483e-ad49-a4ee448f8967",
   "metadata": {},
   "outputs": [
    {
     "data": {
      "text/plain": [
       "<bound method Kernel.raw_input of <ipykernel.ipkernel.IPythonKernel object at 0x00000193A5AAF800>>"
      ]
     },
     "execution_count": 37,
     "metadata": {},
     "output_type": "execute_result"
    }
   ],
   "source": [
    "input"
   ]
  },
  {
   "cell_type": "code",
   "execution_count": 39,
   "id": "23b1dcb0-b86f-45eb-8c88-c492b5300936",
   "metadata": {},
   "outputs": [
    {
     "ename": "TypeError",
     "evalue": "bad operand type for unary -: '_Helper'",
     "output_type": "error",
     "traceback": [
      "\u001b[1;31m---------------------------------------------------------------------------\u001b[0m",
      "\u001b[1;31mTypeError\u001b[0m                                 Traceback (most recent call last)",
      "Cell \u001b[1;32mIn[39], line 1\u001b[0m\n\u001b[1;32m----> 1\u001b[0m \u001b[38;5;241m-\u001b[39m help\n",
      "\u001b[1;31mTypeError\u001b[0m: bad operand type for unary -: '_Helper'"
     ]
    }
   ],
   "source": [
    "- help"
   ]
  },
  {
   "cell_type": "code",
   "execution_count": 41,
   "id": "3238f68b-8843-4756-a56d-74c2ceffae47",
   "metadata": {},
   "outputs": [
    {
     "data": {
      "text/plain": [
       "Type help() for interactive help, or help(object) for help about object."
      ]
     },
     "execution_count": 41,
     "metadata": {},
     "output_type": "execute_result"
    }
   ],
   "source": [
    "help\n"
   ]
  },
  {
   "cell_type": "code",
   "execution_count": 43,
   "id": "7133ad25-4c41-40b4-b534-cff942ec675f",
   "metadata": {},
   "outputs": [
    {
     "name": "stdin",
     "output_type": "stream",
     "text": [
      " d\n"
     ]
    },
    {
     "name": "stdout",
     "output_type": "stream",
     "text": [
      "No Python documentation found for 'd'.\n",
      "Use help() to get the interactive help utility.\n",
      "Use help(str) for help on the str class.\n",
      "\n"
     ]
    }
   ],
   "source": [
    "help(input())"
   ]
  },
  {
   "cell_type": "code",
   "execution_count": 45,
   "id": "d7590d2d-af00-427b-bd31-298bdc486494",
   "metadata": {},
   "outputs": [
    {
     "name": "stdout",
     "output_type": "stream",
     "text": [
      "Help on method raw_input in module ipykernel.kernelbase:\n",
      "\n",
      "raw_input(prompt='') method of ipykernel.ipkernel.IPythonKernel instance\n",
      "    Forward raw_input to frontends\n",
      "\n",
      "    Raises\n",
      "    ------\n",
      "    StdinNotImplementedError if active frontend doesn't support stdin.\n",
      "\n"
     ]
    }
   ],
   "source": [
    "help(input)"
   ]
  },
  {
   "cell_type": "code",
   "execution_count": 51,
   "id": "ca9ba06d-a5cc-4bb3-beb9-6de09ef6f84d",
   "metadata": {},
   "outputs": [
    {
     "name": "stdin",
     "output_type": "stream",
     "text": [
      " 23\n",
      " 343\n"
     ]
    }
   ],
   "source": [
    "n1= eval(input());\n",
    "n2= eval(input());\n",
    "add= n1+n2"
   ]
  },
  {
   "cell_type": "markdown",
   "id": "c8083166-d783-459b-b4ec-01371d581096",
   "metadata": {},
   "source": [
    "**by default input values in string type**"
   ]
  },
  {
   "cell_type": "code",
   "execution_count": 56,
   "id": "9febd129-9a8d-4782-894e-04e62d30bb23",
   "metadata": {},
   "outputs": [
    {
     "name": "stdin",
     "output_type": "stream",
     "text": [
      "enter number 1: 200\n",
      "enter number 2: 400\n"
     ]
    },
    {
     "name": "stdout",
     "output_type": "stream",
     "text": [
      "200400\n"
     ]
    }
   ],
   "source": [
    "n1= input(\"enter number 1:\");\n",
    "n2= input(\"enter number 2:\");\n",
    "n3= n1+n2\n",
    "print(n3)\n"
   ]
  },
  {
   "cell_type": "code",
   "execution_count": 64,
   "id": "12dc8858-836b-4231-be56-7fd63191fb7a",
   "metadata": {},
   "outputs": [
    {
     "name": "stdin",
     "output_type": "stream",
     "text": [
      "enter furit1: apple\n",
      "enter is: is \n",
      "enter fruit: fruit\n"
     ]
    },
    {
     "name": "stdout",
     "output_type": "stream",
     "text": [
      "appleis fruit\n"
     ]
    }
   ],
   "source": [
    "str1 =input(\"enter furit1:\");\n",
    "str2=input(\"enter is:\");\n",
    "str3=input(\"enter fruit:\");\n",
    "str4= str1+str2+str3\n",
    "print(str4)"
   ]
  },
  {
   "cell_type": "code",
   "execution_count": 5,
   "id": "8fb97cec-9076-4075-b620-fca4da3078ad",
   "metadata": {},
   "outputs": [
    {
     "name": "stdin",
     "output_type": "stream",
     "text": [
      "enter num1: 10.5\n"
     ]
    },
    {
     "ename": "ValueError",
     "evalue": "invalid literal for int() with base 10: '10.5'",
     "output_type": "error",
     "traceback": [
      "\u001b[1;31m---------------------------------------------------------------------------\u001b[0m",
      "\u001b[1;31mValueError\u001b[0m                                Traceback (most recent call last)",
      "Cell \u001b[1;32mIn[5], line 1\u001b[0m\n\u001b[1;32m----> 1\u001b[0m n1\u001b[38;5;241m=\u001b[39m \u001b[38;5;28mint\u001b[39m(\u001b[38;5;28minput\u001b[39m(\u001b[38;5;124m\"\u001b[39m\u001b[38;5;124menter num1:\u001b[39m\u001b[38;5;124m\"\u001b[39m));\n\u001b[0;32m      2\u001b[0m n2\u001b[38;5;241m=\u001b[39m \u001b[38;5;28mint\u001b[39m(\u001b[38;5;28minput\u001b[39m(\u001b[38;5;124m\"\u001b[39m\u001b[38;5;124menter num3:\u001b[39m\u001b[38;5;124m\"\u001b[39m));\n\u001b[0;32m      3\u001b[0m \u001b[38;5;28mprint\u001b[39m(n1\u001b[38;5;241m+\u001b[39mn2)\n",
      "\u001b[1;31mValueError\u001b[0m: invalid literal for int() with base 10: '10.5'"
     ]
    }
   ],
   "source": [
    "n1= int(input(\"enter num1:\"));\n",
    "n2= int(input(\"enter num3:\"));\n",
    "print(n1+n2);\n"
   ]
  },
  {
   "cell_type": "markdown",
   "id": "986bf14e-c938-48c0-b971-2e41b745b458",
   "metadata": {},
   "source": [
    "**eval**\n",
    "- eval means evaluate\n",
    "\n",
    "- it is related to math family\n",
    "\n",
    "- which means it works only numbers\n",
    "\n",
    "- it will not work on string\n",
    "\n",
    "- eval will convert the respective datatype\n",
    "\n",
    "- if user enters 10 in quote it will convert to 10\n",
    "\n",
    "- if user enters 10.5, it will convert to 10.5 "
   ]
  },
  {
   "cell_type": "code",
   "execution_count": 15,
   "id": "bca70e6d-78c5-430f-9a9f-0efdd381fff3",
   "metadata": {},
   "outputs": [
    {
     "ename": "ValueError",
     "evalue": "invalid literal for int() with base 10: '10.5'",
     "output_type": "error",
     "traceback": [
      "\u001b[1;31m---------------------------------------------------------------------------\u001b[0m",
      "\u001b[1;31mValueError\u001b[0m                                Traceback (most recent call last)",
      "Cell \u001b[1;32mIn[15], line 2\u001b[0m\n\u001b[0;32m      1\u001b[0m \u001b[38;5;28mint\u001b[39m(\u001b[38;5;124m'\u001b[39m\u001b[38;5;124m10\u001b[39m\u001b[38;5;124m'\u001b[39m)\n\u001b[1;32m----> 2\u001b[0m \u001b[38;5;28mint\u001b[39m(\u001b[38;5;124m'\u001b[39m\u001b[38;5;124m10.5\u001b[39m\u001b[38;5;124m'\u001b[39m)\n",
      "\u001b[1;31mValueError\u001b[0m: invalid literal for int() with base 10: '10.5'"
     ]
    }
   ],
   "source": [
    "int('10')\n",
    "int('10.5')"
   ]
  },
  {
   "cell_type": "code",
   "execution_count": 17,
   "id": "059997aa-8f9e-4cd5-8a71-0a522799b2f1",
   "metadata": {},
   "outputs": [
    {
     "name": "stdout",
     "output_type": "stream",
     "text": [
      "1.0\n",
      "1.5\n"
     ]
    }
   ],
   "source": [
    "print(float (1))\n",
    "print(float(1.5))"
   ]
  },
  {
   "cell_type": "code",
   "execution_count": 19,
   "id": "08c34f2d-d219-458d-a474-a5cfb79de973",
   "metadata": {},
   "outputs": [
    {
     "name": "stdout",
     "output_type": "stream",
     "text": [
      "10\n",
      "10.5\n"
     ]
    }
   ],
   "source": [
    "print(eval('10'))\n",
    "print(eval('10.5'))"
   ]
  },
  {
   "cell_type": "code",
   "execution_count": 21,
   "id": "4d5a25b5-1260-4ea9-8441-6191ca38e79d",
   "metadata": {},
   "outputs": [
    {
     "name": "stdin",
     "output_type": "stream",
     "text": [
      "enter number 1: 10\n",
      "enter number 2: 20.5\n"
     ]
    },
    {
     "name": "stdout",
     "output_type": "stream",
     "text": [
      "30.5\n"
     ]
    }
   ],
   "source": [
    "n1= eval(input(\"enter number 1:\"));\n",
    "n2= eval(input(\"enter number 2:\"));\n",
    "n3= n1+n2\n",
    "print(n3)\n"
   ]
  },
  {
   "cell_type": "code",
   "execution_count": null,
   "id": "2419a63d-8ad7-4efc-9c15-31ae5151637a",
   "metadata": {},
   "outputs": [],
   "source": []
  }
 ],
 "metadata": {
  "kernelspec": {
   "display_name": "Python [conda env:base] *",
   "language": "python",
   "name": "conda-base-py"
  },
  "language_info": {
   "codemirror_mode": {
    "name": "ipython",
    "version": 3
   },
   "file_extension": ".py",
   "mimetype": "text/x-python",
   "name": "python",
   "nbconvert_exporter": "python",
   "pygments_lexer": "ipython3",
   "version": "3.12.7"
  }
 },
 "nbformat": 4,
 "nbformat_minor": 5
}
