{
 "cells": [
  {
   "cell_type": "markdown",
   "id": "3d625e1e-880b-429d-8646-0f12cb3ba0f6",
   "metadata": {},
   "source": [
    "**1.WAP to print sqaure of first 5 numbers**"
   ]
  },
  {
   "cell_type": "code",
   "execution_count": 4,
   "id": "9dd5081b-62fa-4327-b01d-8803b9c2f9e6",
   "metadata": {},
   "outputs": [
    {
     "name": "stdout",
     "output_type": "stream",
     "text": [
      "sqare of 1:1\n",
      "sqare of 2:4\n",
      "sqare of 3:9\n",
      "sqare of 4:16\n",
      "sqare of 5:25\n"
     ]
    }
   ],
   "source": [
    "i=1;\n",
    "while i<=5:\n",
    "    temp=i*i;\n",
    "    print(f\"sqare of {i}:{temp}\");\n",
    "    i=i+1;\n"
   ]
  },
  {
   "cell_type": "markdown",
   "id": "c6674a4a-954a-4c71-94fb-28a15b45d44f",
   "metadata": {},
   "source": [
    "**2.WAP to ask user to enter number and print sqare of it, prompt should come for 5 times**"
   ]
  },
  {
   "cell_type": "code",
   "execution_count": 19,
   "id": "ed277927-1e12-44ac-a1fc-709d964c80df",
   "metadata": {},
   "outputs": [
    {
     "name": "stdin",
     "output_type": "stream",
     "text": [
      "enter any number 2\n"
     ]
    },
    {
     "name": "stdout",
     "output_type": "stream",
     "text": [
      "sqare of 2 : 4\n"
     ]
    },
    {
     "name": "stdin",
     "output_type": "stream",
     "text": [
      "enter any number 3\n"
     ]
    },
    {
     "name": "stdout",
     "output_type": "stream",
     "text": [
      "sqare of 3 : 9\n"
     ]
    },
    {
     "name": "stdin",
     "output_type": "stream",
     "text": [
      "enter any number 4\n"
     ]
    },
    {
     "name": "stdout",
     "output_type": "stream",
     "text": [
      "sqare of 4 : 16\n"
     ]
    },
    {
     "name": "stdin",
     "output_type": "stream",
     "text": [
      "enter any number 5\n"
     ]
    },
    {
     "name": "stdout",
     "output_type": "stream",
     "text": [
      "sqare of 5 : 25\n"
     ]
    },
    {
     "name": "stdin",
     "output_type": "stream",
     "text": [
      "enter any number 6\n"
     ]
    },
    {
     "name": "stdout",
     "output_type": "stream",
     "text": [
      "sqare of 6 : 36\n"
     ]
    }
   ],
   "source": [
    "i=1;\n",
    "while i in range(1,6):\n",
    "    num = eval(input(\"enter any number\"));\n",
    "    temp=num*num;\n",
    "    print(f\"sqare of {num} : {temp}\");\n",
    "    i=i+1;\n",
    "\n",
    "    "
   ]
  },
  {
   "cell_type": "markdown",
   "id": "6bb41ab7-75cf-48dc-acc3-8ebf06a7dec8",
   "metadata": {},
   "source": [
    "**3.print 7th table**\n"
   ]
  },
  {
   "cell_type": "code",
   "execution_count": 26,
   "id": "ce1334c1-0a8a-4ffa-b5b6-9b54ac6f05d9",
   "metadata": {},
   "outputs": [
    {
     "name": "stdin",
     "output_type": "stream",
     "text": [
      "Table to be printed: 7\n"
     ]
    },
    {
     "name": "stdout",
     "output_type": "stream",
     "text": [
      "7*1=7\n",
      "7*2=14\n",
      "7*3=21\n",
      "7*4=28\n",
      "7*5=35\n",
      "7*6=42\n",
      "7*7=49\n",
      "7*8=56\n",
      "7*9=63\n",
      "7*10=70\n"
     ]
    }
   ],
   "source": [
    "i=1;\n",
    "num=eval(input(\"Table to be printed:\"));\n",
    "while i in range(11):\n",
    "    print(f\"{num}*{i}={num*i}\");\n",
    "    i=i+1;"
   ]
  },
  {
   "cell_type": "markdown",
   "id": "24da7cad-85b1-4ec1-8e57-7feb40087fb3",
   "metadata": {},
   "source": [
    "**3.find divisors of 75**"
   ]
  },
  {
   "cell_type": "code",
   "execution_count": 14,
   "id": "2cb09739-e33d-4229-98a5-6f4820203c77",
   "metadata": {},
   "outputs": [
    {
     "name": "stdin",
     "output_type": "stream",
     "text": [
      "enter number 75\n"
     ]
    },
    {
     "name": "stdout",
     "output_type": "stream",
     "text": [
      "1 is divisor of 75\n",
      "3 is divisor of 75\n",
      "5 is divisor of 75\n",
      "15 is divisor of 75\n",
      "25 is divisor of 75\n",
      "75 is divisor of 75\n"
     ]
    }
   ],
   "source": [
    "i=1;\n",
    "count=0;\n",
    "num=eval(input(\"enter number\"));\n",
    "while i in range(num+1):\n",
    "    if num%i==0:\n",
    "        count=count+1;\n",
    "        print(f\"{i} is divisor of {num}\");\n",
    "    i=i+1;\n",
    "        \n"
   ]
  },
  {
   "cell_type": "markdown",
   "id": "5f23db09-32a4-4774-85e8-885d0a1174b7",
   "metadata": {},
   "source": [
    "**4.Sum of first 10 natural numbers**"
   ]
  },
  {
   "cell_type": "code",
   "execution_count": 20,
   "id": "b187ac4a-d7a6-498d-b159-76c495b2c68a",
   "metadata": {},
   "outputs": [
    {
     "name": "stdout",
     "output_type": "stream",
     "text": [
      "55.0\n"
     ]
    }
   ],
   "source": [
    "i=1;\n",
    "sum=0;\n",
    "while i in range(11):\n",
    "    sum=i*(i+1)/2;\n",
    "    i=i+1;\n",
    "print(sum);\n",
    "    \n"
   ]
  },
  {
   "cell_type": "markdown",
   "id": "aa9d40f4-537c-4404-bd06-70fc838b6ed7",
   "metadata": {},
   "source": [
    "**5.find sum of divisors of a number**"
   ]
  },
  {
   "cell_type": "code",
   "execution_count": 23,
   "id": "48296ba3-8d9b-4a01-9c6e-5556732a32cf",
   "metadata": {},
   "outputs": [
    {
     "name": "stdin",
     "output_type": "stream",
     "text": [
      "enter number 75\n"
     ]
    },
    {
     "name": "stdout",
     "output_type": "stream",
     "text": [
      "sum of divisors of 75 is 124\n"
     ]
    }
   ],
   "source": [
    "i=1;\n",
    "sum=0;\n",
    "num=eval(input(\"enter number\"));\n",
    "while i in range(num+1):\n",
    "    if num%i==0:\n",
    "        sum=sum+i;\n",
    "        \n",
    "    i=i+1;\n",
    "print(f\"sum of divisors of {num} is {sum}\");\n",
    "        \n"
   ]
  },
  {
   "cell_type": "markdown",
   "id": "9aa2c75d-82c6-47ec-9fe2-8fb74fcb89cc",
   "metadata": {},
   "source": [
    "**6.find count of divisors**"
   ]
  },
  {
   "cell_type": "code",
   "execution_count": 27,
   "id": "41199456-a493-4443-b9c3-532f828e278f",
   "metadata": {},
   "outputs": [
    {
     "name": "stdin",
     "output_type": "stream",
     "text": [
      "enter number 75\n"
     ]
    },
    {
     "name": "stdout",
     "output_type": "stream",
     "text": [
      "1 is divisor of 75\n",
      "3 is divisor of 75\n",
      "5 is divisor of 75\n",
      "15 is divisor of 75\n",
      "25 is divisor of 75\n",
      "75 is divisor of 75\n",
      "count of divisors of 75 is 6\n"
     ]
    }
   ],
   "source": [
    "i=1;\n",
    "count=0;\n",
    "num=eval(input(\"enter number\"));\n",
    "while i in range(num+1):\n",
    "    if num%i==0:\n",
    "        count=count+1;\n",
    "        print(f\"{i} is divisor of {num}\");\n",
    "    i=i+1;\n",
    "        \n",
    "print(f\"count of divisors of {num} is {count}\");"
   ]
  },
  {
   "cell_type": "markdown",
   "id": "9a769591-d4f1-49a7-a39b-6332e782b080",
   "metadata": {},
   "source": [
    "**7.Get 5 random numbers**\n",
    "-  now perform the even and odd opeation\n",
    "- 1) even count # 2) sum of even numbers 3) odd count 4) sum of add numbers"
   ]
  },
  {
   "cell_type": "code",
   "execution_count": 37,
   "id": "249090cd-a256-4b29-80cb-66650d52d8ca",
   "metadata": {},
   "outputs": [
    {
     "name": "stdout",
     "output_type": "stream",
     "text": [
      "52\n",
      "81\n",
      "96\n",
      "91\n",
      "31\n",
      "count of even numbers is 2 and sum of even num is 148\n",
      "count of odd numbers is 3 and Sum of odd num is 203\n"
     ]
    }
   ],
   "source": [
    "import random;\n",
    "evenCount=0;\n",
    "evenSum=0;\n",
    "oddCount=0;\n",
    "oddSum=0;\n",
    "i=1;\n",
    "while i in range(6):\n",
    "    num=random.randint(1,100);\n",
    "    print(num);\n",
    "    if num%2==0:\n",
    "        evenCount=evenCount+1;\n",
    "        evenSum=evenSum+num;\n",
    "    else:\n",
    "        oddCount=oddCount+1;\n",
    "        oddSum=oddSum+num;\n",
    "    i=i+1;\n",
    "print(f\"count of even numbers is {evenCount} and sum of even num is {evenSum}\");\n",
    "print(f\"count of odd numbers is {oddCount} and Sum of odd num is {oddSum}\");\n"
   ]
  },
  {
   "cell_type": "code",
   "execution_count": 45,
   "id": "99c749ca-56e6-47b5-9c20-aae1d0a3b56d",
   "metadata": {},
   "outputs": [
    {
     "data": {
      "text/plain": [
       "True"
      ]
     },
     "execution_count": 45,
     "metadata": {},
     "output_type": "execute_result"
    }
   ],
   "source": [
    "'a'>'A'"
   ]
  },
  {
   "cell_type": "code",
   "execution_count": 49,
   "id": "43bb2acd-9640-4ea8-8da0-e77d250ebfad",
   "metadata": {},
   "outputs": [
    {
     "data": {
      "text/plain": [
       "97"
      ]
     },
     "execution_count": 49,
     "metadata": {},
     "output_type": "execute_result"
    }
   ],
   "source": [
    "ord('a')"
   ]
  },
  {
   "cell_type": "code",
   "execution_count": 53,
   "id": "a85245c7-d971-4513-8994-160cd63358b8",
   "metadata": {},
   "outputs": [
    {
     "data": {
      "text/plain": [
       "'a'"
      ]
     },
     "execution_count": 53,
     "metadata": {},
     "output_type": "execute_result"
    }
   ],
   "source": [
    "chr(97)"
   ]
  },
  {
   "cell_type": "code",
   "execution_count": null,
   "id": "8d36b11b-4d1b-42dc-b138-d5a01c0f24fb",
   "metadata": {},
   "outputs": [],
   "source": []
  }
 ],
 "metadata": {
  "kernelspec": {
   "display_name": "Python [conda env:base] *",
   "language": "python",
   "name": "conda-base-py"
  },
  "language_info": {
   "codemirror_mode": {
    "name": "ipython",
    "version": 3
   },
   "file_extension": ".py",
   "mimetype": "text/x-python",
   "name": "python",
   "nbconvert_exporter": "python",
   "pygments_lexer": "ipython3",
   "version": "3.12.7"
  }
 },
 "nbformat": 4,
 "nbformat_minor": 5
}
