{
 "cells": [
  {
   "cell_type": "markdown",
   "id": "f76c0e18-caa3-4d8d-87b2-d3b9bf1a1580",
   "metadata": {},
   "source": [
    "**Strings**"
   ]
  },
  {
   "cell_type": "markdown",
   "id": "bfde1ddc-0b06-46b4-9f1f-07a4355904fa",
   "metadata": {},
   "source": [
    "- Initialization\n",
    "- Inbuilt functions\n",
    "    - type\n",
    "    - len\n",
    "    - max\n",
    "    - min\n",
    "    - sorted\n",
    "    - reversed\n",
    "- in\n",
    "- for loop with in\n",
    "- index\n",
    "- for loop with index\n",
    "- mutable immutable\n",
    "- concatenation\n",
    "- methods\n",
    "- conditions"
   ]
  },
  {
   "cell_type": "markdown",
   "id": "f1135dda-a476-436b-8556-4487fb76c8f6",
   "metadata": {},
   "source": [
    "**Initialization**"
   ]
  },
  {
   "cell_type": "code",
   "execution_count": 10,
   "id": "eacb5476-b143-4af9-888d-b9a3436d4916",
   "metadata": {},
   "outputs": [
    {
     "name": "stdout",
     "output_type": "stream",
     "text": [
      "python\n"
     ]
    }
   ],
   "source": [
    "str1='python';\n",
    "str1\n",
    "print(str1)\n",
    "\n"
   ]
  },
  {
   "cell_type": "markdown",
   "id": "40130d93-8580-4d3b-8257-ad914726451b",
   "metadata": {},
   "source": [
    "- Strings defined by using single quotes or double quotes\n",
    "- python by default gives as singe quotes only\n",
    "- when print string using print method, answer will dispaly without quotes"
   ]
  },
  {
   "cell_type": "markdown",
   "id": "8f14ec34-3851-4031-b030-5b1d0f1e392f",
   "metadata": {},
   "source": [
    "**Basic Representation**"
   ]
  },
  {
   "cell_type": "code",
   "execution_count": 4,
   "id": "fd427696-9351-4ff4-93e0-529b2ad3c78f",
   "metadata": {},
   "outputs": [
    {
     "data": {
      "text/plain": [
       "'python'"
      ]
     },
     "execution_count": 4,
     "metadata": {},
     "output_type": "execute_result"
    }
   ],
   "source": [
    "name=\"python\";\n",
    "name"
   ]
  },
  {
   "cell_type": "markdown",
   "id": "c3f21b33-883f-489b-9fbe-d572bc6b029e",
   "metadata": {},
   "source": [
    "**Doc String**\n",
    "\n",
    "- triple quotes means doc string\n",
    "- triple quotes is used to convey information to user"
   ]
  },
  {
   "cell_type": "code",
   "execution_count": 20,
   "id": "02d33522-d899-49fd-a6c1-bee08cfa3ce4",
   "metadata": {},
   "outputs": [],
   "source": [
    "name=\"\"\"way of communicatiing info to user\"\"\""
   ]
  },
  {
   "cell_type": "code",
   "execution_count": 22,
   "id": "2cd55eac-313c-415c-8cc1-378cbab87201",
   "metadata": {},
   "outputs": [
    {
     "data": {
      "text/plain": [
       "'way of communicatiing info to user'"
      ]
     },
     "execution_count": 22,
     "metadata": {},
     "output_type": "execute_result"
    }
   ],
   "source": [
    "name"
   ]
  },
  {
   "cell_type": "markdown",
   "id": "97f455e7-67c5-4d0b-b77d-867e0f02a8cd",
   "metadata": {},
   "source": [
    "**Inbuilt functions**\n"
   ]
  },
  {
   "cell_type": "markdown",
   "id": "7edaabad-ad90-4d82-9637-f7c316548b1e",
   "metadata": {},
   "source": [
    "**type**"
   ]
  },
  {
   "cell_type": "code",
   "execution_count": 9,
   "id": "399827a5-ea56-4a20-b14f-a842d66e2109",
   "metadata": {},
   "outputs": [
    {
     "data": {
      "text/plain": [
       "str"
      ]
     },
     "execution_count": 9,
     "metadata": {},
     "output_type": "execute_result"
    }
   ],
   "source": [
    "name='python';\n",
    "type(name)"
   ]
  },
  {
   "cell_type": "markdown",
   "id": "6fedefe1-df9d-4f21-b39e-f450edb9d842",
   "metadata": {},
   "source": [
    "**len**"
   ]
  },
  {
   "cell_type": "code",
   "execution_count": 16,
   "id": "6904b9bc-4cab-4947-ad3b-9ac113890ec8",
   "metadata": {},
   "outputs": [
    {
     "data": {
      "text/plain": [
       "6"
      ]
     },
     "execution_count": 16,
     "metadata": {},
     "output_type": "execute_result"
    }
   ],
   "source": [
    "len(name)"
   ]
  },
  {
   "cell_type": "code",
   "execution_count": 22,
   "id": "cc13246d-9f28-4fd6-b7bf-10bf3fcc735e",
   "metadata": {},
   "outputs": [
    {
     "data": {
      "text/plain": [
       "['h', 'n', 'o', 'p', 't', 'y']"
      ]
     },
     "execution_count": 22,
     "metadata": {},
     "output_type": "execute_result"
    }
   ],
   "source": [
    "sorted(name)"
   ]
  },
  {
   "cell_type": "code",
   "execution_count": 58,
   "id": "36cd9689-1fbb-4a82-8693-8487e03d3076",
   "metadata": {},
   "outputs": [
    {
     "data": {
      "text/plain": [
       "['t', 't', 's', 'e']"
      ]
     },
     "execution_count": 58,
     "metadata": {},
     "output_type": "execute_result"
    }
   ],
   "source": [
    "sorted('test',reverse=True)"
   ]
  },
  {
   "cell_type": "code",
   "execution_count": 28,
   "id": "c0e2af70-50df-4128-938a-3a4bbe4ac361",
   "metadata": {},
   "outputs": [
    {
     "data": {
      "text/plain": [
       "<reversed at 0x2308398ab60>"
      ]
     },
     "execution_count": 28,
     "metadata": {},
     "output_type": "execute_result"
    }
   ],
   "source": [
    "test=reversed(name)\n",
    "test"
   ]
  },
  {
   "cell_type": "code",
   "execution_count": 27,
   "id": "53b4dafd-dae6-4a44-805a-85611b16b0af",
   "metadata": {},
   "outputs": [
    {
     "name": "stdout",
     "output_type": "stream",
     "text": [
      "nohtyp"
     ]
    }
   ],
   "source": [
    "temp='python';\n",
    "out=reversed(temp)\n",
    "out\n",
    "for i in out:\n",
    "    print(i,end='');"
   ]
  },
  {
   "cell_type": "code",
   "execution_count": 30,
   "id": "0337d9a5-b8b7-413c-8b79-04dc500d1031",
   "metadata": {},
   "outputs": [
    {
     "data": {
      "text/plain": [
       "'h'"
      ]
     },
     "execution_count": 30,
     "metadata": {},
     "output_type": "execute_result"
    }
   ],
   "source": [
    "min(name)"
   ]
  },
  {
   "cell_type": "code",
   "execution_count": 32,
   "id": "ac73d5f0-1002-465c-83aa-aea793f45f97",
   "metadata": {},
   "outputs": [
    {
     "data": {
      "text/plain": [
       "'y'"
      ]
     },
     "execution_count": 32,
     "metadata": {},
     "output_type": "execute_result"
    }
   ],
   "source": [
    "max(name)"
   ]
  },
  {
   "cell_type": "markdown",
   "id": "55908e78-a9a0-4755-9b8d-88164ce1299d",
   "metadata": {},
   "source": [
    "**typecasting**"
   ]
  },
  {
   "cell_type": "code",
   "execution_count": 32,
   "id": "4403e280-6535-4ba6-abd5-3027927be77f",
   "metadata": {},
   "outputs": [
    {
     "data": {
      "text/plain": [
       "['p', 'y', 't', 'h', 'o', 'n']"
      ]
     },
     "execution_count": 32,
     "metadata": {},
     "output_type": "execute_result"
    }
   ],
   "source": [
    "list(temp)"
   ]
  },
  {
   "cell_type": "code",
   "execution_count": 34,
   "id": "71fd8e0c-b205-4904-87c1-bce8612c7a97",
   "metadata": {},
   "outputs": [
    {
     "data": {
      "text/plain": [
       "('p', 'y', 't', 'h', 'o', 'n')"
      ]
     },
     "execution_count": 34,
     "metadata": {},
     "output_type": "execute_result"
    }
   ],
   "source": [
    "tuple(temp)"
   ]
  },
  {
   "cell_type": "code",
   "execution_count": 38,
   "id": "576ed914-7ea4-4861-805e-d4e7e54e1c55",
   "metadata": {},
   "outputs": [
    {
     "data": {
      "text/plain": [
       "{'h', 'n', 'o', 'p', 't', 'y'}"
      ]
     },
     "execution_count": 38,
     "metadata": {},
     "output_type": "execute_result"
    }
   ],
   "source": [
    "set(temp)"
   ]
  },
  {
   "cell_type": "code",
   "execution_count": 40,
   "id": "17febdcb-74ac-4146-951b-ec21c993aac8",
   "metadata": {},
   "outputs": [
    {
     "ename": "ValueError",
     "evalue": "dictionary update sequence element #0 has length 1; 2 is required",
     "output_type": "error",
     "traceback": [
      "\u001b[1;31m---------------------------------------------------------------------------\u001b[0m",
      "\u001b[1;31mValueError\u001b[0m                                Traceback (most recent call last)",
      "Cell \u001b[1;32mIn[40], line 1\u001b[0m\n\u001b[1;32m----> 1\u001b[0m \u001b[38;5;28mdict\u001b[39m(temp)\n",
      "\u001b[1;31mValueError\u001b[0m: dictionary update sequence element #0 has length 1; 2 is required"
     ]
    }
   ],
   "source": [
    "dict(temp)"
   ]
  },
  {
   "cell_type": "code",
   "execution_count": 34,
   "id": "cfc2e745-9561-442d-8b65-8508f2dd62ed",
   "metadata": {},
   "outputs": [
    {
     "name": "stdout",
     "output_type": "stream",
     "text": [
      "30\n"
     ]
    }
   ],
   "source": [
    "#1\n",
    "def add(a,b):\n",
    "    print(a+b);\n",
    "add(a=10,b=20)"
   ]
  },
  {
   "cell_type": "code",
   "execution_count": 36,
   "id": "6fcf491f-4571-4904-b0ab-fa55729a5f12",
   "metadata": {},
   "outputs": [
    {
     "ename": "TypeError",
     "evalue": "add() got some positional-only arguments passed as keyword arguments: 'a'",
     "output_type": "error",
     "traceback": [
      "\u001b[1;31m---------------------------------------------------------------------------\u001b[0m",
      "\u001b[1;31mTypeError\u001b[0m                                 Traceback (most recent call last)",
      "Cell \u001b[1;32mIn[36], line 4\u001b[0m\n\u001b[0;32m      2\u001b[0m \u001b[38;5;28;01mdef\u001b[39;00m \u001b[38;5;21madd\u001b[39m(a,\u001b[38;5;241m/\u001b[39m,b):\n\u001b[0;32m      3\u001b[0m     \u001b[38;5;28mprint\u001b[39m(a\u001b[38;5;241m+\u001b[39mb);\n\u001b[1;32m----> 4\u001b[0m add(a\u001b[38;5;241m=\u001b[39m\u001b[38;5;241m10\u001b[39m,b\u001b[38;5;241m=\u001b[39m\u001b[38;5;241m20\u001b[39m)\n",
      "\u001b[1;31mTypeError\u001b[0m: add() got some positional-only arguments passed as keyword arguments: 'a'"
     ]
    }
   ],
   "source": [
    "#2\n",
    "def add(a,/,b):\n",
    "    print(a+b);\n",
    "add(a=10,b=20);"
   ]
  },
  {
   "cell_type": "code",
   "execution_count": 38,
   "id": "13644f1f-1405-4dbe-8d7f-176233707f76",
   "metadata": {},
   "outputs": [
    {
     "name": "stdout",
     "output_type": "stream",
     "text": [
      "30\n"
     ]
    }
   ],
   "source": [
    "#3\n",
    "def add(a,/,b):\n",
    "    print(a+b);\n",
    "add(10,b=20);"
   ]
  },
  {
   "cell_type": "code",
   "execution_count": 40,
   "id": "f17c85e3-ddd9-4886-a757-ac09b228678c",
   "metadata": {},
   "outputs": [
    {
     "name": "stdout",
     "output_type": "stream",
     "text": [
      "30\n"
     ]
    }
   ],
   "source": [
    "#4\n",
    "def add(a,/,b):\n",
    "    print(a+b);\n",
    "add(10,20)"
   ]
  },
  {
   "cell_type": "markdown",
   "id": "a9114b58-3801-4da4-9521-1fd787d8493e",
   "metadata": {},
   "source": [
    "**Note** \n",
    "- before / don't use argument name**\n",
    "- after / you can use argumrnt name\n",
    "- * means no need to indicate order of arguments"
   ]
  },
  {
   "cell_type": "code",
   "execution_count": 1,
   "id": "921d98cd-fcbf-486a-b0f8-bbb00b66815a",
   "metadata": {},
   "outputs": [
    {
     "data": {
      "text/plain": [
       "'python'"
      ]
     },
     "execution_count": 1,
     "metadata": {},
     "output_type": "execute_result"
    }
   ],
   "source": [
    "str1='python';\n",
    "str1"
   ]
  },
  {
   "cell_type": "code",
   "execution_count": 11,
   "id": "cd20fc61-e7e3-4b3d-b52f-5223bf72cb2c",
   "metadata": {},
   "outputs": [
    {
     "data": {
      "text/plain": [
       "('h', 'h')"
      ]
     },
     "execution_count": 11,
     "metadata": {},
     "output_type": "execute_result"
    }
   ],
   "source": [
    "#access elements using square bracket\n",
    "str1[0],str1[-6]\n",
    "str1[1]\n",
    "str1[2]\n",
    "str1[3],str1[-3]\n",
    "\n"
   ]
  },
  {
   "cell_type": "code",
   "execution_count": 13,
   "id": "a02fd587-e27d-4798-ae74-333af7620298",
   "metadata": {},
   "outputs": [
    {
     "name": "stdout",
     "output_type": "stream",
     "text": [
      "p\n",
      "y\n",
      "t\n",
      "h\n",
      "o\n",
      "n\n"
     ]
    }
   ],
   "source": [
    "str1='python';\n",
    "length=len(str1);\n",
    "for i in range(length):\n",
    "    print(str1[i]);"
   ]
  },
  {
   "cell_type": "code",
   "execution_count": 19,
   "id": "3994add7-0317-40de-ae7a-adb549e2d4d5",
   "metadata": {},
   "outputs": [
    {
     "name": "stdin",
     "output_type": "stream",
     "text": [
      "enter any string how are you?\n"
     ]
    },
    {
     "name": "stdout",
     "output_type": "stream",
     "text": [
      "h\n",
      "o\n",
      "w\n",
      " \n",
      "a\n",
      "r\n",
      "e\n",
      " \n",
      "y\n",
      "o\n",
      "u\n",
      "?\n"
     ]
    }
   ],
   "source": [
    "str1= input(\"enter any string\");\n",
    "for j in range(len(str1)):\n",
    "    print(str1[j]);"
   ]
  },
  {
   "cell_type": "code",
   "execution_count": 37,
   "id": "bfcba4e0-4e28-4be6-b58c-e7cf385463d1",
   "metadata": {},
   "outputs": [
    {
     "name": "stdin",
     "output_type": "stream",
     "text": [
      "Enter any string Yes\n"
     ]
    },
    {
     "name": "stdout",
     "output_type": "stream",
     "text": [
      "positive index of Y is 0\n",
      "negative index of Y is -3\n",
      "positive index of e is 1\n",
      "negative index of e is -2\n",
      "positive index of s is 2\n",
      "negative index of s is -1\n"
     ]
    }
   ],
   "source": [
    "str1= input(\"Enter any string\");\n",
    "length=len(str1);\n",
    "for j in range(len(str1)):\n",
    "    print(f\"positive index of {str1[j]} is {j}\");\n",
    "    neg=j-length;\n",
    "    negElement=str1[neg]\n",
    "    print(f\"negative index of {negElement} is {neg}\");\n",
    "    "
   ]
  },
  {
   "cell_type": "code",
   "execution_count": 33,
   "id": "5eb15102-6e0b-4db5-b2d6-0b4c7c2e74b8",
   "metadata": {},
   "outputs": [
    {
     "data": {
      "text/plain": [
       "('l', 'l')"
      ]
     },
     "execution_count": 33,
     "metadata": {},
     "output_type": "execute_result"
    }
   ],
   "source": [
    "str1[-2],str1[3]"
   ]
  },
  {
   "cell_type": "markdown",
   "id": "fc1b24dc-e911-488f-a7c1-8ccec5bbe342",
   "metadata": {},
   "source": [
    "**When to use in operator, when to use range operator**\n",
    "- in operator directory access the elements\n",
    "- range operator access the elements using index or operator\n",
    "- If you need number, go for range else use in operator directly"
   ]
  },
  {
   "cell_type": "code",
   "execution_count": 53,
   "id": "27f461c4-6b1d-4329-9d0c-35cd92b80740",
   "metadata": {},
   "outputs": [
    {
     "name": "stdout",
     "output_type": "stream",
     "text": [
      "p\n",
      "y\n",
      "t\n",
      "h\n",
      "o\n",
      "n\n"
     ]
    }
   ],
   "source": [
    "# in Operator\n",
    "str1='python';\n",
    "for i in str1:\n",
    "    print(i);"
   ]
  },
  {
   "cell_type": "code",
   "execution_count": 55,
   "id": "fe32b525-50af-49bb-bf57-898d84bac3f6",
   "metadata": {},
   "outputs": [
    {
     "name": "stdout",
     "output_type": "stream",
     "text": [
      "0 p\n",
      "1 y\n",
      "2 t\n",
      "3 h\n",
      "4 o\n",
      "5 n\n"
     ]
    }
   ],
   "source": [
    "#range Operator\n",
    "for i in range(len(str1)):\n",
    "    print(i,str1[i]);"
   ]
  },
  {
   "cell_type": "markdown",
   "id": "db7f9375-fed6-48c7-a516-ae2741ab6c65",
   "metadata": {},
   "source": [
    "**WAP to find the indexese of 'a' in a given string**"
   ]
  },
  {
   "cell_type": "code",
   "execution_count": 64,
   "id": "68a1b319-59e8-4794-932e-693e733aa7e5",
   "metadata": {},
   "outputs": [
    {
     "name": "stdout",
     "output_type": "stream",
     "text": [
      "2\n",
      "6\n",
      "10\n"
     ]
    }
   ],
   "source": [
    "str2=\"Ola Ola Ola\";\n",
    "for i in range(len(str2)):\n",
    "    if str2[i]=='a':\n",
    "        print(i);\n",
    "    "
   ]
  },
  {
   "cell_type": "markdown",
   "id": "9b322504-0d6a-4199-9010-790fc5623678",
   "metadata": {},
   "source": [
    "**WAP to find sum of all indexes of 'a'given string**"
   ]
  },
  {
   "cell_type": "code",
   "execution_count": 68,
   "id": "c1b4cc91-0771-4fcc-a380-46c8945d75af",
   "metadata": {},
   "outputs": [
    {
     "name": "stdout",
     "output_type": "stream",
     "text": [
      "18\n"
     ]
    }
   ],
   "source": [
    "sum=0;\n",
    "for i in range(len(str2)):\n",
    "    if str2[i]=='a':\n",
    "        sum=sum+i;\n",
    "print(sum)"
   ]
  },
  {
   "cell_type": "markdown",
   "id": "b41d2471-5848-4a3c-aa8b-771563d0db2c",
   "metadata": {},
   "source": [
    "**WAP to find number of 'a' in given string**"
   ]
  },
  {
   "cell_type": "code",
   "execution_count": 75,
   "id": "da2a9a9e-c54e-4dc8-8452-264189a29661",
   "metadata": {},
   "outputs": [
    {
     "name": "stdout",
     "output_type": "stream",
     "text": [
      "3\n"
     ]
    }
   ],
   "source": [
    "count=0;\n",
    "for i in range(len(str2)):\n",
    "    if str2[i]=='a':\n",
    "        count=count+1;\n",
    "print(count)"
   ]
  },
  {
   "cell_type": "markdown",
   "id": "ab509b75-894c-47a9-aee7-1c2cfeeb8fdd",
   "metadata": {},
   "source": [
    "**WAP to find vowles and its count in a given sring**"
   ]
  },
  {
   "cell_type": "code",
   "execution_count": 80,
   "id": "e7d7b5ea-426b-4faa-8412-bd4ca43c8c7a",
   "metadata": {},
   "outputs": [
    {
     "name": "stdout",
     "output_type": "stream",
     "text": [
      "a\n",
      "i\n",
      "o\n",
      "a\n",
      "e\n",
      "o\n",
      "u\n",
      "count of vowlels 7\n"
     ]
    }
   ],
   "source": [
    "str3='hai how are you';\n",
    "count=0;\n",
    "for i in str3:\n",
    "    if i in 'aeiou':\n",
    "        print(i);\n",
    "        count=count+1;\n",
    "print(f\"count of vowlels {count}\");"
   ]
  },
  {
   "cell_type": "markdown",
   "id": "7b6b9c11-ff1f-4bce-941e-a111a08656d8",
   "metadata": {},
   "source": [
    "**WAP to find vowles which ar repeatinga nd print only once**"
   ]
  },
  {
   "cell_type": "code",
   "execution_count": 108,
   "id": "52f07952-446c-445f-baba-a01d3f097d21",
   "metadata": {},
   "outputs": [
    {
     "name": "stdout",
     "output_type": "stream",
     "text": [
      "e\n",
      "o\n"
     ]
    }
   ],
   "source": [
    "str3=\"Heelloo\";\n",
    "str4='';\n",
    "for i in str3:\n",
    "    if i in 'aeiou':\n",
    "        if i not in str4:\n",
    "            print(i);\n",
    "            str4=str4+i;\n",
    "            \n",
    "            \n",
    "       \n",
    "        \n",
    "    "
   ]
  },
  {
   "cell_type": "code",
   "execution_count": null,
   "id": "45859b7a-a239-4083-b108-3df27fc5dd3d",
   "metadata": {},
   "outputs": [],
   "source": []
  },
  {
   "cell_type": "markdown",
   "id": "10ad44bf-71c1-4941-bd8c-db1a3f70a844",
   "metadata": {},
   "source": [
    "**Slice**\n",
    "- Slice means cut into pieces\n",
    "- it has same analogy with for loop range\n",
    "- in the for loop range we have start stop step\n",
    "- range(start,stop,step) str[start:stop:step]"
   ]
  },
  {
   "cell_type": "code",
   "execution_count": null,
   "id": "fca82a26-a827-4f4f-b48e-871da73a5928",
   "metadata": {},
   "outputs": [],
   "source": [
    "-17 -16  -15 -14  -13  -12  -11   -10  -9   -8   -7   -6    -5   -4  -3    -2    -1\n",
    "H    E   L    L    O          H    O     W        A    R    E         Y     O    U  "
   ]
  },
  {
   "cell_type": "markdown",
   "id": "5d92c22e-6d48-43cf-9597-937e5ceae67a",
   "metadata": {},
   "source": [
    "**Case1**\n",
    "- **str[:stop]**\n",
    "- by default start = 0\n",
    "- by default step = positive direction 1\n",
    "- last=stop-1 "
   ]
  },
  {
   "cell_type": "code",
   "execution_count": 10,
   "id": "8c91e8c7-0789-4a91-be88-eef1c8d1ba15",
   "metadata": {},
   "outputs": [
    {
     "data": {
      "text/plain": [
       "'Heel'"
      ]
     },
     "execution_count": 10,
     "metadata": {},
     "output_type": "execute_result"
    }
   ],
   "source": [
    "str1= 'Heelow'\n",
    "str1[:4]"
   ]
  },
  {
   "cell_type": "markdown",
   "id": "f69fd5f1-d2f4-46d1-91e6-dc951295953e",
   "metadata": {},
   "source": [
    "**Case 2**\n",
    "  - **str[start:]**\n",
    "- by default start = start value\n",
    "- by default step = positive diretion 1\n",
    "- last =last index\n"
   ]
  },
  {
   "cell_type": "code",
   "execution_count": 6,
   "id": "5058bb96-06cb-41e5-8584-c4b0392cbcbf",
   "metadata": {},
   "outputs": [
    {
     "data": {
      "text/plain": [
       "'elow'"
      ]
     },
     "execution_count": 6,
     "metadata": {},
     "output_type": "execute_result"
    }
   ],
   "source": [
    "str1= 'Heelow'\n",
    "str1[2:]"
   ]
  },
  {
   "cell_type": "markdown",
   "id": "e6019354-ba96-4825-95a2-6013a5319cc0",
   "metadata": {},
   "source": [
    "**Case 3**\n",
    "- **str[start:stop]**\n",
    "- by default start = start value\n",
    "- by default step = positive diretion 1\n",
    "- last =stop -1"
   ]
  },
  {
   "cell_type": "code",
   "execution_count": 16,
   "id": "c0c75c3a-89a9-45f6-bed1-edbde61e45bb",
   "metadata": {},
   "outputs": [
    {
     "data": {
      "text/plain": [
       "'el'"
      ]
     },
     "execution_count": 16,
     "metadata": {},
     "output_type": "execute_result"
    }
   ],
   "source": [
    "str1= 'Heelow'\n",
    "str1[2:4]"
   ]
  },
  {
   "cell_type": "markdown",
   "id": "cdeb0dcc-1bf9-4cbc-88a4-dda5c92a2be3",
   "metadata": {},
   "source": [
    "**Case 4**\n",
    "\n",
    "- **str[start:stop\"step]**\n",
    "- by default start = start value\n",
    "- by default step = step\n",
    "- last =stop -1"
   ]
  },
  {
   "cell_type": "code",
   "execution_count": 22,
   "id": "cac4fd91-190a-43d7-8db4-7e1b8bab313c",
   "metadata": {},
   "outputs": [],
   "source": [
    "#-17  -16  -15   -14   -13  -12     -11  -10    -9    -8    -7     -6    -5     -4     -3    -2    -1\n",
    "# H    E     L     L      O           H    O     W            A      R     E             Y     O      U     \n",
    "# 0    1     2     3      4    5      6    7     8     9      10     11    12     13     14    15     16"
   ]
  },
  {
   "cell_type": "code",
   "execution_count": 26,
   "id": "22038c14-4368-41d4-9d39-93266ccef8b7",
   "metadata": {},
   "outputs": [
    {
     "data": {
      "text/plain": [
       "'Hello how ar'"
      ]
     },
     "execution_count": 26,
     "metadata": {},
     "output_type": "execute_result"
    }
   ],
   "source": [
    "str1=\"Hello how are you\";\n",
    "#Case 1\n",
    "str1[:12]"
   ]
  },
  {
   "cell_type": "code",
   "execution_count": 30,
   "id": "d6ba9283-b8fd-4698-a758-b32ec9e04b7d",
   "metadata": {},
   "outputs": [
    {
     "data": {
      "text/plain": [
       "'llo how are you'"
      ]
     },
     "execution_count": 30,
     "metadata": {},
     "output_type": "execute_result"
    }
   ],
   "source": [
    "#Case 2\n",
    "str1[2:]"
   ]
  },
  {
   "cell_type": "code",
   "execution_count": 32,
   "id": "75e31c59-996b-463b-b581-6dacce9f6e9d",
   "metadata": {},
   "outputs": [
    {
     "data": {
      "text/plain": [
       "'llo how are y'"
      ]
     },
     "execution_count": 32,
     "metadata": {},
     "output_type": "execute_result"
    }
   ],
   "source": [
    "#Case 3\n",
    "str1[2:15]"
   ]
  },
  {
   "cell_type": "code",
   "execution_count": 36,
   "id": "f7d904b4-9bd9-47ca-9c9f-a0a35a210c82",
   "metadata": {},
   "outputs": [
    {
     "data": {
      "text/plain": [
       "''"
      ]
     },
     "execution_count": 36,
     "metadata": {},
     "output_type": "execute_result"
    }
   ],
   "source": [
    "#cASE 4\n",
    "str1[2:15:-1]"
   ]
  },
  {
   "cell_type": "code",
   "execution_count": 42,
   "id": "ffd63347-53cc-4dd6-a95b-2af97111c4f2",
   "metadata": {},
   "outputs": [
    {
     "data": {
      "text/plain": [
       "'l'"
      ]
     },
     "execution_count": 42,
     "metadata": {},
     "output_type": "execute_result"
    }
   ],
   "source": [
    "str1[2:-14:1]"
   ]
  },
  {
   "cell_type": "markdown",
   "id": "9e3c21ed-f527-4c25-9c11-4a12febf86d8",
   "metadata": {},
   "source": [
    "## Methods"
   ]
  },
  {
   "cell_type": "code",
   "execution_count": 47,
   "id": "4505c2d7-e0ec-4893-8902-73d717179413",
   "metadata": {},
   "outputs": [
    {
     "data": {
      "text/plain": [
       "['__add__',\n",
       " '__class__',\n",
       " '__contains__',\n",
       " '__delattr__',\n",
       " '__dir__',\n",
       " '__doc__',\n",
       " '__eq__',\n",
       " '__format__',\n",
       " '__ge__',\n",
       " '__getattribute__',\n",
       " '__getitem__',\n",
       " '__getnewargs__',\n",
       " '__getstate__',\n",
       " '__gt__',\n",
       " '__hash__',\n",
       " '__init__',\n",
       " '__init_subclass__',\n",
       " '__iter__',\n",
       " '__le__',\n",
       " '__len__',\n",
       " '__lt__',\n",
       " '__mod__',\n",
       " '__mul__',\n",
       " '__ne__',\n",
       " '__new__',\n",
       " '__reduce__',\n",
       " '__reduce_ex__',\n",
       " '__repr__',\n",
       " '__rmod__',\n",
       " '__rmul__',\n",
       " '__setattr__',\n",
       " '__sizeof__',\n",
       " '__str__',\n",
       " '__subclasshook__',\n",
       " 'capitalize',\n",
       " 'casefold',\n",
       " 'center',\n",
       " 'count',\n",
       " 'encode',\n",
       " 'endswith',\n",
       " 'expandtabs',\n",
       " 'find',\n",
       " 'format',\n",
       " 'format_map',\n",
       " 'index',\n",
       " 'isalnum',\n",
       " 'isalpha',\n",
       " 'isascii',\n",
       " 'isdecimal',\n",
       " 'isdigit',\n",
       " 'isidentifier',\n",
       " 'islower',\n",
       " 'isnumeric',\n",
       " 'isprintable',\n",
       " 'isspace',\n",
       " 'istitle',\n",
       " 'isupper',\n",
       " 'join',\n",
       " 'ljust',\n",
       " 'lower',\n",
       " 'lstrip',\n",
       " 'maketrans',\n",
       " 'partition',\n",
       " 'removeprefix',\n",
       " 'removesuffix',\n",
       " 'replace',\n",
       " 'rfind',\n",
       " 'rindex',\n",
       " 'rjust',\n",
       " 'rpartition',\n",
       " 'rsplit',\n",
       " 'rstrip',\n",
       " 'split',\n",
       " 'splitlines',\n",
       " 'startswith',\n",
       " 'strip',\n",
       " 'swapcase',\n",
       " 'title',\n",
       " 'translate',\n",
       " 'upper',\n",
       " 'zfill']"
      ]
     },
     "execution_count": 47,
     "metadata": {},
     "output_type": "execute_result"
    }
   ],
   "source": [
    "dir('name')"
   ]
  },
  {
   "cell_type": "code",
   "execution_count": 73,
   "id": "c3e9defc-05d5-44b1-80d9-01c2dfeb0180",
   "metadata": {},
   "outputs": [
    {
     "data": {
      "text/plain": [
       "'WE@LCOME'"
      ]
     },
     "execution_count": 73,
     "metadata": {},
     "output_type": "execute_result"
    }
   ],
   "source": [
    "str1='wE@lcome';\n",
    "str1.upper()"
   ]
  },
  {
   "cell_type": "code",
   "execution_count": 75,
   "id": "9bdd53c0-6968-4b9d-983c-d33d9f152aed",
   "metadata": {},
   "outputs": [
    {
     "data": {
      "text/plain": [
       "'we@lcome'"
      ]
     },
     "execution_count": 75,
     "metadata": {},
     "output_type": "execute_result"
    }
   ],
   "source": [
    "str1.lower()"
   ]
  },
  {
   "cell_type": "code",
   "execution_count": 77,
   "id": "240eaebc-a178-45de-ad53-b02bd889b0a5",
   "metadata": {},
   "outputs": [
    {
     "data": {
      "text/plain": [
       "'We@lcome'"
      ]
     },
     "execution_count": 77,
     "metadata": {},
     "output_type": "execute_result"
    }
   ],
   "source": [
    "str1.capitalize()"
   ]
  },
  {
   "cell_type": "code",
   "execution_count": 79,
   "id": "4c219f4a-1f40-48e4-bd2b-949ec948a952",
   "metadata": {},
   "outputs": [
    {
     "data": {
      "text/plain": [
       "'we@lcome'"
      ]
     },
     "execution_count": 79,
     "metadata": {},
     "output_type": "execute_result"
    }
   ],
   "source": [
    "str1.casefold()"
   ]
  },
  {
   "cell_type": "code",
   "execution_count": 81,
   "id": "31c5d9da-fd4f-4bfc-a138-a6337e240c62",
   "metadata": {},
   "outputs": [
    {
     "data": {
      "text/plain": [
       "'We@Lcome'"
      ]
     },
     "execution_count": 81,
     "metadata": {},
     "output_type": "execute_result"
    }
   ],
   "source": [
    "str1.title()"
   ]
  },
  {
   "cell_type": "code",
   "execution_count": 83,
   "id": "8375ec4d-4bf6-40ed-a4ed-504d09c92360",
   "metadata": {},
   "outputs": [
    {
     "data": {
      "text/plain": [
       "'PYTHON'"
      ]
     },
     "execution_count": 83,
     "metadata": {},
     "output_type": "execute_result"
    }
   ],
   "source": [
    "str1=\"    PYTHON    \"\n",
    "str1.strip()"
   ]
  },
  {
   "cell_type": "code",
   "execution_count": 93,
   "id": "a479798a-c29a-4d32-b615-d73c23967fa9",
   "metadata": {},
   "outputs": [
    {
     "data": {
      "text/plain": [
       "'PYTHON    '"
      ]
     },
     "execution_count": 93,
     "metadata": {},
     "output_type": "execute_result"
    }
   ],
   "source": [
    "str1=\"*********PYTHON    \"\n",
    "str1.lstrip('*')"
   ]
  },
  {
   "cell_type": "code",
   "execution_count": 87,
   "id": "e72bacff-3bf0-4aad-ba58-79ebc82d313c",
   "metadata": {},
   "outputs": [
    {
     "data": {
      "text/plain": [
       "'*********PYTHON'"
      ]
     },
     "execution_count": 87,
     "metadata": {},
     "output_type": "execute_result"
    }
   ],
   "source": [
    "str1=\"*********PYTHON    \"\n",
    "str1.rstrip()"
   ]
  },
  {
   "cell_type": "code",
   "execution_count": 91,
   "id": "88dbf8c6-1d61-450f-ab9d-a33218398141",
   "metadata": {},
   "outputs": [
    {
     "data": {
      "text/plain": [
       "'*********PYTHON'"
      ]
     },
     "execution_count": 91,
     "metadata": {},
     "output_type": "execute_result"
    }
   ],
   "source": [
    "str1=\"*********PYTHON*****\"\n",
    "str1.rstrip('*')"
   ]
  },
  {
   "cell_type": "code",
   "execution_count": 95,
   "id": "cc1d77f8-6b28-430d-8e32-28f1c53b0d5c",
   "metadata": {},
   "outputs": [
    {
     "data": {
      "text/plain": [
       "'PYTHON'"
      ]
     },
     "execution_count": 95,
     "metadata": {},
     "output_type": "execute_result"
    }
   ],
   "source": [
    "str1=\"*********PYTHON*****\"\n",
    "str1.strip('*')"
   ]
  },
  {
   "cell_type": "markdown",
   "id": "c44dce7b-df83-4772-b03d-37bf2c8d8b57",
   "metadata": {},
   "source": [
    "**COUNT**"
   ]
  },
  {
   "cell_type": "code",
   "execution_count": 2,
   "id": "2da39bd7-33ac-4d1d-bc13-6dd3d7358e14",
   "metadata": {},
   "outputs": [
    {
     "name": "stdout",
     "output_type": "stream",
     "text": [
      "4\n"
     ]
    }
   ],
   "source": [
    "count=0;\n",
    "str1=\"ola ola ola ola\";\n",
    "for i in str1:\n",
    "    if i=='a':\n",
    "        count=count+1;\n",
    "print(count);"
   ]
  },
  {
   "cell_type": "code",
   "execution_count": 6,
   "id": "70a6e27f-983e-483a-87c4-f13875f53e90",
   "metadata": {},
   "outputs": [
    {
     "name": "stdout",
     "output_type": "stream",
     "text": [
      "4\n"
     ]
    }
   ],
   "source": [
    "print(str1.count('a'));\n"
   ]
  },
  {
   "cell_type": "code",
   "execution_count": 8,
   "id": "db44a85c-ef42-4805-a18e-4e446ce9ed85",
   "metadata": {},
   "outputs": [
    {
     "name": "stdout",
     "output_type": "stream",
     "text": [
      "4\n"
     ]
    }
   ],
   "source": [
    "print(str1.count('ola'));"
   ]
  },
  {
   "cell_type": "code",
   "execution_count": 18,
   "id": "6da33497-7595-40b4-9394-55d644454dda",
   "metadata": {},
   "outputs": [
    {
     "name": "stdout",
     "output_type": "stream",
     "text": [
      "2\n"
     ]
    }
   ],
   "source": [
    "print(str1.count('a',4,11));\n",
    "# start=4 last=stop-1"
   ]
  },
  {
   "cell_type": "code",
   "execution_count": 32,
   "id": "573cc80c-b48c-4f5a-8044-f3e360da794c",
   "metadata": {},
   "outputs": [
    {
     "name": "stdout",
     "output_type": "stream",
     "text": [
      "0\n"
     ]
    }
   ],
   "source": [
    "print(str1.count('a',-5,0));"
   ]
  },
  {
   "cell_type": "code",
   "execution_count": null,
   "id": "1bdc55af-934b-49a8-857f-350a169c35bc",
   "metadata": {},
   "outputs": [],
   "source": [
    "#-15  -14 -13  -12  -11  -10  -9   -8   -7  -6  -5   -4    -3  -2   -1  \n",
    " O    L    A        O    L    A        O   L    A         O   L     A\n",
    "# 0    1    2   3    4    5    6    7   8   9    10  11    12  13   14\n"
   ]
  },
  {
   "cell_type": "code",
   "execution_count": 36,
   "id": "de01fc34-d3ac-4c55-a686-80db8f6d5688",
   "metadata": {},
   "outputs": [
    {
     "name": "stdout",
     "output_type": "stream",
     "text": [
      "4\n"
     ]
    }
   ],
   "source": [
    "count=0;\n",
    "str1=\"ola ola ola ola\";\n",
    "array= str1.split(' ');\n",
    "for i in array:\n",
    "    if i=='ola':\n",
    "        count=count+1;\n",
    "print(count);"
   ]
  },
  {
   "cell_type": "code",
   "execution_count": 60,
   "id": "19b05f3f-9216-4ca3-99ce-7b556bfd03b0",
   "metadata": {},
   "outputs": [],
   "source": [
    "x=str1[0:len(str1):3]"
   ]
  },
  {
   "cell_type": "code",
   "execution_count": 62,
   "id": "16b38f3a-527a-47c5-a1c6-2a65e70db094",
   "metadata": {},
   "outputs": [
    {
     "name": "stdout",
     "output_type": "stream",
     "text": [
      "o alo\n"
     ]
    }
   ],
   "source": [
    "print(x)"
   ]
  },
  {
   "cell_type": "code",
   "execution_count": 70,
   "id": "68db8a1f-d3ca-4ed1-a917-6755eb602209",
   "metadata": {},
   "outputs": [
    {
     "name": "stdout",
     "output_type": "stream",
     "text": [
      "15\n"
     ]
    }
   ],
   "source": []
  },
  {
   "cell_type": "markdown",
   "id": "0e7d4922-16b3-4e4c-a056-9dfd59074717",
   "metadata": {},
   "source": [
    "**Sliding Window approach**\n",
    "- fix the slice value first   **str[i:i+3]**\n",
    "  \n",
    "- then increase the slice by 1   **for i in range(len(str1)):**\n",
    "\n",
    "- whenever it is equal to substring  **str1[i:i+3]=='ola';**\n",
    "\n",
    "\n",
    "- then update the count by 1      **count=count+1**"
   ]
  },
  {
   "cell_type": "code",
   "execution_count": 78,
   "id": "edf1c6c8-5191-4ffb-8b12-406639270955",
   "metadata": {},
   "outputs": [
    {
     "name": "stdout",
     "output_type": "stream",
     "text": [
      "4\n"
     ]
    }
   ],
   "source": [
    "count=0;\n",
    "str1=\"ola ola ola ola\";\n",
    "for i in range(len(str1)):\n",
    "    if str1[i:i+3]=='ola':  \n",
    "        count=count+1\n",
    "print(count);"
   ]
  },
  {
   "cell_type": "code",
   "execution_count": 96,
   "id": "ed47b96a-88cf-4847-a10e-ff846bbc32ee",
   "metadata": {},
   "outputs": [],
   "source": [
    "str2=str1.replace('ola','rapido',-1);"
   ]
  },
  {
   "cell_type": "code",
   "execution_count": 102,
   "id": "e7f0a2d8-4dec-4ce6-886c-e8624d6946c8",
   "metadata": {},
   "outputs": [
    {
     "name": "stdout",
     "output_type": "stream",
     "text": [
      "rapido rapido rapido rapido\n"
     ]
    }
   ],
   "source": [
    "print(str2)"
   ]
  },
  {
   "cell_type": "code",
   "execution_count": 108,
   "id": "e33963bf-78eb-48da-96f8-2b10392290b2",
   "metadata": {},
   "outputs": [
    {
     "data": {
      "text/plain": [
       "'OLA rapido rapido rapido'"
      ]
     },
     "execution_count": 108,
     "metadata": {},
     "output_type": "execute_result"
    }
   ],
   "source": [
    "str2.replace('rapido','OLA',1)"
   ]
  },
  {
   "cell_type": "markdown",
   "id": "cbeb8db8-a371-4fe6-b1bc-f691aeaed0ac",
   "metadata": {},
   "source": [
    "**REPLACE**\n",
    "- BY default it will replace all occurances\n",
    "- users can provide count whihc indicates how many occrances it should replace\n",
    "- if the substring not found, it will replace original string\n",
    "- "
   ]
  },
  {
   "cell_type": "code",
   "execution_count": 111,
   "id": "35f46b2e-4210-4566-8e75-d8a58815a292",
   "metadata": {},
   "outputs": [
    {
     "data": {
      "text/plain": [
       "['__add__',\n",
       " '__class__',\n",
       " '__contains__',\n",
       " '__delattr__',\n",
       " '__dir__',\n",
       " '__doc__',\n",
       " '__eq__',\n",
       " '__format__',\n",
       " '__ge__',\n",
       " '__getattribute__',\n",
       " '__getitem__',\n",
       " '__getnewargs__',\n",
       " '__getstate__',\n",
       " '__gt__',\n",
       " '__hash__',\n",
       " '__init__',\n",
       " '__init_subclass__',\n",
       " '__iter__',\n",
       " '__le__',\n",
       " '__len__',\n",
       " '__lt__',\n",
       " '__mod__',\n",
       " '__mul__',\n",
       " '__ne__',\n",
       " '__new__',\n",
       " '__reduce__',\n",
       " '__reduce_ex__',\n",
       " '__repr__',\n",
       " '__rmod__',\n",
       " '__rmul__',\n",
       " '__setattr__',\n",
       " '__sizeof__',\n",
       " '__str__',\n",
       " '__subclasshook__',\n",
       " 'capitalize',\n",
       " 'casefold',\n",
       " 'center',\n",
       " 'count',\n",
       " 'encode',\n",
       " 'endswith',\n",
       " 'expandtabs',\n",
       " 'find',\n",
       " 'format',\n",
       " 'format_map',\n",
       " 'index',\n",
       " 'isalnum',\n",
       " 'isalpha',\n",
       " 'isascii',\n",
       " 'isdecimal',\n",
       " 'isdigit',\n",
       " 'isidentifier',\n",
       " 'islower',\n",
       " 'isnumeric',\n",
       " 'isprintable',\n",
       " 'isspace',\n",
       " 'istitle',\n",
       " 'isupper',\n",
       " 'join',\n",
       " 'ljust',\n",
       " 'lower',\n",
       " 'lstrip',\n",
       " 'maketrans',\n",
       " 'partition',\n",
       " 'removeprefix',\n",
       " 'removesuffix',\n",
       " 'replace',\n",
       " 'rfind',\n",
       " 'rindex',\n",
       " 'rjust',\n",
       " 'rpartition',\n",
       " 'rsplit',\n",
       " 'rstrip',\n",
       " 'split',\n",
       " 'splitlines',\n",
       " 'startswith',\n",
       " 'strip',\n",
       " 'swapcase',\n",
       " 'title',\n",
       " 'translate',\n",
       " 'upper',\n",
       " 'zfill']"
      ]
     },
     "execution_count": 111,
     "metadata": {},
     "output_type": "execute_result"
    }
   ],
   "source": [
    "dir(str)"
   ]
  },
  {
   "cell_type": "code",
   "execution_count": 157,
   "id": "f25b8b89-46cc-40b5-8a75-d025630ee065",
   "metadata": {},
   "outputs": [],
   "source": [
    "temp='restart';\n"
   ]
  },
  {
   "cell_type": "code",
   "execution_count": 159,
   "id": "6e8ee1ab-bd09-42ca-b787-dd68cad17729",
   "metadata": {},
   "outputs": [
    {
     "name": "stdout",
     "output_type": "stream",
     "text": [
      "resta\n",
      "rt\n",
      "resta$t\n"
     ]
    }
   ],
   "source": [
    "\n",
    "sub1=temp[0:5]\n",
    "print(sub1);\n",
    "sub2=temp[5:7];\n",
    "print(sub2)\n",
    "sub2=sub2.replace('r','$');\n",
    "sub3=sub1+sub2;\n",
    "print(sub3)"
   ]
  },
  {
   "cell_type": "code",
   "execution_count": 169,
   "id": "f26b1865-78f1-49ef-a1f4-e3eb5e587935",
   "metadata": {},
   "outputs": [
    {
     "data": {
      "text/plain": [
       "'resta$t'"
      ]
     },
     "execution_count": 169,
     "metadata": {},
     "output_type": "execute_result"
    }
   ],
   "source": [
    "temp[::-1].replace('r','$',1)[::-1]"
   ]
  },
  {
   "cell_type": "markdown",
   "id": "90fbe787-f746-442c-9d0d-d14140a12fe4",
   "metadata": {},
   "source": [
    "**Index**"
   ]
  },
  {
   "cell_type": "code",
   "execution_count": 182,
   "id": "da9b217a-8f06-437f-99d2-aa42fcf194bc",
   "metadata": {},
   "outputs": [
    {
     "name": "stdout",
     "output_type": "stream",
     "text": [
      "5\n"
     ]
    }
   ],
   "source": [
    "str1= 'restart restart';\n",
    "test=str1.index('r');\n",
    "print(str1.index('r',1))"
   ]
  },
  {
   "cell_type": "code",
   "execution_count": 204,
   "id": "efcf3d5c-a7dc-428e-84ac-066e604306c6",
   "metadata": {},
   "outputs": [
    {
     "name": "stdout",
     "output_type": "stream",
     "text": [
      "0\n",
      "5\n",
      "8\n",
      "13\n"
     ]
    }
   ],
   "source": [
    "str2= 'restart restart';\n",
    "i1=str2.index('r');\n",
    "print(i1)\n",
    "i2= str2.index('r',1);\n",
    "print(i2)\n",
    "i3= str2.index('r',6);\n",
    "print(i3)\n",
    "i4= str2.index('r',9);\n",
    "print(i4)"
   ]
  },
  {
   "cell_type": "code",
   "execution_count": 223,
   "id": "d81ba7a1-e41e-4219-a8f3-22257070ef29",
   "metadata": {},
   "outputs": [
    {
     "name": "stdout",
     "output_type": "stream",
     "text": [
      "0\n",
      "5\n",
      "8\n",
      "13\n"
     ]
    },
    {
     "ename": "ValueError",
     "evalue": "substring not found",
     "output_type": "error",
     "traceback": [
      "\u001b[1;31m---------------------------------------------------------------------------\u001b[0m",
      "\u001b[1;31mValueError\u001b[0m                                Traceback (most recent call last)",
      "Cell \u001b[1;32mIn[223], line 10\u001b[0m\n\u001b[0;32m      8\u001b[0m i4\u001b[38;5;241m=\u001b[39m str2\u001b[38;5;241m.\u001b[39mindex(\u001b[38;5;124m'\u001b[39m\u001b[38;5;124mr\u001b[39m\u001b[38;5;124m'\u001b[39m,i3\u001b[38;5;241m+\u001b[39m\u001b[38;5;241m1\u001b[39m);\n\u001b[0;32m      9\u001b[0m \u001b[38;5;28mprint\u001b[39m(i4)\n\u001b[1;32m---> 10\u001b[0m i5\u001b[38;5;241m=\u001b[39m str2\u001b[38;5;241m.\u001b[39mindex(\u001b[38;5;124m'\u001b[39m\u001b[38;5;124mr\u001b[39m\u001b[38;5;124m'\u001b[39m,i4\u001b[38;5;241m+\u001b[39m\u001b[38;5;241m1\u001b[39m);\n\u001b[0;32m     11\u001b[0m \u001b[38;5;28mprint\u001b[39m(i5)\n",
      "\u001b[1;31mValueError\u001b[0m: substring not found"
     ]
    }
   ],
   "source": [
    "str2= 'restart restart';\n",
    "i1=str2.index('r');\n",
    "print(i1)\n",
    "i2= str2.index('r',i1+1); # previous index+1\n",
    "print(i2)\n",
    "i3= str2.index('r',i2+1);\n",
    "print(i3)\n",
    "i4= str2.index('r',i3+1);\n",
    "print(i4)\n",
    "i5= str2.index('r',i4+1);\n",
    "print(i5)"
   ]
  },
  {
   "cell_type": "markdown",
   "id": "102cf8b4-fd1b-4878-a658-bb4ac9859d41",
   "metadata": {},
   "source": [
    "**FIND**"
   ]
  },
  {
   "cell_type": "code",
   "execution_count": 221,
   "id": "17dce576-c709-4188-9995-a55a9068cbe6",
   "metadata": {},
   "outputs": [
    {
     "name": "stdout",
     "output_type": "stream",
     "text": [
      "0\n",
      "5\n",
      "8\n",
      "13\n",
      "-1\n"
     ]
    }
   ],
   "source": [
    "str2= 'restart restart';\n",
    "i1=str2.find('r');\n",
    "print(i1)\n",
    "i2= str2.find('r',i1+1); # previous index+1\n",
    "print(i2)\n",
    "i3= str2.find('r',i2+1);\n",
    "print(i3)\n",
    "i4= str2.find('r',i3+1);\n",
    "print(i4)\n",
    "i5= str2.find('r',i4+1);\n",
    "print(i5)"
   ]
  },
  {
   "cell_type": "code",
   "execution_count": null,
   "id": "a949f89e-781d-4a16-87e8-e08161ff2267",
   "metadata": {},
   "outputs": [],
   "source": []
  },
  {
   "cell_type": "code",
   "execution_count": null,
   "id": "5ab2088a-9d23-42d4-b00b-a09c5b196616",
   "metadata": {},
   "outputs": [],
   "source": [
    "practice count,replace,index,find"
   ]
  },
  {
   "cell_type": "markdown",
   "id": "d893f85a-e969-4a72-a1f4-1de4af04938f",
   "metadata": {},
   "source": [
    "**difference between index and find**\n",
    "\n",
    "str1= bsc.chowdary@.com\n",
    "- extract first name\n",
    "- extract lastname\n",
    "- extract company name"
   ]
  },
  {
   "cell_type": "code",
   "execution_count": 34,
   "id": "1f0ed6dd-d825-4ed3-91ec-c132ecfd7e2c",
   "metadata": {},
   "outputs": [
    {
     "data": {
      "text/plain": [
       "3"
      ]
     },
     "execution_count": 34,
     "metadata": {},
     "output_type": "execute_result"
    }
   ],
   "source": [
    "str1= 'bsc.chowdary@google.com'\n",
    "i1= str1.index('.');\n",
    "i1\n"
   ]
  },
  {
   "cell_type": "code",
   "execution_count": 36,
   "id": "5901ff9c-fa6e-41be-94b6-9d898b794775",
   "metadata": {},
   "outputs": [
    {
     "name": "stdout",
     "output_type": "stream",
     "text": [
      "indexi1:  3\n",
      "firstname: bsc\n",
      "index 2: 12\n",
      "lastname:  chowdary\n",
      "index 3: 19\n",
      "copanyname:  google\n"
     ]
    }
   ],
   "source": [
    "#first name\n",
    "i1= str1.find('.');\n",
    "print('indexi1: ',i1)\n",
    "fname= str1[0:i1]\n",
    "print(\"firstname:\",fname)\n",
    "\n",
    "#last name\n",
    "i2= str1.find('@');\n",
    "print('index 2:',i2)\n",
    "lname= str1[i1+1:i2]\n",
    "print(\"lastname: \",lname)\n",
    "\n",
    "#company name\n",
    "\n",
    "i3=str1.find('.',i1+1);\n",
    "print('index 3:',i3)\n",
    "companyName= str1[i2+1:i3];\n",
    "print(\"copanyname: \",companyName)\n",
    "\n",
    "\n",
    "\n"
   ]
  },
  {
   "cell_type": "markdown",
   "id": "c381c53a-16fd-4e37-aa22-da1e69b2ada7",
   "metadata": {},
   "source": [
    "**Split**\n",
    "- split is used to convert string to list of elements"
   ]
  },
  {
   "cell_type": "code",
   "execution_count": null,
   "id": "66bbb22e-fdb3-4c55-8351-2ed0b692dc40",
   "metadata": {},
   "outputs": [],
   "source": []
  }
 ],
 "metadata": {
  "kernelspec": {
   "display_name": "Python [conda env:base] *",
   "language": "python",
   "name": "conda-base-py"
  },
  "language_info": {
   "codemirror_mode": {
    "name": "ipython",
    "version": 3
   },
   "file_extension": ".py",
   "mimetype": "text/x-python",
   "name": "python",
   "nbconvert_exporter": "python",
   "pygments_lexer": "ipython3",
   "version": "3.12.7"
  }
 },
 "nbformat": 4,
 "nbformat_minor": 5
}
