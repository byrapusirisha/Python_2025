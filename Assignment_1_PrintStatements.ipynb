{
 "cells": [
  {
   "cell_type": "markdown",
   "id": "b55432e5-6cb8-41d6-b4de-593f11f546b5",
   "metadata": {},
   "source": [
    "**WAP to calculate area of circle**"
   ]
  },
  {
   "cell_type": "code",
   "execution_count": 174,
   "id": "43181aa4-f989-4209-a054-dbfad7a10c26",
   "metadata": {},
   "outputs": [
    {
     "name": "stdout",
     "output_type": "stream",
     "text": [
      "area of circle with radius 4 is : 18.84\n",
      "area of circle with radius 4 is : 18.84\n"
     ]
    }
   ],
   "source": [
    "radius=4;\n",
    "area=(3.14)*(4^2);\n",
    "# print using format method\n",
    "print(\"area of circle with radius {} is : {}\".format(radius,area));\n",
    "# print using f string\n",
    "print(f\"area of circle with radius {radius} is : {area}\");\n"
   ]
  },
  {
   "cell_type": "markdown",
   "id": "803deb8e-173c-48b5-a8cb-9dc3ab40ff32",
   "metadata": {},
   "source": [
    "**WAP to calculate area of right angled triange**\n"
   ]
  },
  {
   "cell_type": "code",
   "execution_count": 176,
   "id": "b2ba147b-8463-4eb5-80b1-4db6ac19be44",
   "metadata": {},
   "outputs": [
    {
     "name": "stdout",
     "output_type": "stream",
     "text": [
      "Area of triange with height 24 and base 6 is 72.0\n",
      "Aread of triange with height 24 and base 6 is 72.0\n"
     ]
    }
   ],
   "source": [
    "height=24;\n",
    "base= 6;\n",
    "area=(1/2)*(base)*(height);\n",
    "# print using format method\n",
    "print(f\"Area of triange with height {height} and base {base} is {area}\");\n",
    "# print using f string\n",
    "print(\"Aread of triange with height {} and base {} is {}\".format(height,base,area))"
   ]
  },
  {
   "cell_type": "markdown",
   "id": "320bc875-47f5-4d1f-b125-edc2b8c4384c",
   "metadata": {},
   "source": [
    "**WAP to calculate sum of bill amount**"
   ]
  },
  {
   "cell_type": "code",
   "execution_count": 178,
   "id": "7b091964-939f-416f-9549-8ecde57a0174",
   "metadata": {},
   "outputs": [
    {
     "name": "stdout",
     "output_type": "stream",
     "text": [
      "Total Bill amount for bill 1000 and tip 50 is 1050\n",
      "Total Bill Amount for bill 1000 and tip 50 is 1050\n"
     ]
    }
   ],
   "source": [
    "billAmt=1000;\n",
    "tipAmt=50;\n",
    "totalBill=billAmt+tipAmt;\n",
    "# print using format method\n",
    "print(\"Total Bill amount for bill {} and tip {} is {}\".format(billAmt,tipAmt,totalBill));\n",
    "# print using f string\n",
    "print(f\"Total Bill Amount for bill {billAmt} and tip {tipAmt} is {totalBill}\");"
   ]
  },
  {
   "cell_type": "markdown",
   "id": "87328059-8806-43e6-9e06-52c540ff1f6f",
   "metadata": {},
   "source": [
    "**wap calculate area of rectange**\n"
   ]
  },
  {
   "cell_type": "code",
   "execution_count": 180,
   "id": "df72227b-336c-42dd-829d-74f19a5c1249",
   "metadata": {},
   "outputs": [
    {
     "name": "stdout",
     "output_type": "stream",
     "text": [
      "area of rectnagle with length 20 and breadth 30 is 600\n",
      "aread of rectange with length 20 and breadth 30 is 600\n"
     ]
    }
   ],
   "source": [
    "rec_len=20;\n",
    "rec_breadth= 30;\n",
    "areaRec= rec_len*rec_breadth;\n",
    "#print using format\n",
    "print(\"area of rectnagle with length {} and breadth {} is {}\".format(rec_len,rec_breadth,areaRec));\n",
    "#print using f string\n",
    "print(f\"aread of rectange with length {rec_len} and breadth {rec_breadth} is {areaRec}\");\n"
   ]
  },
  {
   "cell_type": "code",
   "execution_count": null,
   "id": "01d17ffc-bf78-4163-b453-167831b7cadb",
   "metadata": {},
   "outputs": [],
   "source": []
  }
 ],
 "metadata": {
  "kernelspec": {
   "display_name": "Python [conda env:base] *",
   "language": "python",
   "name": "conda-base-py"
  },
  "language_info": {
   "codemirror_mode": {
    "name": "ipython",
    "version": 3
   },
   "file_extension": ".py",
   "mimetype": "text/x-python",
   "name": "python",
   "nbconvert_exporter": "python",
   "pygments_lexer": "ipython3",
   "version": "3.12.7"
  }
 },
 "nbformat": 4,
 "nbformat_minor": 5
}
